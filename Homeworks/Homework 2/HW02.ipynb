{
 "cells": [
  {
   "cell_type": "markdown",
   "id": "f1cd952a",
   "metadata": {},
   "source": [
    "# Homework 2 \n"
   ]
  },
  {
   "cell_type": "code",
   "execution_count": 124,
   "id": "d574cbc4",
   "metadata": {},
   "outputs": [],
   "source": [
    "import pandas as pd\n",
    "import numpy as np\n",
    "from matplotlib import pyplot as plt\n",
    "from sklearn.model_selection import train_test_split\n",
    "from sklearn.preprocessing import StandardScaler\n",
    "TODO = \"****TODO****\"\n",
    "from sklearn.linear_model import LinearRegression, SGDRegressor"
   ]
  },
  {
   "cell_type": "markdown",
   "id": "4628dab6",
   "metadata": {},
   "source": [
    "## Problem 1: Implementing Linear Regression\n",
    "\n",
    "Let's first implement multiple learning algorithms for linear regression. Remember our hypothesis function is\n",
    "\n",
    "$$h(x;w) = w_0 + w_1  x_1 + w_2 x_2 + \\cdots$$\n",
    "\n",
    "In this case we are going to be learning just a single dimensional linear regression\n",
    "\n",
    "$$h(x;w) = w_0 + w_1 x_1$$\n",
    "\n",
    "Prompts\n",
    "\n",
    "1.1: LinearRegression\n",
    "- 1.1.1: Learn the linear regression model using a scikit learn package: `sklearn.linear_model import LinearRegression`. This learning algorithm uses linear least squares for a closed-form solution. Create an instance and then run `LinearRegression().fit(...)`. Report the learned weights w=[w_0, w_1]. Hint: use classifier.coef_ and classifier.intercept_. \n",
    "- 1.1.2: Report the train mean-square-error and test mean-squared-error for LinearRegression.\n",
    "\n",
    "1.2: SGDRegressor\n",
    "- 1.2.1: Learn the linear regression model using a scikit learn package `sklearn.linear_model import SGDRegressor`. This learning algorithm uses stochastic gradient descent to solve linear regression. Create an instance and then run `SGDRegressor(alpha=10).fit(...)`. Report the learned weights w=[w_0, w_1]. Hint: use classifier.coef_ and classifier.intercept_. \n",
    "- 1.2.2: Report the train mean-square-error and test mean-squared-error for SGDRegressor.\n",
    "\n",
    "1.3: Least Squares\n",
    "- 1.3.1: Solve for w_0, w_1 using linear least squares. Hint consider using `np.linalg.lstsq`. Report the learned weights `w=[w_0, w_1]`. Don't forget to add the column of 1s to your X matrix.\n",
    "- 1.3.2: Report the train mean-square-error and test mean-squared-error.\n",
    "\n",
    "1.4: Implement Gradient Descent\n",
    "- 1.4.1: Finish implementation of `gradient_of_mean_squared_error` for linear regression. Print the average of the gradient for the training data for a weight vector of `w=[0, 0]`. (Hint: use `gradient_of_mean_squared_error(...).mean(axis=0)`)\n",
    "- 1.4.2: Finish implementation of `batch_gradient_descent_epoch` for linear regression. Print out the new weights after running this for a single iteration starting from `w=[0, 0]` with alpha=`10`)\n",
    "- 1.4.3: Run `500 epochs` (steps) of gradient descent starting from `w=[0, 0]` with `alpha=10`. Create a plot where the y-axis is the train MeanSquaredError and the x-axis the epoch #.\n",
    "- 1.4.4: Try various values of alpha, num_epochs, and initial values of w (note, see how the error plot changes with alpha. Consider trying various alphas at 10x apart: `[..., 1000, 100, 10, 1, 0.01, 0.001,...]`). Discuss what happens with various choices. What was the best alpha you found? How many epochs should you run? What is a good initialization for w?\n",
    "- 1.4.5: Report solution for `w=[w_0, w_1]` for the best run of gradient descent. \n",
    "- 1.4.6: Report the train mean-square-error and test mean-squared-error for these weights.\n",
    "\n",
    "1.5: Are the weights learned the same between all three approaches? Is the mean-squared-error the same? Discuss.\n",
    "\n",
    "1.6: Extra credit: Why did we apply `X = StandardScaler().fit_transform(X)` to our LotArea X feature? What happens if we remove it?"
   ]
  },
  {
   "cell_type": "code",
   "execution_count": 125,
   "id": "45afd93d",
   "metadata": {},
   "outputs": [],
   "source": [
    "# Code to implement linear regression prediction and mean squared error.\n",
    "def linear_regression_predict(x: np.array, w: np.array) -> float:\n",
    "    return w[0] + x.dot(w[1:])\n",
    "\n",
    "def mean_squared_error(y_true, y_predicted) -> float:\n",
    "  n = len(y)\n",
    "  error = 0\n",
    "  for truth, prediction in zip(y_true, y_predicted):\n",
    "    absolute_error = truth - prediction\n",
    "    error += absolute_error * absolute_error\n",
    "  return error/n"
   ]
  },
  {
   "cell_type": "code",
   "execution_count": 126,
   "id": "ca2d3ec8",
   "metadata": {},
   "outputs": [],
   "source": [
    "# Load the heart disease dataset:\n",
    "columns = ['LotArea', 'SalePrice']\n",
    "housing_prices_dataframe = pd.read_csv(\"../../data/housing_prices.csv\")[columns]\n",
    "housing_prices_dataframe['SalePrice'] /= 1000\n",
    "housing_prices_dataframe['SalePrice'] \n",
    "\n",
    "# Select out X and Y\n",
    "X = housing_prices_dataframe[['LotArea']].values\n",
    "y = housing_prices_dataframe['SalePrice'].values\n",
    "\n",
    "# Apply standard scaler to X.\n",
    "X = StandardScaler().fit_transform(X)\n",
    "\n",
    "# =======================================================\n",
    "# Our train and test dataset for this problem.\n",
    "# =======================================================\n",
    "X_train, X_test, y_train, y_test = train_test_split(X, y, test_size=0.30, random_state=42)"
   ]
  },
  {
   "cell_type": "code",
   "execution_count": 127,
   "id": "7a68db26",
   "metadata": {},
   "outputs": [
    {
     "name": "stdout",
     "output_type": "stream",
     "text": [
      "Solution to 1.1.1: linear regression weights are: [180.90095813968003, array([17.9705058])]\n"
     ]
    }
   ],
   "source": [
    "# Question 1.1.1\n",
    "lr = LinearRegression().fit(X_train, y_train)\n",
    "print(f\"Solution to 1.1.1: linear regression weights are: {[lr.intercept_, lr.coef_]}\")"
   ]
  },
  {
   "cell_type": "code",
   "execution_count": 128,
   "id": "f5c4b177",
   "metadata": {},
   "outputs": [
    {
     "name": "stdout",
     "output_type": "stream",
     "text": [
      "Solution to 1.1.2: Train MSE: 3921.823323480261, Test MSE; 1954.8256551478441\n"
     ]
    }
   ],
   "source": [
    "# Question to 1.1.2\n",
    "print(f\"Solution to 1.1.2: Train MSE: {mean_squared_error(y_train, lr.predict(X_train))}, Test MSE; {mean_squared_error(y_test, lr.predict(X_test))}\")"
   ]
  },
  {
   "cell_type": "code",
   "execution_count": 147,
   "id": "40f7baf6",
   "metadata": {},
   "outputs": [
    {
     "name": "stdout",
     "output_type": "stream",
     "text": [
      "Solution to 1.2.1: weights are: [array([181.31703216]), array([3.4115611])]\n"
     ]
    }
   ],
   "source": [
    "# Question 1.2.1\n",
    "sgd = SGDRegressor(alpha=10).fit(X_train, y_train)\n",
    "print(f\"Solution to 1.2.1: weights are: {[sgd.intercept_, sgd.coef_]}\")"
   ]
  },
  {
   "cell_type": "code",
   "execution_count": 130,
   "id": "b9fc71bc",
   "metadata": {},
   "outputs": [
    {
     "name": "stdout",
     "output_type": "stream",
     "text": [
      "Solution to 1.2.2: Train MSE: 3922.193009001176, Test MSE; 1958.5537958888472\n"
     ]
    }
   ],
   "source": [
    "# Question to 1.2.2\n",
    "print(f\"Solution to 1.2.2: Train MSE: {mean_squared_error(y_train, sgd.predict(X_train))}, Test MSE; {mean_squared_error(y_test, sgd.predict(X_test))}\")"
   ]
  },
  {
   "cell_type": "code",
   "execution_count": 131,
   "id": "b9cd6176",
   "metadata": {},
   "outputs": [
    {
     "name": "stdout",
     "output_type": "stream",
     "text": [
      "Solution to 1.3.1: (array([180.90095814,  17.9705058 ]), array([5725862.05228119]), 2, array([36.31528008, 31.93982835]))\n"
     ]
    }
   ],
   "source": [
    "# Question to 1.3.1\n",
    "# Add a column of 1s to make this easier:\n",
    "X_1s_augmented = np.hstack([np.ones(X_train.shape[0]).reshape(-1, 1), X_train])\n",
    "y_1s = np.linalg.lstsq(X_1s_augmented, y_train, rcond=-1)\n",
    "# TODO implement least squares\n",
    "print(f\"Solution to 1.3.1: {y_1s}\")"
   ]
  },
  {
   "cell_type": "code",
   "execution_count": 132,
   "id": "e2198d85",
   "metadata": {},
   "outputs": [
    {
     "name": "stdout",
     "output_type": "stream",
     "text": [
      "Solution to 1.3.2: Train MSE: [2.24546821e+10 2.24546821e+10], Test MSE; (array([154.5  , 325.   , 115.   , 159.   , 315.5  ,  75.5  , 311.5  ,\n",
      "       146.   ,  84.5  , 135.5  , 145.   , 130.   ,  81.   , 214.   ,\n",
      "       181.   , 134.5  , 183.5  , 135.   , 118.4  , 226.   , 155.   ,\n",
      "       210.   , 173.5  , 129.   , 192.   , 153.9  , 181.134, 141.   ,\n",
      "       181.   , 208.9  , 127.   , 284.   , 200.5  , 135.75 , 255.   ,\n",
      "       140.   , 138.   , 219.5  , 310.   ,  97.   , 114.5  , 205.   ,\n",
      "       119.5  , 253.293, 128.5  , 117.5  , 115.   , 127.   , 451.95 ,\n",
      "       144.   , 119.   , 196.   , 115.   , 287.   , 144.5  , 260.   ,\n",
      "       213.   , 175.   , 107.   , 107.5  ,  68.5  , 154.   , 317.   ,\n",
      "       264.132, 283.463, 243.   , 109.   , 305.   ,  93.5  , 176.   ,\n",
      "       118.858, 134.   , 109.008,  93.5  , 611.657, 173.   , 348.   ,\n",
      "       341.   , 141.   , 124.9  , 118.   ,  67.   , 113.   ,  91.3  ,\n",
      "       149.5  , 133.   , 266.   , 190.   , 155.9  , 155.835, 153.5  ,\n",
      "       152.   , 124.5  , 301.   , 136.5  , 169.99 , 205.   , 183.9  ,\n",
      "       204.9  , 260.   , 163.5  , 224.9  , 244.   , 132.   , 194.   ,\n",
      "       156.5  , 156.   , 275.   , 145.   , 135.   ,  60.   , 124.   ,\n",
      "       127.   , 137.5  , 213.5  , 119.   , 107.9  , 123.   , 112.   ,\n",
      "       284.   , 133.   , 149.   , 169.   , 207.   , 175.   , 137.   ,\n",
      "       236.   ,  79.5  , 144.   , 162.9  , 185.9  , 369.9  , 197.9  ,\n",
      "       104.   ,  35.311, 337.5  , 367.294, 130.25 , 230.   , 755.   ,\n",
      "       403.   , 132.   , 178.   , 136.5  , 145.   , 123.   , 250.   ,\n",
      "       187.1  , 133.9  ,  67.   , 137.5  , 155.   , 200.624, 154.3  ,\n",
      "        91.   , 136.   , 108.959, 140.   ,  86.   , 131.4  , 179.9  ,\n",
      "       144.   , 293.077, 144.5  , 118.5  , 141.   , 239.   , 276.   ,\n",
      "       556.581, 244.4  , 360.   , 103.2  , 102.   , 151.   , 285.   ,\n",
      "       134.432, 113.   , 187.5  , 125.5  , 177.5  , 179.9  ,  55.993,\n",
      "       132.5  , 135.   , 255.   , 140.   , 271.   , 246.578, 202.5  ,\n",
      "        75.   , 122.5  , 108.48 , 160.   , 171.   , 196.   , 225.   ,\n",
      "       197.   ,  40.   , 172.5  , 154.9  , 280.   , 175.   , 147.   ,\n",
      "       315.   , 185.   , 135.5  , 239.5  , 139.   , 140.   , 110.   ,\n",
      "       225.   , 143.5  , 128.95 , 172.5  , 241.5  , 262.5  , 194.201,\n",
      "       143.   , 130.   , 126.   , 142.5  , 254.   , 217.5  ,  66.5  ,\n",
      "       201.   , 155.   ,  68.4  ,  64.5  , 173.   , 102.776,  84.9  ,\n",
      "       165.6  , 120.   , 135.   , 220.   , 153.575, 195.4  , 147.   ,\n",
      "       277.   , 143.   , 105.9  , 242.   , 194.5  , 438.78 , 185.   ,\n",
      "       107.5  , 165.   , 176.   , 129.9  , 115.   , 192.14 , 160.   ,\n",
      "       145.   ,  86.   , 158.   , 127.5  , 115.   , 119.5  , 175.9  ,\n",
      "       240.   , 395.   , 165.   , 128.2  , 275.   , 311.872, 214.   ,\n",
      "       153.5  , 144.   , 115.   , 180.   , 465.   , 180.   , 253.   ,\n",
      "        85.   , 101.8  , 148.5  , 137.5  , 318.061, 143.   , 140.   ,\n",
      "       192.5  ,  92.   , 197.   , 109.5  , 297.   , 185.75 , 230.   ,\n",
      "        89.471, 260.   , 189.   , 108.   , 124.5  , 145.   , 178.   ,\n",
      "        85.   , 175.   , 127.   , 149.9  , 174.   , 125.5  , 175.5  ,\n",
      "       225.   , 129.   , 159.95 , 157.   , 205.   , 140.   , 200.   ,\n",
      "       217.   , 125.   , 159.5  , 184.   ,  96.5  , 200.   , 149.   ,\n",
      "       178.9  , 184.9  , 164.7  , 335.   ,  87.5  , 233.17 , 149.35 ,\n",
      "       133.   ,  98.   , 207.5  , 150.   , 134.9  , 187.75 , 149.5  ,\n",
      "       116.05 , 153.337, 165.   , 130.5  , 206.3  , 146.   , 126.5  ,\n",
      "       139.   , 113.   ,  79.   , 182.   , 188.   , 129.   , 160.   ,\n",
      "       174.   , 219.21 , 310.   , 374.   , 100.   , 250.   , 145.   ,\n",
      "       325.   , 380.   , 275.   , 180.   , 245.35 , 151.5  , 134.5  ,\n",
      "        94.   , 216.   , 350.   , 195.   , 120.   , 228.5  , 248.   ,\n",
      "       124.   , 191.   , 181.   , 105.   , 139.9  , 157.9  , 130.5  ,\n",
      "       172.4  , 130.   , 178.   , 161.5  , 119.9  , 239.   , 190.   ,\n",
      "        85.4  , 205.   , 134.   , 168.   , 185.   , 180.5  , 152.   ,\n",
      "       215.   , 153.   , 106.   , 340.   , 159.   , 120.   , 115.   ,\n",
      "       128.   , 314.813, 131.   , 446.261, 127.5  , 155.   , 177.5  ,\n",
      "       128.5  , 176.   , 402.   , 130.   , 145.   , 147.   , 115.   ,\n",
      "       189.   , 143.   , 240.   , 230.   , 190.   , 213.   ,  82.5  ,\n",
      "       274.9  , 155.   , 423.   , 128.5  , 335.   , 262.   , 129.5  ,\n",
      "       222.5  , 270.   , 207.5  , 175.   , 238.   , 135.9  , 224.   ,\n",
      "       170.   , 185.   , 263.   ,  62.383, 150.   , 171.   , 139.   ,\n",
      "       126.175, 205.95 , 110.   , 485.   ]), (array([180.90095814,  17.9705058 ]), array([5725862.05228119]), 2, array([36.31528008, 31.93982835])))\n"
     ]
    }
   ],
   "source": [
    "# Question to 1.3.2\n",
    "print(f\"Solution to 1.3.2: Train MSE: {mean_squared_error(y_train, y_1s)}, Test MSE; {y_test, y_1s}\")"
   ]
  },
  {
   "cell_type": "markdown",
   "id": "3d9be304",
   "metadata": {},
   "source": [
    "### Gradient Descent for Linear Regression\n",
    "\n",
    "Remember, on each update for gradient descent we need to update our weights as follows:\n",
    "$$w_i^{(k+1)}:= w_i^k - \\alpha \\dfrac{∂}{∂w^{k}} J(w^{k})$$\n",
    "\n",
    "The algorithm then iteratively updates the weights as follows:\n",
    "$$\n",
    "temp_0 := w_0 - \\alpha \\dfrac{∂}{∂{w_0}} J(w)\\\\\n",
    "temp_1 := w_1 - \\alpha \\dfrac{∂}{∂{w_1}} J(w) \\\\\n",
    "w_0 := temp_0 \\\\\n",
    "w_1 := temp_1\n",
    "$$\n",
    "\n",
    "To implement `gradient_of_mean_squared_error` you will need to implement this gradient for each sample and then `batch_gradient_descent_epoch` will sum them up. Remember this is the gradient calculation:\n",
    "\n",
    "$$\n",
    "\\dfrac{∂}{∂w_0}J(w) = \\dfrac{∂}{∂_{w_0}} \\dfrac{1}{N}\\sum_{i}^N (h(x^{(i)}; w) - y^{(i)})^2\n",
    "$$\n",
    "\n",
    "$$\n",
    "\\dfrac{∂}{∂{w_0}}J(w) =\\dfrac{2}{N}\\sum_{i}^N (h(x^{(i)}; w) - y^{(i)})\n",
    "$$\n",
    "\n",
    "$$\n",
    "\\frac{∂}{∂w_1}J(w) = \\frac{∂}{∂w_1} \\frac{1}{N}\\sum_{i}^N (h(x^{(i)}; w) - y^{(i)})^2\n",
    "$$\n",
    "$$\n",
    "\\frac{∂}{∂w_1}J(w) = \\frac{2}{N}\\sum_{i}^N (h(x^{(i)}; w) - y^{(i)}) x^{(i)}\n",
    "$$\n"
   ]
  },
  {
   "cell_type": "code",
   "execution_count": 133,
   "id": "e7ba0753",
   "metadata": {},
   "outputs": [
    {
     "name": "stdout",
     "output_type": "stream",
     "text": [
      "Solution to 1.4.1: [208.61428561]\n"
     ]
    },
    {
     "name": "stderr",
     "output_type": "stream",
     "text": [
      "c:\\users\\azwad\\onedrive\\documents\\projects\\cs_59866\\venv\\lib\\site-packages\\numpy\\core\\_methods.py:163: VisibleDeprecationWarning: Creating an ndarray from ragged nested sequences (which is a list-or-tuple of lists-or-tuples-or ndarrays with different lengths or shapes) is deprecated. If you meant to do this, you must specify 'dtype=object' when creating the ndarray.\n",
      "  arr = asanyarray(a)\n"
     ]
    }
   ],
   "source": [
    "# Solution to 1.4.1\n",
    "def gradient_of_mean_squared_error(X, y, w):\n",
    "    \"\"\"Calculate the gradient of MSE loss with respect to weights w\n",
    "    \n",
    "    Args:\n",
    "      X: N x d matrix of X values (in this case d=1, we only have 1 feature)\n",
    "      y: N x 1 vector of targets\n",
    "      w: weight vector of length d+1 (in this case d=1)\n",
    "      \n",
    "    Return:\n",
    "      d x 1 gradient vector - consisting of gradient of MSE loss. gradient[j] is\n",
    "          the partial derivative of the MSE with respect to weight j averaged\n",
    "          over all the samples\n",
    "    \"\"\"\n",
    "    n = X.shape[0]\n",
    "    k = X.shape[1]    \n",
    "    predicted_y = linear_regression_predict(X, w)\n",
    "    # Implement this:\n",
    "    gradient = [0, 0]\n",
    "\n",
    "    for i in range(n):\n",
    "        gradient[0] += y[i] - predicted_y[i]\n",
    "        gradient[1] += (y[i] - predicted_y[i])*X[i]\n",
    "    gradient[0] = (gradient[0]*2)/n\n",
    "    gradient[1] = (gradient[1]*2)/n\n",
    "\n",
    "    assert(len(gradient) == 2)\n",
    "    return gradient\n",
    "mean_gradient = gradient_of_mean_squared_error(X_train, y_train, [0, 0])\n",
    "print(f\"Solution to 1.4.1: {np.mean(mean_gradient, axis=0)}\")"
   ]
  },
  {
   "cell_type": "code",
   "execution_count": 151,
   "id": "e3b8b5ad",
   "metadata": {},
   "outputs": [
    {
     "name": "stdout",
     "output_type": "stream",
     "text": [
      "Solution to 1.4.2: Single weight update: [-3626.2538551859056, array([-546.03185699])]\n"
     ]
    }
   ],
   "source": [
    "# Question to 1.4.2\n",
    "def batch_gradient_descent_epoch(X, y, w, alpha):\n",
    "    \"\"\"Returns new weights after one step of batch gradient descent\n",
    "    across the entire dataset.\n",
    "    \n",
    "    Args:\n",
    "      X: N x d matrix (in this case d=1, we only have 1 feature)\n",
    "      y: N x 1 vector\n",
    "      w: weight vector of length d+1 (in this case d=1)\n",
    "      alpha: Floating point learning rate.\n",
    "      \n",
    "    Return:\n",
    "      updated weights as a length-2 vector after 1 step of gradient descent.\n",
    "    \"\"\"\n",
    "    n = X.shape[0]\n",
    "    d = X.shape[1]\n",
    "    \n",
    "    # Evaluate the error gradient across the entire dataset. NOTE: there are various\n",
    "    # versions of gradient descent that work differently here. In this case we are running\n",
    "    # what is called 'Batch' gradient descent that updates based off the entire training\n",
    "    # dataset on each epoch. Other techniques are mini-batch which break the dataset into\n",
    "    # small chunks and stochastic gradient descent which uses only one sample at a time.\n",
    "    error_gradient = gradient_of_mean_squared_error(X, y, w)\n",
    "    assert(len(error_gradient) == d+1)\n",
    "    return [(w[0] - (alpha * error_gradient[0])), (w[1] - (alpha * error_gradient[1]))]\n",
    "\n",
    "update = batch_gradient_descent_epoch(X_train, y_train, [0, 0], 10)\n",
    "print(f\"Solution to 1.4.2: Single weight update: {update}\")"
   ]
  },
  {
   "cell_type": "code",
   "execution_count": 154,
   "id": "fae4e8de",
   "metadata": {},
   "outputs": [
    {
     "name": "stdout",
     "output_type": "stream",
     "text": [
      "Solution to 1.4.3: Plot:\n"
     ]
    },
    {
     "data": {
      "text/plain": "[<matplotlib.lines.Line2D at 0x1a5b3a61090>]"
     },
     "execution_count": 154,
     "metadata": {},
     "output_type": "execute_result"
    },
    {
     "data": {
      "text/plain": "<Figure size 640x480 with 1 Axes>",
      "image/png": "[encoded data removed]"
     },
     "metadata": {
      "needs_background": "light"
     },
     "output_type": "display_data"
    }
   ],
   "source": [
    "# Question to 1.4.3\n",
    "from matplotlib.pyplot import figure\n",
    "fig = figure(figsize=(8, 6), dpi=80)\n",
    "alpha = .01\n",
    "weights_gradient_descent = [0, 0]\n",
    "num_epochs = 500\n",
    "errors = []\n",
    "for epoch in range(0, num_epochs):  \n",
    "    # TODO: implement gradient descent loop\n",
    "    # 1. update the weights\n",
    "    predicted_y = linear_regression_predict(X, weights_gradient_descent)\n",
    "    weights_gradient_descent = batch_gradient_descent_epoch(X_train, y_train, weights_gradient_descent, alpha)\n",
    "    #weights_gradient_descent[0] = weights_gradient_descent[0] - ((((y_train[epoch] - predicted_y[epoch])*2)/X_train.shape[0]) * alpha)\n",
    "    #weights_gradient_descent[1] = weights_gradient_descent[1] - ((((y_train[epoch] - predicted_y[epoch]*X_train[epoch])*2)/X_train.shape[0]) * alpha)\n",
    "    # 2. calculate and record the error using the current weights\n",
    "    errors.append(mean_squared_error(y_train, linear_regression_predict(X_train, weights_gradient_descent)))\n",
    "    pass\n",
    "print(\"Solution to 1.4.3: Plot:\")\n",
    "plt.plot(errors)"
   ]
  },
  {
   "cell_type": "code",
   "execution_count": 136,
   "id": "4e3b6a1e",
   "metadata": {},
   "outputs": [],
   "source": [
    "# Question 1.4.4"
   ]
  },
  {
   "cell_type": "code",
   "execution_count": 137,
   "id": "9bdaf5f6",
   "metadata": {},
   "outputs": [
    {
     "name": "stdout",
     "output_type": "stream",
     "text": [
      "Solution to 1.4.5: [array([-3.62288315]), array([-0.55031813])]\n"
     ]
    }
   ],
   "source": [
    "# Question to 1.4.5\n",
    "print(f\"Solution to 1.4.5: {weights_gradient_descent}\")"
   ]
  },
  {
   "cell_type": "code",
   "execution_count": 138,
   "id": "74111908",
   "metadata": {},
   "outputs": [
    {
     "name": "stdout",
     "output_type": "stream",
     "text": [
      "Solution to 1.4.6: MSE: ****TODO****\n"
     ]
    }
   ],
   "source": [
    "# Question to 1.4.6\n",
    "print(f\"Solution to 1.4.6: MSE: {TODO}\")"
   ]
  },
  {
   "cell_type": "code",
   "execution_count": 139,
   "id": "f12ffcfb",
   "metadata": {},
   "outputs": [],
   "source": [
    "# Question 1.5"
   ]
  },
  {
   "cell_type": "code",
   "execution_count": 140,
   "id": "1b9f8897",
   "metadata": {},
   "outputs": [],
   "source": [
    "# Extra Credit Question 1.6"
   ]
  },
  {
   "cell_type": "markdown",
   "id": "de220280",
   "metadata": {},
   "source": [
    "## Problem 2: Implementing Logistic Regression\n",
    "\n",
    "Now we will use logistic regression for classificaton: to predict heart disease using the same dataset as in Homework 1.\n",
    "\n",
    "Gradient descent for logistic regression is very similar to linear regression but not quite the same. \n",
    "\n",
    "Note that in this problem, we are also using 3 different X variables instead of just 1 as in problem 1. Including a column of 1s for the bias term this means `d=4` so our X matrix will be of size `N x 4`, our weight vector will be of length `4`, and error gradient matrix will end up being `N x 4`.\n",
    "\n",
    "\n",
    "2.1: Logistic Regression using Sklearn\n",
    "- 2.1.1: Learn the logistic regression model using a scikit learn package: `sklearn.linear_model import LogisticRegression`. Create an instance and then run `LogisticRegression().fit(...)`. Report the learned weights w=[w_0, w_1, w_2, w_3]. Hint: use classifier.coef_ and classifier.intercept_ to get these out of the trained classifier. \n",
    "- 2.1.2: Report the train log-loss and test log-loss.\n",
    "- 2.1.3: Report the train accuracy and test accuracy using a threshold of 0.5 on the probability prediction to get a classifier.\n",
    "\n",
    "2.2: Gradient Descent for Logistic Regression\n",
    "- 2.2.1: Finish implementation of `gradient_of_log_loss` for logistic regression. Print the average of the gradient for the training data for a weight vector of `w=[0, 0, 0, 0]`. \n",
    "- 2.2.2: Finish implementation of `batch_gradient_descent_logreg_epoch` for logistic regression. Print out the new weights after running this for a single iteration starting from `w=[0, 0, 0, 0]` )\n",
    "- 2.2.3: Run `500 epochs` (steps) of gradient descent starting from `w=[0, 0, 0, 0]` with `alpha=10`. Create a plot where the y-axis is the train log-loss and the x-axis the epoch #.\n",
    "- 2.2.4: Try various values of alpha, num_epochs, and initial values of w (note, see how the error plot changes with alpha. Consider trying various alphas at 10x apart: `[..., 1000, 100, 10, 1, 0.01, 0.001,...]`). Discuss what happens with various choices. What was the best alpha you found? How many epochs should you run? What is a good initialization for w?\n",
    "- 2.2.5: Report learned weights `w` for the best run of gradient descent. \n",
    "- 2.2.6: Report the train mean-square-error and test mean-squared-error for these weights.\n",
    "- 2.2.7: Report the train accuracy and test accuracy using a threshold of 0.5 on the probability prediction to get a classifier.\n",
    "\n",
    "2.3: Derive $\\frac{d \\sigma}{dw}$ where $\\sigma(x;w) = \\frac{1}{1 + e^{-wx}}$\n",
    "\n",
    "2.4: Extra credit: Why did we apply `StandardScaler()` to our varaibles X feature? What happens if we remove it?\n",
    "\n",
    "2.5: Extra credit: We implemented `batch` gradient descent in which each step of gradient descent goes over every single example in the training set. If we wanted to instead implement `mini-batch` in which each step of gradient descent considerd only 50 examples of training data and updated the weights based on that gradient. What would change in our implementation? Discuss.\n"
   ]
  },
  {
   "cell_type": "code",
   "execution_count": 141,
   "id": "71b39381",
   "metadata": {},
   "outputs": [],
   "source": [
    "from sklearn.metrics import log_loss\n",
    "from sklearn.metrics import accuracy_score"
   ]
  },
  {
   "cell_type": "code",
   "execution_count": 142,
   "id": "daec2402",
   "metadata": {},
   "outputs": [
    {
     "ename": "FileNotFoundError",
     "evalue": "[Errno 2] No such file or directory: '../data/heart.csv'",
     "output_type": "error",
     "traceback": [
      "\u001B[1;31m---------------------------------------------------------------------------\u001B[0m",
      "\u001B[1;31mFileNotFoundError\u001B[0m                         Traceback (most recent call last)",
      "Input \u001B[1;32mIn [142]\u001B[0m, in \u001B[0;36m<module>\u001B[1;34m\u001B[0m\n\u001B[0;32m      1\u001B[0m \u001B[38;5;66;03m# Load the heart disease dataset:\u001B[39;00m\n\u001B[0;32m      2\u001B[0m columns \u001B[38;5;241m=\u001B[39m [\u001B[38;5;124m'\u001B[39m\u001B[38;5;124mAge\u001B[39m\u001B[38;5;124m'\u001B[39m, \u001B[38;5;124m'\u001B[39m\u001B[38;5;124mOldpeak\u001B[39m\u001B[38;5;124m'\u001B[39m, \u001B[38;5;124m'\u001B[39m\u001B[38;5;124mMaxHR\u001B[39m\u001B[38;5;124m'\u001B[39m, \u001B[38;5;124m'\u001B[39m\u001B[38;5;124mHeartDisease\u001B[39m\u001B[38;5;124m'\u001B[39m]\n\u001B[1;32m----> 3\u001B[0m heart_disease_dataframe \u001B[38;5;241m=\u001B[39m \u001B[43mpd\u001B[49m\u001B[38;5;241;43m.\u001B[39;49m\u001B[43mread_csv\u001B[49m\u001B[43m(\u001B[49m\u001B[38;5;124;43m\"\u001B[39;49m\u001B[38;5;124;43m../data/heart.csv\u001B[39;49m\u001B[38;5;124;43m\"\u001B[39;49m\u001B[43m)\u001B[49m[columns]\n\u001B[0;32m      5\u001B[0m \u001B[38;5;66;03m# Select out X and Y\u001B[39;00m\n\u001B[0;32m      6\u001B[0m X_hd \u001B[38;5;241m=\u001B[39m heart_disease_dataframe[[\u001B[38;5;124m'\u001B[39m\u001B[38;5;124mAge\u001B[39m\u001B[38;5;124m'\u001B[39m, \u001B[38;5;124m'\u001B[39m\u001B[38;5;124mOldpeak\u001B[39m\u001B[38;5;124m'\u001B[39m, \u001B[38;5;124m'\u001B[39m\u001B[38;5;124mMaxHR\u001B[39m\u001B[38;5;124m'\u001B[39m]]\u001B[38;5;241m.\u001B[39mvalues\n",
      "File \u001B[1;32mc:\\users\\azwad\\onedrive\\documents\\projects\\cs_59866\\venv\\lib\\site-packages\\pandas\\util\\_decorators.py:311\u001B[0m, in \u001B[0;36mdeprecate_nonkeyword_arguments.<locals>.decorate.<locals>.wrapper\u001B[1;34m(*args, **kwargs)\u001B[0m\n\u001B[0;32m    305\u001B[0m \u001B[38;5;28;01mif\u001B[39;00m \u001B[38;5;28mlen\u001B[39m(args) \u001B[38;5;241m>\u001B[39m num_allow_args:\n\u001B[0;32m    306\u001B[0m     warnings\u001B[38;5;241m.\u001B[39mwarn(\n\u001B[0;32m    307\u001B[0m         msg\u001B[38;5;241m.\u001B[39mformat(arguments\u001B[38;5;241m=\u001B[39marguments),\n\u001B[0;32m    308\u001B[0m         \u001B[38;5;167;01mFutureWarning\u001B[39;00m,\n\u001B[0;32m    309\u001B[0m         stacklevel\u001B[38;5;241m=\u001B[39mstacklevel,\n\u001B[0;32m    310\u001B[0m     )\n\u001B[1;32m--> 311\u001B[0m \u001B[38;5;28;01mreturn\u001B[39;00m func(\u001B[38;5;241m*\u001B[39margs, \u001B[38;5;241m*\u001B[39m\u001B[38;5;241m*\u001B[39mkwargs)\n",
      "File \u001B[1;32mc:\\users\\azwad\\onedrive\\documents\\projects\\cs_59866\\venv\\lib\\site-packages\\pandas\\io\\parsers\\readers.py:680\u001B[0m, in \u001B[0;36mread_csv\u001B[1;34m(filepath_or_buffer, sep, delimiter, header, names, index_col, usecols, squeeze, prefix, mangle_dupe_cols, dtype, engine, converters, true_values, false_values, skipinitialspace, skiprows, skipfooter, nrows, na_values, keep_default_na, na_filter, verbose, skip_blank_lines, parse_dates, infer_datetime_format, keep_date_col, date_parser, dayfirst, cache_dates, iterator, chunksize, compression, thousands, decimal, lineterminator, quotechar, quoting, doublequote, escapechar, comment, encoding, encoding_errors, dialect, error_bad_lines, warn_bad_lines, on_bad_lines, delim_whitespace, low_memory, memory_map, float_precision, storage_options)\u001B[0m\n\u001B[0;32m    665\u001B[0m kwds_defaults \u001B[38;5;241m=\u001B[39m _refine_defaults_read(\n\u001B[0;32m    666\u001B[0m     dialect,\n\u001B[0;32m    667\u001B[0m     delimiter,\n\u001B[1;32m   (...)\u001B[0m\n\u001B[0;32m    676\u001B[0m     defaults\u001B[38;5;241m=\u001B[39m{\u001B[38;5;124m\"\u001B[39m\u001B[38;5;124mdelimiter\u001B[39m\u001B[38;5;124m\"\u001B[39m: \u001B[38;5;124m\"\u001B[39m\u001B[38;5;124m,\u001B[39m\u001B[38;5;124m\"\u001B[39m},\n\u001B[0;32m    677\u001B[0m )\n\u001B[0;32m    678\u001B[0m kwds\u001B[38;5;241m.\u001B[39mupdate(kwds_defaults)\n\u001B[1;32m--> 680\u001B[0m \u001B[38;5;28;01mreturn\u001B[39;00m \u001B[43m_read\u001B[49m\u001B[43m(\u001B[49m\u001B[43mfilepath_or_buffer\u001B[49m\u001B[43m,\u001B[49m\u001B[43m \u001B[49m\u001B[43mkwds\u001B[49m\u001B[43m)\u001B[49m\n",
      "File \u001B[1;32mc:\\users\\azwad\\onedrive\\documents\\projects\\cs_59866\\venv\\lib\\site-packages\\pandas\\io\\parsers\\readers.py:575\u001B[0m, in \u001B[0;36m_read\u001B[1;34m(filepath_or_buffer, kwds)\u001B[0m\n\u001B[0;32m    572\u001B[0m _validate_names(kwds\u001B[38;5;241m.\u001B[39mget(\u001B[38;5;124m\"\u001B[39m\u001B[38;5;124mnames\u001B[39m\u001B[38;5;124m\"\u001B[39m, \u001B[38;5;28;01mNone\u001B[39;00m))\n\u001B[0;32m    574\u001B[0m \u001B[38;5;66;03m# Create the parser.\u001B[39;00m\n\u001B[1;32m--> 575\u001B[0m parser \u001B[38;5;241m=\u001B[39m TextFileReader(filepath_or_buffer, \u001B[38;5;241m*\u001B[39m\u001B[38;5;241m*\u001B[39mkwds)\n\u001B[0;32m    577\u001B[0m \u001B[38;5;28;01mif\u001B[39;00m chunksize \u001B[38;5;129;01mor\u001B[39;00m iterator:\n\u001B[0;32m    578\u001B[0m     \u001B[38;5;28;01mreturn\u001B[39;00m parser\n",
      "File \u001B[1;32mc:\\users\\azwad\\onedrive\\documents\\projects\\cs_59866\\venv\\lib\\site-packages\\pandas\\io\\parsers\\readers.py:933\u001B[0m, in \u001B[0;36mTextFileReader.__init__\u001B[1;34m(self, f, engine, **kwds)\u001B[0m\n\u001B[0;32m    930\u001B[0m     \u001B[38;5;28mself\u001B[39m\u001B[38;5;241m.\u001B[39moptions[\u001B[38;5;124m\"\u001B[39m\u001B[38;5;124mhas_index_names\u001B[39m\u001B[38;5;124m\"\u001B[39m] \u001B[38;5;241m=\u001B[39m kwds[\u001B[38;5;124m\"\u001B[39m\u001B[38;5;124mhas_index_names\u001B[39m\u001B[38;5;124m\"\u001B[39m]\n\u001B[0;32m    932\u001B[0m \u001B[38;5;28mself\u001B[39m\u001B[38;5;241m.\u001B[39mhandles: IOHandles \u001B[38;5;241m|\u001B[39m \u001B[38;5;28;01mNone\u001B[39;00m \u001B[38;5;241m=\u001B[39m \u001B[38;5;28;01mNone\u001B[39;00m\n\u001B[1;32m--> 933\u001B[0m \u001B[38;5;28mself\u001B[39m\u001B[38;5;241m.\u001B[39m_engine \u001B[38;5;241m=\u001B[39m \u001B[38;5;28;43mself\u001B[39;49m\u001B[38;5;241;43m.\u001B[39;49m\u001B[43m_make_engine\u001B[49m\u001B[43m(\u001B[49m\u001B[43mf\u001B[49m\u001B[43m,\u001B[49m\u001B[43m \u001B[49m\u001B[38;5;28;43mself\u001B[39;49m\u001B[38;5;241;43m.\u001B[39;49m\u001B[43mengine\u001B[49m\u001B[43m)\u001B[49m\n",
      "File \u001B[1;32mc:\\users\\azwad\\onedrive\\documents\\projects\\cs_59866\\venv\\lib\\site-packages\\pandas\\io\\parsers\\readers.py:1217\u001B[0m, in \u001B[0;36mTextFileReader._make_engine\u001B[1;34m(self, f, engine)\u001B[0m\n\u001B[0;32m   1213\u001B[0m     mode \u001B[38;5;241m=\u001B[39m \u001B[38;5;124m\"\u001B[39m\u001B[38;5;124mrb\u001B[39m\u001B[38;5;124m\"\u001B[39m\n\u001B[0;32m   1214\u001B[0m \u001B[38;5;66;03m# error: No overload variant of \"get_handle\" matches argument types\u001B[39;00m\n\u001B[0;32m   1215\u001B[0m \u001B[38;5;66;03m# \"Union[str, PathLike[str], ReadCsvBuffer[bytes], ReadCsvBuffer[str]]\"\u001B[39;00m\n\u001B[0;32m   1216\u001B[0m \u001B[38;5;66;03m# , \"str\", \"bool\", \"Any\", \"Any\", \"Any\", \"Any\", \"Any\"\u001B[39;00m\n\u001B[1;32m-> 1217\u001B[0m \u001B[38;5;28mself\u001B[39m\u001B[38;5;241m.\u001B[39mhandles \u001B[38;5;241m=\u001B[39m \u001B[43mget_handle\u001B[49m\u001B[43m(\u001B[49m\u001B[43m  \u001B[49m\u001B[38;5;66;43;03m# type: ignore[call-overload]\u001B[39;49;00m\n\u001B[0;32m   1218\u001B[0m \u001B[43m    \u001B[49m\u001B[43mf\u001B[49m\u001B[43m,\u001B[49m\n\u001B[0;32m   1219\u001B[0m \u001B[43m    \u001B[49m\u001B[43mmode\u001B[49m\u001B[43m,\u001B[49m\n\u001B[0;32m   1220\u001B[0m \u001B[43m    \u001B[49m\u001B[43mencoding\u001B[49m\u001B[38;5;241;43m=\u001B[39;49m\u001B[38;5;28;43mself\u001B[39;49m\u001B[38;5;241;43m.\u001B[39;49m\u001B[43moptions\u001B[49m\u001B[38;5;241;43m.\u001B[39;49m\u001B[43mget\u001B[49m\u001B[43m(\u001B[49m\u001B[38;5;124;43m\"\u001B[39;49m\u001B[38;5;124;43mencoding\u001B[39;49m\u001B[38;5;124;43m\"\u001B[39;49m\u001B[43m,\u001B[49m\u001B[43m \u001B[49m\u001B[38;5;28;43;01mNone\u001B[39;49;00m\u001B[43m)\u001B[49m\u001B[43m,\u001B[49m\n\u001B[0;32m   1221\u001B[0m \u001B[43m    \u001B[49m\u001B[43mcompression\u001B[49m\u001B[38;5;241;43m=\u001B[39;49m\u001B[38;5;28;43mself\u001B[39;49m\u001B[38;5;241;43m.\u001B[39;49m\u001B[43moptions\u001B[49m\u001B[38;5;241;43m.\u001B[39;49m\u001B[43mget\u001B[49m\u001B[43m(\u001B[49m\u001B[38;5;124;43m\"\u001B[39;49m\u001B[38;5;124;43mcompression\u001B[39;49m\u001B[38;5;124;43m\"\u001B[39;49m\u001B[43m,\u001B[49m\u001B[43m \u001B[49m\u001B[38;5;28;43;01mNone\u001B[39;49;00m\u001B[43m)\u001B[49m\u001B[43m,\u001B[49m\n\u001B[0;32m   1222\u001B[0m \u001B[43m    \u001B[49m\u001B[43mmemory_map\u001B[49m\u001B[38;5;241;43m=\u001B[39;49m\u001B[38;5;28;43mself\u001B[39;49m\u001B[38;5;241;43m.\u001B[39;49m\u001B[43moptions\u001B[49m\u001B[38;5;241;43m.\u001B[39;49m\u001B[43mget\u001B[49m\u001B[43m(\u001B[49m\u001B[38;5;124;43m\"\u001B[39;49m\u001B[38;5;124;43mmemory_map\u001B[39;49m\u001B[38;5;124;43m\"\u001B[39;49m\u001B[43m,\u001B[49m\u001B[43m \u001B[49m\u001B[38;5;28;43;01mFalse\u001B[39;49;00m\u001B[43m)\u001B[49m\u001B[43m,\u001B[49m\n\u001B[0;32m   1223\u001B[0m \u001B[43m    \u001B[49m\u001B[43mis_text\u001B[49m\u001B[38;5;241;43m=\u001B[39;49m\u001B[43mis_text\u001B[49m\u001B[43m,\u001B[49m\n\u001B[0;32m   1224\u001B[0m \u001B[43m    \u001B[49m\u001B[43merrors\u001B[49m\u001B[38;5;241;43m=\u001B[39;49m\u001B[38;5;28;43mself\u001B[39;49m\u001B[38;5;241;43m.\u001B[39;49m\u001B[43moptions\u001B[49m\u001B[38;5;241;43m.\u001B[39;49m\u001B[43mget\u001B[49m\u001B[43m(\u001B[49m\u001B[38;5;124;43m\"\u001B[39;49m\u001B[38;5;124;43mencoding_errors\u001B[39;49m\u001B[38;5;124;43m\"\u001B[39;49m\u001B[43m,\u001B[49m\u001B[43m \u001B[49m\u001B[38;5;124;43m\"\u001B[39;49m\u001B[38;5;124;43mstrict\u001B[39;49m\u001B[38;5;124;43m\"\u001B[39;49m\u001B[43m)\u001B[49m\u001B[43m,\u001B[49m\n\u001B[0;32m   1225\u001B[0m \u001B[43m    \u001B[49m\u001B[43mstorage_options\u001B[49m\u001B[38;5;241;43m=\u001B[39;49m\u001B[38;5;28;43mself\u001B[39;49m\u001B[38;5;241;43m.\u001B[39;49m\u001B[43moptions\u001B[49m\u001B[38;5;241;43m.\u001B[39;49m\u001B[43mget\u001B[49m\u001B[43m(\u001B[49m\u001B[38;5;124;43m\"\u001B[39;49m\u001B[38;5;124;43mstorage_options\u001B[39;49m\u001B[38;5;124;43m\"\u001B[39;49m\u001B[43m,\u001B[49m\u001B[43m \u001B[49m\u001B[38;5;28;43;01mNone\u001B[39;49;00m\u001B[43m)\u001B[49m\u001B[43m,\u001B[49m\n\u001B[0;32m   1226\u001B[0m \u001B[43m\u001B[49m\u001B[43m)\u001B[49m\n\u001B[0;32m   1227\u001B[0m \u001B[38;5;28;01massert\u001B[39;00m \u001B[38;5;28mself\u001B[39m\u001B[38;5;241m.\u001B[39mhandles \u001B[38;5;129;01mis\u001B[39;00m \u001B[38;5;129;01mnot\u001B[39;00m \u001B[38;5;28;01mNone\u001B[39;00m\n\u001B[0;32m   1228\u001B[0m f \u001B[38;5;241m=\u001B[39m \u001B[38;5;28mself\u001B[39m\u001B[38;5;241m.\u001B[39mhandles\u001B[38;5;241m.\u001B[39mhandle\n",
      "File \u001B[1;32mc:\\users\\azwad\\onedrive\\documents\\projects\\cs_59866\\venv\\lib\\site-packages\\pandas\\io\\common.py:789\u001B[0m, in \u001B[0;36mget_handle\u001B[1;34m(path_or_buf, mode, encoding, compression, memory_map, is_text, errors, storage_options)\u001B[0m\n\u001B[0;32m    784\u001B[0m \u001B[38;5;28;01melif\u001B[39;00m \u001B[38;5;28misinstance\u001B[39m(handle, \u001B[38;5;28mstr\u001B[39m):\n\u001B[0;32m    785\u001B[0m     \u001B[38;5;66;03m# Check whether the filename is to be opened in binary mode.\u001B[39;00m\n\u001B[0;32m    786\u001B[0m     \u001B[38;5;66;03m# Binary mode does not support 'encoding' and 'newline'.\u001B[39;00m\n\u001B[0;32m    787\u001B[0m     \u001B[38;5;28;01mif\u001B[39;00m ioargs\u001B[38;5;241m.\u001B[39mencoding \u001B[38;5;129;01mand\u001B[39;00m \u001B[38;5;124m\"\u001B[39m\u001B[38;5;124mb\u001B[39m\u001B[38;5;124m\"\u001B[39m \u001B[38;5;129;01mnot\u001B[39;00m \u001B[38;5;129;01min\u001B[39;00m ioargs\u001B[38;5;241m.\u001B[39mmode:\n\u001B[0;32m    788\u001B[0m         \u001B[38;5;66;03m# Encoding\u001B[39;00m\n\u001B[1;32m--> 789\u001B[0m         handle \u001B[38;5;241m=\u001B[39m \u001B[38;5;28;43mopen\u001B[39;49m\u001B[43m(\u001B[49m\n\u001B[0;32m    790\u001B[0m \u001B[43m            \u001B[49m\u001B[43mhandle\u001B[49m\u001B[43m,\u001B[49m\n\u001B[0;32m    791\u001B[0m \u001B[43m            \u001B[49m\u001B[43mioargs\u001B[49m\u001B[38;5;241;43m.\u001B[39;49m\u001B[43mmode\u001B[49m\u001B[43m,\u001B[49m\n\u001B[0;32m    792\u001B[0m \u001B[43m            \u001B[49m\u001B[43mencoding\u001B[49m\u001B[38;5;241;43m=\u001B[39;49m\u001B[43mioargs\u001B[49m\u001B[38;5;241;43m.\u001B[39;49m\u001B[43mencoding\u001B[49m\u001B[43m,\u001B[49m\n\u001B[0;32m    793\u001B[0m \u001B[43m            \u001B[49m\u001B[43merrors\u001B[49m\u001B[38;5;241;43m=\u001B[39;49m\u001B[43merrors\u001B[49m\u001B[43m,\u001B[49m\n\u001B[0;32m    794\u001B[0m \u001B[43m            \u001B[49m\u001B[43mnewline\u001B[49m\u001B[38;5;241;43m=\u001B[39;49m\u001B[38;5;124;43m\"\u001B[39;49m\u001B[38;5;124;43m\"\u001B[39;49m\u001B[43m,\u001B[49m\n\u001B[0;32m    795\u001B[0m \u001B[43m        \u001B[49m\u001B[43m)\u001B[49m\n\u001B[0;32m    796\u001B[0m     \u001B[38;5;28;01melse\u001B[39;00m:\n\u001B[0;32m    797\u001B[0m         \u001B[38;5;66;03m# Binary mode\u001B[39;00m\n\u001B[0;32m    798\u001B[0m         handle \u001B[38;5;241m=\u001B[39m \u001B[38;5;28mopen\u001B[39m(handle, ioargs\u001B[38;5;241m.\u001B[39mmode)\n",
      "\u001B[1;31mFileNotFoundError\u001B[0m: [Errno 2] No such file or directory: '../data/heart.csv'"
     ]
    }
   ],
   "source": [
    "# Load the heart disease dataset:\n",
    "columns = ['Age', 'Oldpeak', 'MaxHR', 'HeartDisease']\n",
    "heart_disease_dataframe = pd.read_csv(\"../../data/heart.csv\")[columns]\n",
    "\n",
    "# Select out X and Y\n",
    "X_hd = heart_disease_dataframe[['Age', 'Oldpeak', 'MaxHR']].values\n",
    "y_hd = heart_disease_dataframe['HeartDisease'].values\n",
    "\n",
    "# Apply standard scaler to X.\n",
    "X_hd = StandardScaler().fit_transform(X_hd)\n",
    "\n",
    "# =======================================================\n",
    "# Our train and test dataset for this problem.\n",
    "# =======================================================\n",
    "X_train_hd, X_test_hd, y_train_hd, y_test_hd = train_test_split(X_hd, y_hd, test_size=0.30, random_state=42)"
   ]
  },
  {
   "cell_type": "code",
   "execution_count": null,
   "id": "4be06503",
   "metadata": {},
   "outputs": [],
   "source": [
    "# Question to 2.1.1\n",
    "print(f\"Solution to 2.1.1: weights learned with sklearn LogisticRegression: {TODO}\")"
   ]
  },
  {
   "cell_type": "code",
   "execution_count": null,
   "id": "f401a8c0",
   "metadata": {},
   "outputs": [],
   "source": [
    "# Solution to 2.1.2\n",
    "print(f\"Solution to 2.1.2: Log loss for sklearn LogisticRegression: Train: {TODO}, Test: {TODO}\")"
   ]
  },
  {
   "cell_type": "code",
   "execution_count": null,
   "id": "3509ec04",
   "metadata": {},
   "outputs": [],
   "source": [
    "# Solution to 2.1.3\n",
    "print(f\"Solution to 2.1.3: Accuracy Train: {TODO}, Accuracy Test: {TODO}\")"
   ]
  },
  {
   "cell_type": "markdown",
   "id": "bf3ca92c",
   "metadata": {},
   "source": [
    "### Gradient Descent for Logistic Regression\n",
    "\n",
    "Our hypothesis function for logistic regression is\n",
    "$$h(x; w) = \\frac{1}{1 + e^{-(w_0 + w_1 x_1 + w_2 x_2 + \\dots)}}$$\n",
    "\n",
    "#### Trick: Adding bias term to simplify notation\n",
    "To simplify our notation, we will add a column to x called $x_0$ which always consists of 1s, this makes all our calculations simpler and we can write this in matrix form\n",
    "\n",
    "$$\\frac{1}{1 + e^{-(w_0 x_0 + w_1 x_1 + w_2 x_2 + \\dots)}} :=  \\frac{1}{1 + e^{-w^T  x}}$$\n",
    "\n",
    "#### Vector and Matrix notation\n",
    "\n",
    "Notice we now represent the weights * x as a dot product $w^Tx = w_0 x_0 + w_1x_1 + \\dots$\n",
    "\n",
    "It's always helpful to keep track of dimensions to understand vector/matrix operations:\n",
    "- $w$: is of size $(d x 1)$\n",
    "- $x$ is of size $(d x 1)$\n",
    "- $w^T x$ is a scalar $(1 x 1)$\n",
    "\n",
    "This allows us a nice trick too, we can calculate logistic regression hypothesis function for multiple samples simultaneously using matrix operations. \n",
    "\n",
    "If we introduce a matrix of samples: $X$ is of size $(N x d)$ where each row is a sample and the columns are dimensions, we can then evaluate the entire expression:\n",
    "\n",
    "$X\\cdot w$ is a vector $(N x 1)$\n",
    "\n",
    "$$X\\cdot w = \\begin{pmatrix} \n",
    "w_0 x^{(0)}_0 + w_1x^{(0)}_1 + \\cdots \\\\\n",
    "w_0 x^{(1)}_0 + w_1x^{(1)}_1 + \\cdots \\\\\n",
    "\\cdots \\\\\n",
    "w_0 x^{(N)}_0 + w_1x^{(N)}_1 + \\cdots\n",
    "\\end{pmatrix}$$\n",
    "\n",
    "We can re-write our whole hypothesis function, then, in matrix form:\n",
    "\n",
    "$$h(X;w) :=  \\frac{1}{1 + e^{-X\\cdot w}}$$\n",
    "\n",
    "And in python this is:\n",
    "```def logistic_regression_predict(X, w):\n",
    "    return 1 / (1 + np.exp(-X.dot(w)))```\n",
    "\n",
    "\n",
    "### Deriving Gradient Descent for Logistic Regression\n",
    "\n",
    "Remember, on each update for gradient descent we need to update our weights as follows:\n",
    "$$w_i^{(k+1)}:= w_i^k - \\alpha \\dfrac{∂}{∂w^{k}} J(w^{k})$$\n",
    "\n",
    "The algorithm then iteratively updates all the weights as follows:\n",
    "$$\n",
    "\\forall j: temp_j := w_j - \\alpha \\dfrac{∂}{∂{w_j}} J(w)\\\\\n",
    "\\forall j: w_j := temp_j \\\\\n",
    "$$\n",
    "\n",
    "To implement `gradient_of_log_loss` you will need to implement this gradient for each sample and then `batch_gradient_descent_logreg_epoch` will sum them up. \n",
    "\n",
    "Remember, log loss (also known as binary cross entropy) is defined as follows:\n",
    "\n",
    "$$\n",
    "J(w) = -\\frac{1}{n}\\sum_{i}^n y^{(i)} \\cdot log(h(x^{(i)}; w)) + (1 - y^{(i)}) log(1 - h(x^{(i)}; w))\n",
    "$$\n",
    "\n",
    "The partial gradient turns out to be quite simple using the chain rule if we break up the loss function equation into parts. Note that this uses vector calculus which you may not be familiar with, but it is just using the matrix/vector notation described above.\n",
    "\n",
    "Let:\n",
    "$$g = X\\cdot w$$\n",
    "$$z = \\sigma(g) = \\frac{1}{1 + e^{-g}}$$\n",
    "\n",
    "So that:\n",
    "$$J(w) = -(y \\cdot log(z) + (1 - y) \\cdot log(1 - z))$$\n",
    "\n",
    "Apply the chain rule and you get:\n",
    "$$\n",
    "\\dfrac{∂ J(w)}{∂{w}} = \\dfrac{∂ J(w)}{∂{z}} \\dfrac{∂ z}{∂{g}} \\dfrac{∂ g}{∂{w}} \n",
    "$$\n",
    "\n",
    "The first term is:\n",
    "$$\\dfrac{∂ J(w)}{∂{z}} = -(\\frac{y}{z} - \\frac{1 - y}{1 - z}) = \\frac{z-y}{z(1-z)}$$\n",
    "\n",
    "The derivative of the sigmoid $z$ has a nice simple form:\n",
    "$$\\dfrac{∂ z}{∂{g}} = z\\cdot(1 - z)$$\n",
    "\n",
    "Lastly the derivative of $g$ is just a linear function like LinearRegression, which, as we remember just ends up being the vector of x values.\n",
    "$$\\dfrac{∂ g}{∂{w}} = X$$\n",
    "\n",
    "Putting this all back together, it will simplify to:\n",
    "$$\\dfrac{∂ J(w)}{∂{w}} = X ^T (z - y)$$\n",
    "\n",
    "To help understand: just to check the above, let's look matrix/vector sizes and what they represent:\n",
    "- $X$ is a matrix of size $(N x d)$ where each row is a sample and each column is a dimension of x\n",
    "- $z$ is a vector of size $(N x 1)$ consisting of the model predictions for each samples \n",
    "- $y$ is a vector of size $(N x 1)$ consisting of the true labels for each sample\n",
    "- $(z - y)$ is a vector of $(N x 1)$ consisting of the difference between predictions and true values\n",
    "- $X ^T (z - y)$ is a matrix of size $(d x N)$\n",
    "- $\\dfrac{∂ J(w)}{∂{w}}$ is a matrix of size $(d x 1)$ where each element is:\n",
    "\n",
    "$$\n",
    "\\dfrac{∂J(w)}{∂{w_j}}  = \\frac{1}{N}\\sum_{i}^N x_j^{(i)} (h(x^{(i)}; w) - y^{(i)})\n",
    "$$\n",
    "\n",
    "(Note the division by N to get the average gradient across all samples)\n",
    "\n",
    "\n",
    "Wow! it looks almost identical to linear regression!"
   ]
  },
  {
   "cell_type": "code",
   "execution_count": null,
   "id": "8baca73c",
   "metadata": {},
   "outputs": [],
   "source": [
    "# Add a column of 1s to make things easier. This means we don't need that\n",
    "# hanging w_0 and can evaluate everything at once.\n",
    "X_train_hd_with_1s = np.hstack([np.ones(X_train_hd.shape[0]).reshape(-1,1), X_train_hd])\n",
    "X_test_hd_with_1s = np.hstack([np.ones(X_test_hd.shape[0]).reshape(-1,1), X_test_hd])"
   ]
  },
  {
   "cell_type": "code",
   "execution_count": null,
   "id": "405000da",
   "metadata": {},
   "outputs": [],
   "source": [
    "# Question to 2.2.1\n",
    "def logistic_regression_predict(X, w):\n",
    "    \"\"\" Calculate logistic regression for N samples\n",
    "     Args:\n",
    "      X: N x d matrix of X values\n",
    "      w: weight vector of length d\n",
    "      \n",
    "    Return:\n",
    "      N x 1 vector of predictions\n",
    "    \"\"\"\n",
    "    return 1 / (1 + np.exp(-X.dot(w)))\n",
    "\n",
    "def gradient_of_log_loss(X, y, w):\n",
    "    \"\"\"Calculate the gradient of log loss (aka binary cross entropy) with respect to weights w\n",
    "    \n",
    "    Args:\n",
    "      X: N x d matrix of X values\n",
    "      y: N x 1 vector of targets\n",
    "      w: weight vector of length d\n",
    "      \n",
    "    Return:\n",
    "      d x 1 gradient vector - consisting of gradient of log loss. gradient[j] is\n",
    "          the partial derivative of the loss with respect to weight j averaged over\n",
    "          all N incoming samples\n",
    "    \"\"\"\n",
    "    N = X.shape[0]\n",
    "    d = X.shape[1]\n",
    "    predicted_y = logistic_regression_predict(X, w)\n",
    "    error = predicted_y - y\n",
    "    # TODO implement the gradient vector\n",
    "    gradient = TODO\n",
    "    \n",
    "    # Ensure it is the right size!\n",
    "    assert len(gradient) == d\n",
    "    return gradient\n",
    "\n",
    "#mean_gradient = gradient_of_log_loss(X_train_hd_with_1s, y_train_hd, [0, 0, 0, 0])\n",
    "#print(f\"Solution to 2.2.1: {mean_gradient}\")"
   ]
  },
  {
   "cell_type": "code",
   "execution_count": null,
   "id": "8e654907",
   "metadata": {},
   "outputs": [],
   "source": [
    "# Question to 2.2.2\n",
    "def batch_gradient_descent_logreg_epoch(X, y, w, alpha):\n",
    "    \"\"\"Returns new weights after one step of batch gradient descent\n",
    "    across the entire dataset.\n",
    "    \n",
    "    Args:\n",
    "      X: N x d matrix \n",
    "      y: N x 1 vector\n",
    "      w: weight vector of length d\n",
    "      alpha: Floating point learning rate.\n",
    "      \n",
    "    Return:\n",
    "      updated weights as a length-d vector after 1 step of gradient descent.\n",
    "    \"\"\"\n",
    "    n = X.shape[0]\n",
    "    d = X.shape[1]\n",
    "    \n",
    "    # Evaluate the error gradient across the entire dataset. NOTE: there are various\n",
    "    # versions of gradient descent that work differently here. In this case we are running\n",
    "    # what is called 'Batch' gradient descent that updates based off the entire training\n",
    "    # dataset on each epoch. Other techniques are mini-batch which break the dataset into\n",
    "    # small chunks and stochastic gradient descent which uses only one sample at a time.\n",
    "    error_gradient = gradient_of_log_loss(X, y, w)\n",
    "    \n",
    "    # Update our weights based on the gradient update.\n",
    "    new_weights = TODO\n",
    "    \n",
    "    # Make sure it is the right size:\n",
    "    assert len(new_weights) == d\n",
    "    return new_weights\n",
    "\n",
    "#update = batch_gradient_descent_logreg_epoch(X_train_hd_with_1s, y_train_hd, [0, 0, 0, 0], 5)\n",
    "#print(f\"Solution to 2.2.2: Single weight update: {update}\")"
   ]
  },
  {
   "cell_type": "code",
   "execution_count": null,
   "id": "d010da7f",
   "metadata": {},
   "outputs": [],
   "source": [
    "# Question to 2.2.3\n",
    "from matplotlib.pyplot import figure\n",
    "fig = figure(figsize=(8, 6), dpi=80)\n",
    "alpha = 5\n",
    "weights_gradient_descent = [0, 0, 0, 0]\n",
    "num_epochs = 500\n",
    "errors = []\n",
    "for epoch in range(0, num_epochs): \n",
    "\n",
    "    # TODO: implement gradient descent loop\n",
    "    # 1. update the weights\n",
    "    # 2. calculate and record the error using the current weights\n",
    "    pass\n",
    "print(\"Solution to 2.2.3: Plot: TODO\")\n",
    "#plt.plot(errors)"
   ]
  },
  {
   "cell_type": "markdown",
   "id": "d6c3faf3",
   "metadata": {},
   "source": [
    "Question to 2.2.4\n",
    "\n",
    "TODO: answer to question 2.2.4"
   ]
  },
  {
   "cell_type": "code",
   "execution_count": null,
   "id": "9a57b367",
   "metadata": {},
   "outputs": [],
   "source": [
    "# Question to 2.2.5\n",
    "print(f\"Solution to 2.2.5: {TODO}\")"
   ]
  },
  {
   "cell_type": "code",
   "execution_count": null,
   "id": "092e34ba",
   "metadata": {},
   "outputs": [],
   "source": [
    "# Question to 2.2.6\n",
    "print(f\"Solution to 2.2.6: Log loss Train: {TODO}, Test: {TODO}\")"
   ]
  },
  {
   "cell_type": "code",
   "execution_count": null,
   "id": "ec2dba04",
   "metadata": {},
   "outputs": [],
   "source": [
    "# Question to 2.2.7\n",
    "print(f\"Solution to 2.2.7: Accuracy Train: {TODO}, Test: {TODO}\")"
   ]
  },
  {
   "cell_type": "markdown",
   "id": "ebe591e4",
   "metadata": {},
   "source": [
    "# Question 2.3\n",
    "2.3: Derive $\\frac{d \\sigma}{dw}$ where $\\sigma(x;w) = \\frac{1}{1 + e^{-wx}}$"
   ]
  },
  {
   "cell_type": "code",
   "execution_count": null,
   "id": "67411e44",
   "metadata": {},
   "outputs": [],
   "source": [
    "# Extra Credit Question 2.4"
   ]
  },
  {
   "cell_type": "code",
   "execution_count": null,
   "id": "1dbfdc53",
   "metadata": {},
   "outputs": [],
   "source": [
    "# Extra Credit Question 2.5"
   ]
  }
 ],
 "metadata": {
  "kernelspec": {
   "display_name": "Python 3 (ipykernel)",
   "language": "python",
   "name": "python3"
  },
  "language_info": {
   "codemirror_mode": {
    "name": "ipython",
    "version": 3
   },
   "file_extension": ".py",
   "mimetype": "text/x-python",
   "name": "python",
   "nbconvert_exporter": "python",
   "pygments_lexer": "ipython3",
   "version": "3.7.0"
  }
 },
 "nbformat": 4,
 "nbformat_minor": 5
}