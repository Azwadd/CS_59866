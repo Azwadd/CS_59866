{
 "cells": [
  {
   "cell_type": "code",
   "execution_count": 21,
   "metadata": {
    "collapsed": true
   },
   "outputs": [],
   "source": [
    "# Imports\n",
    "import pandas as pd\n",
    "import sns as sns\n",
    "from sklearn.metrics import accuracy_score\n",
    "from sklearn.model_selection import train_test_split\n",
    "from sklearn import tree\n",
    "import statistics as stat"
   ]
  },
  {
   "cell_type": "code",
   "execution_count": 22,
   "outputs": [
    {
     "data": {
      "text/plain": "   Age Sex ChestPainType  RestingBP  Cholesterol  FastingBS RestingECG  MaxHR  \\\n0   40   M           ATA        140          289          0     Normal    172   \n1   49   F           NAP        160          180          0     Normal    156   \n2   37   M           ATA        130          283          0         ST     98   \n3   48   F           ASY        138          214          0     Normal    108   \n4   54   M           NAP        150          195          0     Normal    122   \n\n  ExerciseAngina  Oldpeak ST_Slope  HeartDisease  \n0              N      0.0       Up             0  \n1              N      1.0     Flat             1  \n2              N      0.0       Up             0  \n3              Y      1.5     Flat             1  \n4              N      0.0       Up             0  ",
      "text/html": "<div>\n<style scoped>\n    .dataframe tbody tr th:only-of-type {\n        vertical-align: middle;\n    }\n\n    .dataframe tbody tr th {\n        vertical-align: top;\n    }\n\n    .dataframe thead th {\n        text-align: right;\n    }\n</style>\n<table border=\"1\" class=\"dataframe\">\n  <thead>\n    <tr style=\"text-align: right;\">\n      <th></th>\n      <th>Age</th>\n      <th>Sex</th>\n      <th>ChestPainType</th>\n      <th>RestingBP</th>\n      <th>Cholesterol</th>\n      <th>FastingBS</th>\n      <th>RestingECG</th>\n      <th>MaxHR</th>\n      <th>ExerciseAngina</th>\n      <th>Oldpeak</th>\n      <th>ST_Slope</th>\n      <th>HeartDisease</th>\n    </tr>\n  </thead>\n  <tbody>\n    <tr>\n      <th>0</th>\n      <td>40</td>\n      <td>M</td>\n      <td>ATA</td>\n      <td>140</td>\n      <td>289</td>\n      <td>0</td>\n      <td>Normal</td>\n      <td>172</td>\n      <td>N</td>\n      <td>0.0</td>\n      <td>Up</td>\n      <td>0</td>\n    </tr>\n    <tr>\n      <th>1</th>\n      <td>49</td>\n      <td>F</td>\n      <td>NAP</td>\n      <td>160</td>\n      <td>180</td>\n      <td>0</td>\n      <td>Normal</td>\n      <td>156</td>\n      <td>N</td>\n      <td>1.0</td>\n      <td>Flat</td>\n      <td>1</td>\n    </tr>\n    <tr>\n      <th>2</th>\n      <td>37</td>\n      <td>M</td>\n      <td>ATA</td>\n      <td>130</td>\n      <td>283</td>\n      <td>0</td>\n      <td>ST</td>\n      <td>98</td>\n      <td>N</td>\n      <td>0.0</td>\n      <td>Up</td>\n      <td>0</td>\n    </tr>\n    <tr>\n      <th>3</th>\n      <td>48</td>\n      <td>F</td>\n      <td>ASY</td>\n      <td>138</td>\n      <td>214</td>\n      <td>0</td>\n      <td>Normal</td>\n      <td>108</td>\n      <td>Y</td>\n      <td>1.5</td>\n      <td>Flat</td>\n      <td>1</td>\n    </tr>\n    <tr>\n      <th>4</th>\n      <td>54</td>\n      <td>M</td>\n      <td>NAP</td>\n      <td>150</td>\n      <td>195</td>\n      <td>0</td>\n      <td>Normal</td>\n      <td>122</td>\n      <td>N</td>\n      <td>0.0</td>\n      <td>Up</td>\n      <td>0</td>\n    </tr>\n  </tbody>\n</table>\n</div>"
     },
     "execution_count": 22,
     "metadata": {},
     "output_type": "execute_result"
    }
   ],
   "source": [
    "# Load the heart disease dataset:\n",
    "dataframe = pd.read_csv(\"../data/heart.csv\")\n",
    "dataframe.head()"
   ],
   "metadata": {
    "collapsed": false,
    "pycharm": {
     "name": "#%%\n"
    }
   }
  },
  {
   "cell_type": "markdown",
   "source": [
    "**Question 1: Data Exploration Questions**\n",
    "* Question 1.1: How many positive examples of heart disease are in this dataset?\n",
    "* Question 1.2: How many negative examples (no heart disease) are in this dataset?\n",
    "* Question 1.3: What is the average age for subjects in this dataset?\n",
    "* Question 1.4: Which variable is most positively correlated with heart disease?\n",
    "* Question 1.5: Which variable is most negatively correlated with heart disease?\n",
    "* Question 1.6: How much does Age correlate with Max Heart Rate (MaxHR)?\n",
    "\n",
    "**Question 1: Answers**\n",
    "* Question 1.1: 508 positive examples of heart disease.\n",
    "* Question 1.2: 410 negative examples of heart disease.\n",
    "* Question 1.3: 53.51 years is the average age for the subjects.\n",
    "* Question 1.4: Oldpeak is most positively correlated with heart disease.\n",
    "* Question 1.5: MaxHR is most negatively correlated with heart disease.\n",
    "* Question 1.6: Age correlates with MaxHR for -0.382045.\n",
    "\n",
    "**The work used to find the answers are shown in the code below**"
   ],
   "metadata": {
    "collapsed": false,
    "pycharm": {
     "name": "#%% md\n"
    }
   }
  },
  {
   "cell_type": "code",
   "execution_count": 23,
   "outputs": [
    {
     "name": "stdout",
     "output_type": "stream",
     "text": [
      "Question 1.1: The number of positive examples of heart disease 508\n",
      "Question 1.2: The number of negative examples of heart disease 410\n"
     ]
    },
    {
     "ename": "TypeError",
     "evalue": "'float' object is not callable",
     "output_type": "error",
     "traceback": [
      "\u001B[1;31m---------------------------------------------------------------------------\u001B[0m",
      "\u001B[1;31mTypeError\u001B[0m                                 Traceback (most recent call last)",
      "Input \u001B[1;32mIn [23]\u001B[0m, in \u001B[0;36m<module>\u001B[1;34m\u001B[0m\n\u001B[0;32m     10\u001B[0m \u001B[38;5;28mprint\u001B[39m(\u001B[38;5;124m\"\u001B[39m\u001B[38;5;124mQuestion 1.2: The number of negative examples of heart disease\u001B[39m\u001B[38;5;124m\"\u001B[39m, q1_2)\n\u001B[0;32m     12\u001B[0m \u001B[38;5;66;03m# Question 1.3: What is the average age for subjects in this dataset?\u001B[39;00m\n\u001B[1;32m---> 13\u001B[0m \u001B[38;5;28mprint\u001B[39m(\u001B[38;5;124m\"\u001B[39m\u001B[38;5;124mQuestion 1.3: The average age for subjects in the dataset\u001B[39m\u001B[38;5;124m\"\u001B[39m, \u001B[43mmean\u001B[49m\u001B[43m(\u001B[49m\u001B[43mdataframe\u001B[49m\u001B[43m[\u001B[49m\u001B[38;5;124;43m\"\u001B[39;49m\u001B[38;5;124;43mAge\u001B[39;49m\u001B[38;5;124;43m\"\u001B[39;49m\u001B[43m]\u001B[49m\u001B[43m)\u001B[49m)\n",
      "\u001B[1;31mTypeError\u001B[0m: 'float' object is not callable"
     ]
    }
   ],
   "source": [
    "# Question 1.1: How many positive examples of heart disease are in this dataset?\n",
    "# Question 1.2: How many negative examples (no heart disease) are in this dataset?\n",
    "q1_1, q1_2 = 0, 0\n",
    "for i in dataframe[\"HeartDisease\"]:\n",
    "    if i == 1:\n",
    "        q1_1 += 1\n",
    "    elif i == 0:\n",
    "        q1_2 += 1\n",
    "print(\"Question 1.1: The number of positive examples of heart disease\", q1_1)\n",
    "print(\"Question 1.2: The number of negative examples of heart disease\", q1_2)\n",
    "\n",
    "# Question 1.3: What is the average age for subjects in this dataset?\n",
    "print(\"Question 1.3: The average age for subjects in the dataset\", stat.mean(dataframe[\"Age\"]))"
   ],
   "metadata": {
    "collapsed": false,
    "pycharm": {
     "name": "#%%\n"
    }
   }
  },
  {
   "cell_type": "code",
   "execution_count": null,
   "outputs": [],
   "source": [
    "dataframe.corr()"
   ],
   "metadata": {
    "collapsed": false,
    "pycharm": {
     "name": "#%%\n"
    }
   }
  },
  {
   "cell_type": "code",
   "execution_count": null,
   "outputs": [],
   "source": [
    "# Question 1.4: Which variable is most positively correlated with heart disease?\n",
    "print(\"Question 1.4: Oldpeak is most positively correlated with heart disease.\")\n",
    "# This answer is derived from the table above when running dataframe.corr().\n",
    "# We know Oldpeak is the variable most positively correlated with heart disease\n",
    "# because Oldpeak has 0.403951 in the HeartDisease column while the other\n",
    "# variables are either negative or a lower positive number.\n",
    "\n",
    "# Question 1.5: Which variable is most negatively correlated with heart disease?\n",
    "print(\"Question 1.5: MaxHR is most negatively correlated with heart disease.\")\n",
    "# This answer is derived from the table above when running dataframe.corr().\n",
    "# We know MaxHR is most negatively correlated with heart disease\n",
    "# because MaxHR has -0.400421 in the HeartDisease column while the other\n",
    "# variables are either positive or not as negative.\n",
    "\n",
    "# Question 1.6: How much does Age correlate with Max Heart Rate (MaxHR)?\n",
    "print(\"Question 1.6: Age correlates with MaxHR for -0.382045\")\n",
    "# This answer is derived from the dataframe.corr() table above"
   ],
   "metadata": {
    "collapsed": false,
    "pycharm": {
     "name": "#%%\n"
    }
   }
  },
  {
   "cell_type": "code",
   "execution_count": null,
   "outputs": [],
   "source": [
    "# Choose one X variables to predict from. We can add more variables into X here.\n",
    "X = dataframe[['Age']]\n",
    "\n",
    "# y variable is the target label we want to predict.\n",
    "y = dataframe['HeartDisease']\n",
    "\n",
    "# Split data into two sections. 70% will be for training, 30% will be for testing\n",
    "X_train, X_test, y_train, y_test = train_test_split(X, y, test_size=0.30, random_state=42)"
   ],
   "metadata": {
    "collapsed": false,
    "pycharm": {
     "name": "#%%\n"
    }
   }
  },
  {
   "cell_type": "code",
   "execution_count": 29,
   "outputs": [
    {
     "name": "stdout",
     "output_type": "stream",
     "text": [
      "The predict_heart_disease_from_age accurately classifies 44.66% of examples\n"
     ]
    }
   ],
   "source": [
    "def predict_heart_disease_from_age(age: int) -> int:\n",
    "    return int(age > 100)\n",
    "predicted_y = [predict_heart_disease_from_age(a) for a in X['Age']]\n",
    "accuracy = accuracy_score(predicted_y, y)\n",
    "print(f\"The predict_heart_disease_from_age accurately classifies {accuracy*100:.2f}% of examples\")"
   ],
   "metadata": {
    "collapsed": false,
    "pycharm": {
     "name": "#%%\n"
    }
   }
  },
  {
   "cell_type": "markdown",
   "source": [
    "**Question 2: Manual Classifier**\n",
    "How would we manually create a function to solve this task for us? Try it.\n",
    "* Question 2.1: The function predict_heart_disease_from_age only predicts individuals above 100 years old will have heart disease. This won't match any examples in the dataset, but still achieves 44.66% accuracy. Why is that?\n",
    "* Question 2.2: Try to make the best predict_heart_disease_from_age function you can. What is the best value to split at? How do you pick this? Please include the train and test accuracy.*\n",
    "\n",
    "**Question 2: Answers**\n",
    "* Question 2.1: There are no individuals above 100 years old with heart disease, therefore accuracy_score compares it with all the cases of no heart disease which is 44.66%\n",
    "* Question 2.2: The best value to split at is 54 or around 54. I picked 54 because the mode and the median are both 54 plus the mean is 53.5, therefore I believe 54 is the best integer to split the age at. The training accuracy of splitting the age at 54 is 66.04% and the test accuracy of training is 58.33%.*\n",
    "\n",
    "**The work used to find the answers are shown in the code below**"
   ],
   "metadata": {
    "collapsed": false,
    "pycharm": {
     "name": "#%% md\n"
    }
   }
  },
  {
   "cell_type": "code",
   "execution_count": 111,
   "outputs": [
    {
     "name": "stdout",
     "output_type": "stream",
     "text": [
      "Mean: 53.510893246187365 \n",
      "Mode: 54  \n",
      "Median: 54.0\n",
      "The predict_heart_disease_from_age accurately classifies 66.04% of examples\n",
      "The predict_heart_disease_from_age accurately classifies 58.33% of examples\n"
     ]
    }
   ],
   "source": [
    "# Question 2.2: Try to make the best predict_heart_disease_from_age function you can. What is the best value to split at? How do you pick this? Please include the train and test accuracy.\n",
    "print(\"Mean:\", stat.mean(dataframe['Age']), \"\\nMode:\", stat.mode(dataframe['Age']), \" \\nMedian:\", stat.median(dataframe['Age']))\n",
    "# Since the median, mode are 54 and mean is also 53.5, we can use 54 as the best value to split.\n",
    "def predict_heart_disease_from_age(age: int) -> int:\n",
    "    return int(age > stat.mode(dataframe['Age']))\n",
    "\n",
    "# Finding Training Accuracy\n",
    "predicted_y = [predict_heart_disease_from_age(a) for a in X_train['Age']]\n",
    "accuracy = accuracy_score(predicted_y, y_train)\n",
    "print(f\"The predict_heart_disease_from_age accurately classifies {accuracy*100:.2f}% of examples\")\n",
    "\n",
    "# Finding Test Accuracy\n",
    "predicted_y = [predict_heart_disease_from_age(a) for a in X_test['Age']]\n",
    "accuracy = accuracy_score(predicted_y, y_test)\n",
    "print(f\"The predict_heart_disease_from_age accurately classifies {accuracy*100:.2f}% of examples\")"
   ],
   "metadata": {
    "collapsed": false,
    "pycharm": {
     "name": "#%%\n"
    }
   }
  },
  {
   "cell_type": "code",
   "execution_count": null,
   "outputs": [],
   "source": [
    "# Train a decision tree with max_depth 1.\n",
    "classifier = tree.DecisionTreeClassifier(max_depth=1)\n",
    "classifier = classifier.fit(X_train, y_train)\n",
    "\n",
    "# Predict and measure the accuracy on the training set.\n",
    "predicted_y_train = classifier.predict(X_train)\n",
    "accuracy = accuracy_score(y_train, predicted_y_train)\n",
    "print(f\"The classifier accurately classifies {accuracy*100:.2f}% of train examples\")\n",
    "\n",
    "# Predict and measure the accuracy on the testing set.\n",
    "predicted_y_test = classifier.predict(X_test)\n",
    "accuracy = accuracy_score(y_test, predicted_y_test)\n",
    "print(f\"The classifier accurately classifies {accuracy*100:.2f}% of test examples\")"
   ],
   "metadata": {
    "collapsed": false,
    "pycharm": {
     "name": "#%%\n"
    }
   }
  },
  {
   "cell_type": "code",
   "execution_count": 113,
   "outputs": [
    {
     "data": {
      "text/plain": "[Text(0.5, 0.75, 'Age <= 54.5\\ngini = 0.497\\nsamples = 642\\nvalue = [298, 344]\\nclass = 1'),\n Text(0.25, 0.25, 'gini = 0.471\\nsamples = 332\\nvalue = [206, 126]\\nclass = 0'),\n Text(0.75, 0.25, 'gini = 0.417\\nsamples = 310\\nvalue = [92, 218]\\nclass = 1')]"
     },
     "execution_count": 113,
     "metadata": {},
     "output_type": "execute_result"
    },
    {
     "data": {
      "text/plain": "<Figure size 432x288 with 1 Axes>",
      "image/png": "[encoded data removed]"
     },
     "metadata": {
      "needs_background": "light"
     },
     "output_type": "display_data"
    }
   ],
   "source": [
    "# Visualize the tree\n",
    "viz = tree.plot_tree(classifier, feature_names=X.columns, class_names=list(['0', '1']) , filled=True)\n",
    "# Alternatively, visualize the tree using dtreeviz package\n",
    "#from dtreeviz.trees import dtreeviz\n",
    "#viz = treeviz(clf, X, y, target_name=\"y\", feature_names=X.columns, class_names=list(['0', '1']))\n",
    "viz"
   ],
   "metadata": {
    "collapsed": false,
    "pycharm": {
     "name": "#%%\n"
    }
   }
  },
  {
   "cell_type": "markdown",
   "source": [
    "**Question 3: Training Decision Trees**\n",
    "* Question 3.1: Experiment with the X features included (currently only Age is included). Add MaxHR, RestingBP, or any other numerical features. (Note you cannot yet include categorical features such as ChestPainType). Include the train and test accuracy on various different sets of variables. Include a printout of the tree.\n",
    "* Question 3.2: Discuss how various features affect the performance of the model.\n",
    "* Question 3.3: Experiment with the max_depth hyperparementer parameter to DecisionTreeClassifier. How does that affect the results? Report train-accuracy and test-accuracy for various values of max_depth.\n",
    "* Question 3.4: Why might the train-accuracy and test-accuracy differ?\n",
    "\n",
    "**Question 3: Answers**\n",
    "* Question 3.1:\n",
    "* Question 3.2:\n",
    "* Question 3.3:\n",
    "* Question 3.4:"
   ],
   "metadata": {
    "collapsed": false,
    "pycharm": {
     "name": "#%% md\n"
    }
   }
  },
  {
   "cell_type": "code",
   "execution_count": 123,
   "outputs": [],
   "source": [
    "# Choose one X variables to predict from. We can add more variables into X here.\n",
    "X = dataframe[[\"Age\", \"RestingBP\", \"Cholesterol\", \"FastingBS\", \"MaxHR\", \"Oldpeak\"]]\n",
    "\n",
    "# y variable is the target label we want to predict.\n",
    "y = dataframe[\"HeartDisease\"]\n",
    "\n",
    "# Split data into two sections. 70% will be for training, 30% will be for testing\n",
    "X_train, X_test, y_train, y_test = train_test_split(X, y, test_size=0.30, random_state=42)"
   ],
   "metadata": {
    "collapsed": false,
    "pycharm": {
     "name": "#%%\n"
    }
   }
  },
  {
   "cell_type": "code",
   "execution_count": 143,
   "outputs": [
    {
     "name": "stdout",
     "output_type": "stream",
     "text": [
      "The classifier accurately classifies 66.04% of train examples\n",
      "The classifier accurately classifies 58.33% of test examples\n"
     ]
    }
   ],
   "source": [
    "from sklearn.datasets import load_iris\n",
    "import numpy as np\n",
    "# Question 3.1: Experiment with the X features included (currently only Age is included). Add MaxHR, RestingBP, or any other numerical features. (Note you cannot yet include categorical features such as ChestPainType). Include the train and test accuracy on various different sets of variables. Include a printout of the tree.\n",
    "# Choose one X variables to predict from. We can add more variables into X here.\n",
    "X = dataframe[[\"Age\", \"RestingBP\", \"Cholesterol\"]]\n",
    "\n",
    "# y variable is the target label we want to predict.\n",
    "y = dataframe[\"HeartDisease\"]\n",
    "\n",
    "# Split data into two sections. 70% will be for training, 30% will be for testing\n",
    "X_train, X_test, y_train, y_test = train_test_split(X, y, test_size=0.30, random_state=42)\n",
    "# Question 3.1: Experiment with the X features included (currently only Age is included). Add MaxHR, RestingBP, or any other numerical features. (Note you cannot yet include categorical features such as ChestPainType). Include the train and test accuracy on various different sets of variables. Include a printout of the tree.\n",
    "classifier = tree.DecisionTreeClassifier(max_depth=1)# Visualize the tree\n",
    "classifier = classifier.fit(X_train, y_train)\n",
    "\n",
    "# Predict and measure the accuracy on the training set.\n",
    "predicted_y_train = classifier.predict(X_train)\n",
    "accuracy = accuracy_score(y_train, predicted_y_train)\n",
    "print(f\"The classifier accurately classifies {accuracy*100:.2f}% of train examples\")\n",
    "\n",
    "# Predict and measure the accuracy on the testing set.\n",
    "predicted_y_test = classifier.predict(X_test)\n",
    "accuracy = accuracy_score(y_test, predicted_y_test)\n",
    "print(f\"The classifier accurately classifies {accuracy*100:.2f}% of test examples\")"
   ],
   "metadata": {
    "collapsed": false,
    "pycharm": {
     "name": "#%%\n"
    }
   }
  },
  {
   "cell_type": "code",
   "execution_count": 125,
   "outputs": [
    {
     "name": "stdout",
     "output_type": "stream",
     "text": [
      "The classifier accurately classifies 79.75% of train examples\n",
      "The classifier accurately classifies 81.16% of test examples\n"
     ]
    },
    {
     "data": {
      "text/plain": "[Text(0.5, 0.875, 'Oldpeak <= 0.75\\ngini = 0.497\\nsamples = 642\\nvalue = [298, 344]\\nclass = 1'),\n Text(0.25, 0.625, 'Cholesterol <= 42.5\\ngini = 0.436\\nsamples = 336\\nvalue = [228, 108]\\nclass = 0'),\n Text(0.125, 0.375, 'FastingBS <= 0.5\\ngini = 0.26\\nsamples = 52\\nvalue = [8, 44]\\nclass = 1'),\n Text(0.0625, 0.125, 'gini = 0.408\\nsamples = 28\\nvalue = [8, 20]\\nclass = 1'),\n Text(0.1875, 0.125, 'gini = 0.0\\nsamples = 24\\nvalue = [0, 24]\\nclass = 1'),\n Text(0.375, 0.375, 'Age <= 56.5\\ngini = 0.349\\nsamples = 284\\nvalue = [220, 64]\\nclass = 0'),\n Text(0.3125, 0.125, 'gini = 0.239\\nsamples = 209\\nvalue = [180, 29]\\nclass = 0'),\n Text(0.4375, 0.125, 'gini = 0.498\\nsamples = 75\\nvalue = [40, 35]\\nclass = 0'),\n Text(0.75, 0.625, 'MaxHR <= 150.5\\ngini = 0.353\\nsamples = 306\\nvalue = [70, 236]\\nclass = 1'),\n Text(0.625, 0.375, 'Oldpeak <= 1.65\\ngini = 0.271\\nsamples = 247\\nvalue = [40, 207]\\nclass = 1'),\n Text(0.5625, 0.125, 'gini = 0.36\\nsamples = 119\\nvalue = [28, 91]\\nclass = 1'),\n Text(0.6875, 0.125, 'gini = 0.17\\nsamples = 128\\nvalue = [12, 116]\\nclass = 1'),\n Text(0.875, 0.375, 'Oldpeak <= 2.25\\ngini = 0.5\\nsamples = 59\\nvalue = [30, 29]\\nclass = 0'),\n Text(0.8125, 0.125, 'gini = 0.466\\nsamples = 46\\nvalue = [29, 17]\\nclass = 0'),\n Text(0.9375, 0.125, 'gini = 0.142\\nsamples = 13\\nvalue = [1, 12]\\nclass = 1')]"
     },
     "execution_count": 125,
     "metadata": {},
     "output_type": "execute_result"
    },
    {
     "data": {
      "text/plain": "<Figure size 432x288 with 1 Axes>",
      "image/png": "[encoded data removed]"
     },
     "metadata": {
      "needs_background": "light"
     },
     "output_type": "display_data"
    }
   ],
   "source": [
    "# Question 3.1: Experiment with the X features included (currently only Age is included). Add MaxHR, RestingBP, or any other numerical features. (Note you cannot yet include categorical features such as ChestPainType). Include the train and test accuracy on various different sets of variables. Include a printout of the tree.\n",
    "classifier = tree.DecisionTreeClassifier(max_depth=3)# Visualize the tree\n",
    "classifier = classifier.fit(X_train, y_train)\n",
    "\n",
    "# Predict and measure the accuracy on the training set.\n",
    "predicted_y_train = classifier.predict(X_train)\n",
    "accuracy = accuracy_score(y_train, predicted_y_train)\n",
    "print(f\"The classifier accurately classifies {accuracy*100:.2f}% of train examples\")\n",
    "\n",
    "# Predict and measure the accuracy on the testing set.\n",
    "predicted_y_test = classifier.predict(X_test)\n",
    "accuracy = accuracy_score(y_test, predicted_y_test)\n",
    "print(f\"The classifier accurately classifies {accuracy*100:.2f}% of test examples\")\n",
    "\n",
    "viz = tree.plot_tree(classifier, feature_names=X.columns, class_names=list(['0', '1']) , filled=True)\n",
    "# Alternatively, visualize the tree using dtreeviz package\n",
    "#from dtreeviz.trees import dtreeviz\n",
    "#viz = treeviz(clf, X, y, target_name=\"y\", feature_names=X.columns, class_names=list(['0', '1']))\n",
    "viz"
   ],
   "metadata": {
    "collapsed": false,
    "pycharm": {
     "name": "#%%\n"
    }
   }
  },
  {
   "cell_type": "code",
   "execution_count": null,
   "outputs": [],
   "source": [],
   "metadata": {
    "collapsed": false,
    "pycharm": {
     "name": "#%%\n"
    }
   }
  }
 ],
 "metadata": {
  "kernelspec": {
   "display_name": "Python 3",
   "language": "python",
   "name": "python3"
  },
  "language_info": {
   "codemirror_mode": {
    "name": "ipython",
    "version": 2
   },
   "file_extension": ".py",
   "mimetype": "text/x-python",
   "name": "python",
   "nbconvert_exporter": "python",
   "pygments_lexer": "ipython2",
   "version": "2.7.6"
  }
 },
 "nbformat": 4,
 "nbformat_minor": 0
}