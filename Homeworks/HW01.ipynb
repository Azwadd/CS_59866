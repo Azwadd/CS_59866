{
 "cells": [
  {
   "cell_type": "code",
   "execution_count": 1,
   "metadata": {
    "collapsed": true
   },
   "outputs": [],
   "source": [
    "# Imports\n",
    "import pandas as pd\n",
    "from sklearn.metrics import accuracy_score\n",
    "from sklearn.model_selection import train_test_split\n",
    "from sklearn import tree\n",
    "from statistics import mean"
   ]
  },
  {
   "cell_type": "code",
   "execution_count": 2,
   "outputs": [
    {
     "data": {
      "text/plain": "   Age Sex ChestPainType  RestingBP  Cholesterol  FastingBS RestingECG  MaxHR  \\\n0   40   M           ATA        140          289          0     Normal    172   \n1   49   F           NAP        160          180          0     Normal    156   \n2   37   M           ATA        130          283          0         ST     98   \n3   48   F           ASY        138          214          0     Normal    108   \n4   54   M           NAP        150          195          0     Normal    122   \n\n  ExerciseAngina  Oldpeak ST_Slope  HeartDisease  \n0              N      0.0       Up             0  \n1              N      1.0     Flat             1  \n2              N      0.0       Up             0  \n3              Y      1.5     Flat             1  \n4              N      0.0       Up             0  ",
      "text/html": "<div>\n<style scoped>\n    .dataframe tbody tr th:only-of-type {\n        vertical-align: middle;\n    }\n\n    .dataframe tbody tr th {\n        vertical-align: top;\n    }\n\n    .dataframe thead th {\n        text-align: right;\n    }\n</style>\n<table border=\"1\" class=\"dataframe\">\n  <thead>\n    <tr style=\"text-align: right;\">\n      <th></th>\n      <th>Age</th>\n      <th>Sex</th>\n      <th>ChestPainType</th>\n      <th>RestingBP</th>\n      <th>Cholesterol</th>\n      <th>FastingBS</th>\n      <th>RestingECG</th>\n      <th>MaxHR</th>\n      <th>ExerciseAngina</th>\n      <th>Oldpeak</th>\n      <th>ST_Slope</th>\n      <th>HeartDisease</th>\n    </tr>\n  </thead>\n  <tbody>\n    <tr>\n      <th>0</th>\n      <td>40</td>\n      <td>M</td>\n      <td>ATA</td>\n      <td>140</td>\n      <td>289</td>\n      <td>0</td>\n      <td>Normal</td>\n      <td>172</td>\n      <td>N</td>\n      <td>0.0</td>\n      <td>Up</td>\n      <td>0</td>\n    </tr>\n    <tr>\n      <th>1</th>\n      <td>49</td>\n      <td>F</td>\n      <td>NAP</td>\n      <td>160</td>\n      <td>180</td>\n      <td>0</td>\n      <td>Normal</td>\n      <td>156</td>\n      <td>N</td>\n      <td>1.0</td>\n      <td>Flat</td>\n      <td>1</td>\n    </tr>\n    <tr>\n      <th>2</th>\n      <td>37</td>\n      <td>M</td>\n      <td>ATA</td>\n      <td>130</td>\n      <td>283</td>\n      <td>0</td>\n      <td>ST</td>\n      <td>98</td>\n      <td>N</td>\n      <td>0.0</td>\n      <td>Up</td>\n      <td>0</td>\n    </tr>\n    <tr>\n      <th>3</th>\n      <td>48</td>\n      <td>F</td>\n      <td>ASY</td>\n      <td>138</td>\n      <td>214</td>\n      <td>0</td>\n      <td>Normal</td>\n      <td>108</td>\n      <td>Y</td>\n      <td>1.5</td>\n      <td>Flat</td>\n      <td>1</td>\n    </tr>\n    <tr>\n      <th>4</th>\n      <td>54</td>\n      <td>M</td>\n      <td>NAP</td>\n      <td>150</td>\n      <td>195</td>\n      <td>0</td>\n      <td>Normal</td>\n      <td>122</td>\n      <td>N</td>\n      <td>0.0</td>\n      <td>Up</td>\n      <td>0</td>\n    </tr>\n  </tbody>\n</table>\n</div>"
     },
     "execution_count": 2,
     "metadata": {},
     "output_type": "execute_result"
    }
   ],
   "source": [
    "# Load the heart disease dataset:\n",
    "dataframe = pd.read_csv(\"../data/heart.csv\")\n",
    "dataframe.head()"
   ],
   "metadata": {
    "collapsed": false,
    "pycharm": {
     "name": "#%%\n"
    }
   }
  },
  {
   "cell_type": "markdown",
   "source": [
    "**Question 1: Data Exploration Questions**\n",
    "* Question 1.1: How many positive examples of heart disease are in this dataset?\n",
    "* Question 1.2: How many negative examples (no heart disease) are in this dataset?\n",
    "* Question 1.3: What is the average age for subjects in this dataset?\n",
    "* Question 1.4: Which variable is most positively correlated with heart disease?\n",
    "* Question 1.5: Which variable is most negatively correlated with heart disease?\n",
    "* Question 1.6: How much does Age correlate with Max Heart Rate (MaxHR)?\n",
    "\n",
    "**Question 1: Answers**\n",
    "* Question 1.1:\n",
    "* Question 1.2:\n",
    "* Question 1.3:\n",
    "* Question 1.4:\n",
    "* Question 1.5:\n",
    "* Question 1.6:\n",
    "\n",
    "**The work used to find the answers are shown in the code below**"
   ],
   "metadata": {
    "collapsed": false,
    "pycharm": {
     "name": "#%% md\n"
    }
   }
  },
  {
   "cell_type": "code",
   "execution_count": 3,
   "outputs": [
    {
     "name": "stdout",
     "output_type": "stream",
     "text": [
      "Question 1.1: The number of positive examples of heart disease 508\n",
      "Question 1.2: The number of negative examples of heart disease 410\n",
      "Question 1.3: The average age for subjects in the dataset i 53.510893246187365\n"
     ]
    }
   ],
   "source": [
    "# Question 1.1: How many positive examples of heart disease are in this dataset?\n",
    "# Question 1.2: How many negative examples (no heart disease) are in this dataset?\n",
    "q1_1, q1_2 = 0, 0\n",
    "for i in dataframe[\"HeartDisease\"]:\n",
    "    if i == 1:\n",
    "        q1_1 += 1\n",
    "    elif i == 0:\n",
    "        q1_2 += 1\n",
    "print(\"Question 1.1: The number of positive examples of heart disease\", q1_1)\n",
    "print(\"Question 1.2: The number of negative examples of heart disease\", q1_2)\n",
    "\n",
    "# Question 1.3: What is the average age for subjects in this dataset?\n",
    "print(\"Question 1.3: The average age for subjects in the dataset i\", mean(dataframe[\"Age\"]))"
   ],
   "metadata": {
    "collapsed": false,
    "pycharm": {
     "name": "#%%\n"
    }
   }
  },
  {
   "cell_type": "code",
   "execution_count": 4,
   "outputs": [
    {
     "data": {
      "text/plain": "                   Age  RestingBP  Cholesterol  FastingBS     MaxHR   Oldpeak  \\\nAge           1.000000   0.254399    -0.095282   0.198039 -0.382045  0.258612   \nRestingBP     0.254399   1.000000     0.100893   0.070193 -0.112135  0.164803   \nCholesterol  -0.095282   0.100893     1.000000  -0.260974  0.235792  0.050148   \nFastingBS     0.198039   0.070193    -0.260974   1.000000 -0.131438  0.052698   \nMaxHR        -0.382045  -0.112135     0.235792  -0.131438  1.000000 -0.160691   \nOldpeak       0.258612   0.164803     0.050148   0.052698 -0.160691  1.000000   \nHeartDisease  0.282039   0.107589    -0.232741   0.267291 -0.400421  0.403951   \n\n              HeartDisease  \nAge               0.282039  \nRestingBP         0.107589  \nCholesterol      -0.232741  \nFastingBS         0.267291  \nMaxHR            -0.400421  \nOldpeak           0.403951  \nHeartDisease      1.000000  ",
      "text/html": "<div>\n<style scoped>\n    .dataframe tbody tr th:only-of-type {\n        vertical-align: middle;\n    }\n\n    .dataframe tbody tr th {\n        vertical-align: top;\n    }\n\n    .dataframe thead th {\n        text-align: right;\n    }\n</style>\n<table border=\"1\" class=\"dataframe\">\n  <thead>\n    <tr style=\"text-align: right;\">\n      <th></th>\n      <th>Age</th>\n      <th>RestingBP</th>\n      <th>Cholesterol</th>\n      <th>FastingBS</th>\n      <th>MaxHR</th>\n      <th>Oldpeak</th>\n      <th>HeartDisease</th>\n    </tr>\n  </thead>\n  <tbody>\n    <tr>\n      <th>Age</th>\n      <td>1.000000</td>\n      <td>0.254399</td>\n      <td>-0.095282</td>\n      <td>0.198039</td>\n      <td>-0.382045</td>\n      <td>0.258612</td>\n      <td>0.282039</td>\n    </tr>\n    <tr>\n      <th>RestingBP</th>\n      <td>0.254399</td>\n      <td>1.000000</td>\n      <td>0.100893</td>\n      <td>0.070193</td>\n      <td>-0.112135</td>\n      <td>0.164803</td>\n      <td>0.107589</td>\n    </tr>\n    <tr>\n      <th>Cholesterol</th>\n      <td>-0.095282</td>\n      <td>0.100893</td>\n      <td>1.000000</td>\n      <td>-0.260974</td>\n      <td>0.235792</td>\n      <td>0.050148</td>\n      <td>-0.232741</td>\n    </tr>\n    <tr>\n      <th>FastingBS</th>\n      <td>0.198039</td>\n      <td>0.070193</td>\n      <td>-0.260974</td>\n      <td>1.000000</td>\n      <td>-0.131438</td>\n      <td>0.052698</td>\n      <td>0.267291</td>\n    </tr>\n    <tr>\n      <th>MaxHR</th>\n      <td>-0.382045</td>\n      <td>-0.112135</td>\n      <td>0.235792</td>\n      <td>-0.131438</td>\n      <td>1.000000</td>\n      <td>-0.160691</td>\n      <td>-0.400421</td>\n    </tr>\n    <tr>\n      <th>Oldpeak</th>\n      <td>0.258612</td>\n      <td>0.164803</td>\n      <td>0.050148</td>\n      <td>0.052698</td>\n      <td>-0.160691</td>\n      <td>1.000000</td>\n      <td>0.403951</td>\n    </tr>\n    <tr>\n      <th>HeartDisease</th>\n      <td>0.282039</td>\n      <td>0.107589</td>\n      <td>-0.232741</td>\n      <td>0.267291</td>\n      <td>-0.400421</td>\n      <td>0.403951</td>\n      <td>1.000000</td>\n    </tr>\n  </tbody>\n</table>\n</div>"
     },
     "execution_count": 4,
     "metadata": {},
     "output_type": "execute_result"
    }
   ],
   "source": [
    "dataframe.corr()"
   ],
   "metadata": {
    "collapsed": false,
    "pycharm": {
     "name": "#%%\n"
    }
   }
  },
  {
   "cell_type": "code",
   "execution_count": 5,
   "outputs": [
    {
     "name": "stdout",
     "output_type": "stream",
     "text": [
      "Question 1.4: Oldpeak is most positively correlated with heart disease.\n",
      "Question 1.4: MaxHR is most negatively correlated with heart disease.\n",
      "Question 1.6: Age correlates with MaxHR for -0.400421\n"
     ]
    }
   ],
   "source": [
    "# Question 1.4: Which variable is most positively correlated with heart disease?\n",
    "print(\"Question 1.4: Oldpeak is most positively correlated with heart disease.\")\n",
    "# This answer is derived from the table above when running dataframe.corr().\n",
    "# We know Oldpeak is the variable most positively correlated with heart disease\n",
    "# because Oldpeak has 0.403951 in the HeartDisease column while the other\n",
    "# variables are either negative or a lower positive number.\n",
    "\n",
    "# Question 1.5: Which variable is most negatively correlated with heart disease?\n",
    "print(\"Question 1.4: MaxHR is most negatively correlated with heart disease.\")\n",
    "# This answer is derived from the table above when running dataframe.corr().\n",
    "# We know MaxHR is most negatively correlated with heart disease\n",
    "# because MaxHR has -0.400421 in the HeartDisease column while the other\n",
    "# variables are either positive or not as negative.\n",
    "\n",
    "# Question 1.6: How much does Age correlate with Max Heart Rate (MaxHR)?\n",
    "print(\"Question 1.6: Age correlates with MaxHR for -0.400421\")\n",
    "# This answer is derived from the dataframe.corr() table above"
   ],
   "metadata": {
    "collapsed": false,
    "pycharm": {
     "name": "#%%\n"
    }
   }
  },
  {
   "cell_type": "code",
   "execution_count": 6,
   "outputs": [],
   "source": [
    "# Choose one X variables to predict from. We can add more variables into X here.\n",
    "X = dataframe[['Age']]\n",
    "\n",
    "# y variable is the target label we want to predict.\n",
    "y = dataframe['HeartDisease']\n",
    "\n",
    "# Split data into two sections. 70% will be for training, 30% will be for testing\n",
    "X_train, X_test, y_train, y_test = train_test_split(X, y, test_size=0.30, random_state=42)"
   ],
   "metadata": {
    "collapsed": false,
    "pycharm": {
     "name": "#%%\n"
    }
   }
  },
  {
   "cell_type": "code",
   "execution_count": 7,
   "outputs": [
    {
     "name": "stdout",
     "output_type": "stream",
     "text": [
      "The predict_heart_disease_from_age accurately classifies 44.66% of examples\n"
     ]
    }
   ],
   "source": [
    "def predict_heart_disease_from_age(age: int) -> int:\n",
    "    return int(age > 100)\n",
    "predicted_y = [predict_heart_disease_from_age(a) for a in X['Age']]\n",
    "accuracy = accuracy_score(predicted_y, y)\n",
    "print(f\"The predict_heart_disease_from_age accurately classifies {accuracy*100:.2f}% of examples\")"
   ],
   "metadata": {
    "collapsed": false,
    "pycharm": {
     "name": "#%%\n"
    }
   }
  },
  {
   "cell_type": "markdown",
   "source": [
    "**Question 2: Manual Classifier**\n",
    "How would we manually create a function to solve this task for us? Try it.\n",
    "* Question 2.1: The function predict_heart_disease_from_age only predicts indivduals above 100 years old will have heart disease. This won't match any examples in the dataset, but still achieves 44.66% accuracy. Why is that?\n",
    "* Question 2.2: Try to make the best predict_heart_disease_from_age function you can. What is the best value to split at? How do you pick this? Please include the train and test accuracy."
   ],
   "metadata": {
    "collapsed": false,
    "pycharm": {
     "name": "#%% md\n"
    }
   }
  },
  {
   "cell_type": "code",
   "execution_count": 7,
   "outputs": [],
   "source": [],
   "metadata": {
    "collapsed": false,
    "pycharm": {
     "name": "#%%\n"
    }
   }
  }
 ],
 "metadata": {
  "kernelspec": {
   "display_name": "Python 3",
   "language": "python",
   "name": "python3"
  },
  "language_info": {
   "codemirror_mode": {
    "name": "ipython",
    "version": 2
   },
   "file_extension": ".py",
   "mimetype": "text/x-python",
   "name": "python",
   "nbconvert_exporter": "python",
   "pygments_lexer": "ipython2",
   "version": "2.7.6"
  }
 },
 "nbformat": 4,
 "nbformat_minor": 0
}