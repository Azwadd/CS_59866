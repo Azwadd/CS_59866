{
 "cells": [
  {
   "cell_type": "markdown",
   "id": "3e9bf62d",
   "metadata": {},
   "source": [
    "Homework 4:\n",
    "---\n",
    "For this homework we will be building various neural networks to classify handwritten digits.\n",
    "\n",
    "### Question 1: Feed-Forward Neural Network to classify MNIST digits.\n",
    "\n",
    "Train a neural network to classify MNIST digits. Remember we have to pick 3 different components to build a neural network: (1) Network Architecture (2) Loss Function and (3) Optimizer. For this assignment use the following:\n",
    "\n",
    "Network Architecture:\n",
    "* [28x28] input \n",
    "* -> Use a view to reshape to [784]\n",
    "* -> Linear Layer [784, Num Hidden Units]\n",
    "* -> Relu\n",
    "* -> Output Linear Layer [NumHiddenUnits, 10]\n",
    "* -> Log Softmax (`torch.nn.functional.log_softmax(output)`)\n",
    "\n",
    "Loss: Please use the negative log likelihood loss function (nll_loss).\n",
    "Optimizer: Please use SGD optimizer (https://pytorch.org/docs/stable/generated/torch.optim.SGD.html#torch.optim.SGD), but you can also experiment with Adam optimizer in 1.6.\n",
    "\n",
    "1.1: Create a Pytorch module to implement a version of this neural network. Display the shape of the network using ` torchsummary.summary`.\n",
    "\n",
    "1.2 Create a training loop to train this model using SGD optimizer. Note, we should train using minibatches. The dataloader will create minibatches for you automatically and you can just loop through as follows:\n",
    "\n",
    "```\n",
    "for epoch in range(0, num_epochs):\n",
    "  # Loop over the dataloader and get minibatches:\n",
    "  for batch_idx, (data, target) in enumerate(train_dataloader):\n",
    "    # TODO: Reset gradient on optimizer\n",
    "    # TODO: Evaluate th emodel on data\n",
    "    # TODO: Calculate loss using nll_loss\n",
    "    # TODO: Evaluate gradient with respect to the loss function\n",
    "    # TODO: Run a step of the optimizer.\n",
    "    # TODO: Store the loss function for plotting every X batches.\n",
    "```\n",
    "\n",
    "\n",
    "1.3 Train your model on MNIST digits. Please record the training loss every 100 minibatch steps. Display this as a plot where the x axis is the minibatch index and the y axis is the training loss at that step.\n",
    "\n",
    "1.4: Create a classifier for your model. The output of your model can be evaluated by usuing the forward function, or just calling the model ```trained_nn_model(sample)```. The output of your model will be a tensor of 10 values representing the log softmax value for each class. You can build a classifier by simply taking the index with the highest value. For example if the classifier outputs `[.1, .2, .6, .1]` you would classify it as class 2.\n",
    "\n",
    "1.5: Create and display a confusion matrix for your classifier on your Train and Test data using https://scikit-learn.org/stable/modules/generated/sklearn.metrics.ConfusionMatrixDisplay.html. Discuss what you observe from this confusion matrix. Which digits are mistaken for each other?\n",
    "\n",
    "1.6: Experiment with different network shapes (number of hidden layers and number of hidden units per layer) or optimizers (for example, you can try Adam instead of SGD). Report the Train and Test accuracy of at least 4 experiments here and discuss what works well and what does not.\n",
    "\n",
    "1.7: Find some examples of images your model misclassifies. Display these images and discuss why the model does not work well on them. \n",
    "\n",
    "### Question 2: Convolutional Neural Network to classify MNIST digits.\n",
    "\n",
    "We will answer similar questions as above but using a convolutional neural network. Please start with this example network module.\n",
    "\n",
    "```\n",
    "class SimpleConvNetModel(nn.Module):\n",
    "    def __init__(self):\n",
    "        super().__init__()\n",
    "        self.conv1 = nn.Conv2d(1, 10, kernel_size=5)\n",
    "        self.conv2 = nn.Conv2d(10, 20, kernel_size=5)\n",
    "        self.dense_layer = nn.Linear(320, 50)      \n",
    "        self.output_layer = nn.Linear(50, num_classes)\n",
    "\n",
    "    def forward(self, x):\n",
    "        x = F.relu(F.max_pool2d(self.conv1(x), 2))\n",
    "        x = F.relu(F.max_pool2d(self.conv2_drop(self.conv2(x)), 2))\n",
    "        x = x.view(-1, 320)\n",
    "        x = F.relu(self.dense_layer(x))\n",
    "        x = F.dropout(x, training=self.training)\n",
    "        output = self.output_layer(x)\n",
    "        return F.log_softmax(output)\n",
    "```\n",
    "\n",
    "2.1: Create a Pytorch module to implement a version of this neural network as implemented above. Display the shape of the network using ` torchsummary.summary`.\n",
    "\n",
    "2.2 Create a training loop to train this model using Adam optimizer. This should be similar to 1.2.\n",
    "\n",
    "2.3 Train your model on MNIST digits. Please record the training loss every 100 minibatch steps. Display this as a plot where the x axis is the minibatch index and the y axis is the training loss at that step.\n",
    "\n",
    "2.4: Create a classifier for your model and report train and test accuracy. How does this compare to the performance of your non-convolutional neural network in question 1?\n",
    "\n",
    "2.5: Create and display a confusion matrix for your classifier on your Train and Test data. Discuss what you observe from this confusion matrix. Which digits are mistaken for each other? How does this differ from 1.5?\n",
    "\n",
    "2.6: Experiment with different kernel sizes and stride parameters to your convolutions. Report the Train and Test accuracy of at least 2 experiments here and discuss what works well and what does not.\n",
    "\n",
    "2.7: Experiment with the network structure. Can you add in an additional convolution? Report the Train and Test accuracy of at least 2 experiments here and discuss what works well and what does not."
   ]
  },
  {
   "cell_type": "code",
   "execution_count": 4,
   "id": "07f988c3",
   "metadata": {},
   "outputs": [],
   "source": [
    "# Imports\n",
    "import torch\n",
    "import torchvision\n",
    "import torchvision.transforms as transforms\n",
    "import matplotlib.pyplot as plt\n",
    "import numpy as np\n",
    "from torchsummary import summary\n",
    "import matplotlib.pyplot as plt\n",
    "import torch.nn as nn\n",
    "import torch.nn.functional as F\n",
    "import torch.optim as optim\n",
    "import math\n",
    "import matplotlib.pyplot as plt\n",
    "from mpl_toolkits.mplot3d import Axes3D\n",
    "from matplotlib.pyplot import figure\n",
    "from matplotlib import cm\n",
    "import numpy as np"
   ]
  },
  {
   "cell_type": "code",
   "execution_count": 5,
   "id": "5f9d91f3",
   "metadata": {},
   "outputs": [],
   "source": [
    "# GLOBAL CONSTANTS\n",
    "num_dimensions = 28**2\n",
    "num_classes = 10"
   ]
  },
  {
   "cell_type": "code",
   "execution_count": 6,
   "id": "b8121903",
   "metadata": {},
   "outputs": [],
   "source": [
    "# Load the MNIST dataset:\n",
    "transform = transforms.Compose([\n",
    "    transforms.ToTensor(),\n",
    "    transforms.Normalize((0.5,), (0.5,))\n",
    "])\n",
    "mnist_train_dataset = torchvision.datasets.MNIST(\n",
    "    root='../../Data/MNIST', train=True, download=True, transform=transform)\n",
    "mnist_test_dataset = torchvision.datasets.MNIST(\n",
    "    root='../../Data/MNIST', train=False, download=True, transform=transform)"
   ]
  },
  {
   "cell_type": "code",
   "execution_count": 7,
   "id": "008be9da",
   "metadata": {},
   "outputs": [
    {
     "data": {
      "image/png": "[encoded data removed]",
      "text/plain": [
       "<Figure size 800x640 with 25 Axes>"
      ]
     },
     "metadata": {},
     "output_type": "display_data"
    }
   ],
   "source": [
    "def image_grid(data, num_figs):\n",
    "    \"\"\"Function to display a grid of images\n",
    "    Args:\n",
    "      data: torchvision dataset\n",
    "      num_figs: number of images to display\n",
    "    \"\"\"\n",
    "    fig = figure(figsize=(10, 8), dpi=80)\n",
    "    for i in range(num_figs):\n",
    "        fig_i = int(math.sqrt(num_figs))\n",
    "        plt.subplot(fig_i, fig_i, i+1)\n",
    "        plt.tight_layout()\n",
    "        image, label = data[i]\n",
    "        plt.imshow(image.reshape(28, 28), cmap='gray')\n",
    "        plt.title(f\"Label {label}\")\n",
    "        plt.xticks([])\n",
    "        plt.yticks([])\n",
    "image_grid(mnist_train_dataset, 25)"
   ]
  },
  {
   "cell_type": "code",
   "execution_count": 8,
   "id": "4b1878a1",
   "metadata": {},
   "outputs": [],
   "source": [
    "# Let's set the random seed so we will get the seame behavior each run.\n",
    "random_seed = 42\n",
    "torch.manual_seed(random_seed)\n",
    "\n",
    "# Let's make sure to turn off GPU backend in case you happen to have GPU. The only\n",
    "# reason we do this is not to have to worry about moving data and models on and\n",
    "# off of the GPU for now. If you are training large models and have a GPU, then\n",
    "# you will want to use it.\n",
    "torch.backends.cudnn.enabled = False"
   ]
  },
  {
   "cell_type": "code",
   "execution_count": 9,
   "id": "2eb5bd1a",
   "metadata": {},
   "outputs": [],
   "source": [
    "# Put training and test data into data loaders allow batching of datasets.\n",
    "batch_size_train = 64\n",
    "batch_size_test = 1000\n",
    "train_loader = torch.utils.data.DataLoader(mnist_train_dataset, batch_size=batch_size_train, shuffle=True)\n",
    "test_loader = torch.utils.data.DataLoader(mnist_test_dataset, batch_size=batch_size_test, shuffle=True)"
   ]
  },
  {
   "cell_type": "markdown",
   "id": "9bd00931",
   "metadata": {},
   "source": [
    "Question 1.1: Create a Pytorch module to implement a version of this neural network. Display the shape of the network using ` torchsummary.summary`."
   ]
  },
  {
   "cell_type": "code",
   "execution_count": 10,
   "id": "9e6da77d",
   "metadata": {},
   "outputs": [
    {
     "name": "stdout",
     "output_type": "stream",
     "text": [
      "==========================================================================================\n",
      "Layer (type:depth-idx)                   Output Shape              Param #\n",
      "==========================================================================================\n",
      "├─Linear: 1-1                            [-1, 20]                  15,700\n",
      "├─Linear: 1-2                            [-1, 10]                  210\n",
      "==========================================================================================\n",
      "Total params: 15,910\n",
      "Trainable params: 15,910\n",
      "Non-trainable params: 0\n",
      "Total mult-adds (M): 0.02\n",
      "==========================================================================================\n",
      "Input size (MB): 0.00\n",
      "Forward/backward pass size (MB): 0.00\n",
      "Params size (MB): 0.06\n",
      "Estimated Total Size (MB): 0.06\n",
      "==========================================================================================\n"
     ]
    },
    {
     "data": {
      "text/plain": [
       "==========================================================================================\n",
       "Layer (type:depth-idx)                   Output Shape              Param #\n",
       "==========================================================================================\n",
       "├─Linear: 1-1                            [-1, 20]                  15,700\n",
       "├─Linear: 1-2                            [-1, 10]                  210\n",
       "==========================================================================================\n",
       "Total params: 15,910\n",
       "Trainable params: 15,910\n",
       "Non-trainable params: 0\n",
       "Total mult-adds (M): 0.02\n",
       "==========================================================================================\n",
       "Input size (MB): 0.00\n",
       "Forward/backward pass size (MB): 0.00\n",
       "Params size (MB): 0.06\n",
       "Estimated Total Size (MB): 0.06\n",
       "=========================================================================================="
      ]
     },
     "execution_count": 10,
     "metadata": {},
     "output_type": "execute_result"
    }
   ],
   "source": [
    "# Question 1.1\n",
    "class SimpleNeuralNet(nn.Module):\n",
    "    def __init__(self):\n",
    "        super().__init__()\n",
    "        self.linear = nn.Linear(num_dimensions, 20)\n",
    "        self.linear2 = nn.Linear(20, num_classes)\n",
    "\n",
    "    def forward(self, x):\n",
    "        x = x.view(-1, num_dimensions)\n",
    "        z1 = self.linear(x)\n",
    "        a1 = F.relu(z1)\n",
    "        z2 = self.linear2(a1)\n",
    "        return F.log_softmax(z2, dim=1)\n",
    "\n",
    "nn = SimpleNeuralNet()\n",
    "summary(nn, (1, 28, 28))"
   ]
  },
  {
   "cell_type": "markdown",
   "id": "125f65e3",
   "metadata": {},
   "source": [
    "Question 1.2 Create a training loop to train this model using SGD optimizer. Note, we should train using minibatches. The dataloader will create minibatches for you automatically and you can just loop through as follows:"
   ]
  },
  {
   "cell_type": "code",
   "execution_count": 24,
   "id": "414f2554",
   "metadata": {},
   "outputs": [],
   "source": [
    "# Question 1.2\n",
    "def train(model, epochs, training_data, minibatch_steps, optimizer, loss_function):\n",
    "    errors = []\n",
    "    for epochs in range(epochs):\n",
    "        for batch_idx, (data, target) in enumerate(training_data):\n",
    "            optimizer.zero_grad()\n",
    "            output = model(data)\n",
    "            loss = loss_function(output, target)\n",
    "            loss.backward()\n",
    "            optimizer.step()\n",
    "            if batch_idx % minibatch_steps == 0:\n",
    "                errors.append(loss.item())\n",
    "    return errors\n",
    "# We can pass SGD as the optimizer in the parameter and F.nll_loss as loss function in the parameter\n",
    "# ---------------------- Example below -------------------------------------------------------\n",
    "# train(nn_model, 200, train_loader, 100, torch.optim.SGD(nn_model.parameters(), lr=1e-1), F.nll_loss) "
   ]
  },
  {
   "cell_type": "markdown",
   "id": "1fcc072d",
   "metadata": {},
   "source": [
    "Question 1.3 Train your model on MNIST digits. Please record the training loss every 100 minibatch steps. Display this as a plot where the x axis is the minibatch index and the y axis is the training loss at that step."
   ]
  },
  {
   "cell_type": "code",
   "execution_count": 42,
   "id": "d8e3b000",
   "metadata": {},
   "outputs": [
    {
     "data": {
      "image/png": "[encoded data removed]",
      "text/plain": [
       "<Figure size 432x288 with 1 Axes>"
      ]
     },
     "metadata": {
      "needs_background": "light"
     },
     "output_type": "display_data"
    }
   ],
   "source": [
    "# Question 1.3\n",
    "errors = train(nn, 10, train_loader, 100, torch.optim.SGD(nn.parameters(), lr=1e-2), F.nll_loss)  # 100 in the paramemters represents recording for every 100 minibatch steps\n",
    "plt.plot(errors) \n",
    "plt.show()"
   ]
  },
  {
   "cell_type": "markdown",
   "id": "524a7ac5",
   "metadata": {},
   "source": [
    "Question 1.4: Create a classifier for your model. The output of your model can be evaluated by usuing the forward function, or just calling the model ```trained_nn_model(sample)```. The output of your model will be a tensor of 10 values representing the log softmax value for each class. You can build a classifier by simply taking the index with the highest value. For example if the classifier outputs `[.1, .2, .6, .1]` you would classify it as class 2."
   ]
  },
  {
   "cell_type": "code",
   "execution_count": 12,
   "id": "c68ca040",
   "metadata": {},
   "outputs": [
    {
     "name": "stdout",
     "output_type": "stream",
     "text": [
      "Training Accuracy: 88.28\n",
      "Testing Accuracy: 88.83\n"
     ]
    }
   ],
   "source": [
    "# Question 1.4\n",
    "def classifier(model, data):\n",
    "    correct, total = 0, 0\n",
    "    with torch.no_grad():\n",
    "        for batch_idx, (data, target) in enumerate(data):\n",
    "            output = model(data)\n",
    "            rest, predicted = torch.max(output.data, 1)\n",
    "            total += target.size(0)     \n",
    "            correct += (predicted == target).sum().item()\n",
    "    return 100 * correct / total\n",
    "\n",
    "print(\"Training Accuracy:\", classifier(nn, train_loader))\n",
    "print(\"Testing Accuracy:\", classifier(nn, test_loader))"
   ]
  },
  {
   "cell_type": "markdown",
   "id": "682745ea",
   "metadata": {},
   "source": [
    "Question 1.5: Create and display a confusion matrix for your classifier on your Train and Test data using https://scikit-learn.org/stable/modules/generated/sklearn.metrics.ConfusionMatrixDisplay.html. Discuss what you observe from this confusion matrix. Which digits are mistaken for each other?"
   ]
  },
  {
   "cell_type": "code",
   "execution_count": 94,
   "id": "3f5e77ac",
   "metadata": {},
   "outputs": [
    {
     "data": {
      "image/png": "[encoded data removed]",
      "text/plain": [
       "<Figure size 432x288 with 2 Axes>"
      ]
     },
     "metadata": {
      "needs_background": "light"
     },
     "output_type": "display_data"
    }
   ],
   "source": [
    "from sklearn.metrics import confusion_matrix, ConfusionMatrixDisplay\n",
    "labels, predicts = [], []\n",
    "with torch.no_grad():\n",
    "    for batch_idx, (data, target) in enumerate(test_loader):\n",
    "        output = nn(data)\n",
    "        rest, predicted = torch.max(output.data, 1)\n",
    "        labels.append(target[batch_idx].item())\n",
    "        predicts.append(predicted[batch_idx].item())\n",
    "\n",
    "cm = confusion_matrix(labels, predicts, labels=[0, 1, 2, 3, 4, 5, 6, 7, 8, 9])\n",
    "disp = ConfusionMatrixDisplay(confusion_matrix=cm, display_labels=[0, 1, 2, 3, 4, 5, 6, 7, 8, 9])\n",
    "disp.plot()\n",
    "plt.show()"
   ]
  },
  {
   "cell_type": "markdown",
   "id": "3c81ca2a",
   "metadata": {},
   "source": [
    "Question 1.6: \n",
    "Experiment with different network shapes (number of hidden layers and number of hidden units per layer) or optimizers (for example, you can try Adam instead of SGD). Report the Train and Test accuracy of at least 4 experiments here and discuss what works well and what does not."
   ]
  },
  {
   "cell_type": "markdown",
   "id": "82ffd4fd",
   "metadata": {},
   "source": [
    "# Experiment 1\n",
    "* In experiment 1 we will test increasing the number of hidden units while keeping the number of hidden layers the same will cause a change in the accuracy.\n",
    "* The results of the next experiment will explain to us how increasing the number of hidden units will affect accuracy."
   ]
  },
  {
   "cell_type": "code",
   "execution_count": 16,
   "id": "8dd2665e",
   "metadata": {},
   "outputs": [
    {
     "name": "stdout",
     "output_type": "stream",
     "text": [
      "SGD Optimizer Results\n",
      "Training Accuracy: 88.35333333333334\n",
      "Testing Accuracy: 89.03 \n",
      "\n",
      "Adam Optimizer Results\n",
      "Training Accuracy: 88.225\n",
      "Testing Accuracy: 88.98\n"
     ]
    }
   ],
   "source": [
    "# Question 1.6 ---> Experiment 1\n",
    "from torch import nn\n",
    "class NeuralNetwork_1(nn.Module):\n",
    "    def __init__(self):\n",
    "        super().__init__()\n",
    "        self.linear = nn.Linear(num_dimensions, 40)\n",
    "        self.linear2 = nn.Linear(40, num_classes)\n",
    "\n",
    "    def forward(self, x):\n",
    "        x = x.view(-1, num_dimensions)\n",
    "        x = F.relu(self.linear(x))\n",
    "        x = self.linear2(x)\n",
    "        return F.log_softmax(x, dim=1)\n",
    "\n",
    "# ---------------------------------SGD vs Adam optimizer---------------------------------------\n",
    "# SGD optimizer\n",
    "print(\"SGD Optimizer Results\")\n",
    "nn_sgd = NeuralNetwork_1()\n",
    "train(nn_sgd, 1, train_loader, 100, torch.optim.SGD(nn_sgd.parameters(), lr=1e-2), F.nll_loss) \n",
    "print(\"Training Accuracy:\", classifier(nn_sgd, train_loader))\n",
    "print(\"Testing Accuracy:\", classifier(nn_sgd, test_loader), \"\\n\")\n",
    "# Adam optimizer\n",
    "print(\"Adam Optimizer Results\")\n",
    "nn_adam = NeuralNetwork_1()\n",
    "train(nn_adam, 1, train_loader, 100, torch.optim.SGD(nn_adam.parameters(), lr=1e-2), F.nll_loss) \n",
    "print(\"Training Accuracy:\", classifier(nn_adam, train_loader))\n",
    "print(\"Testing Accuracy:\", classifier(nn_adam, test_loader))"
   ]
  },
  {
   "cell_type": "markdown",
   "id": "2602bb04",
   "metadata": {},
   "source": [
    "# Experiment 1 analysis\n",
    "* The NeuralNetwork_1 model had marginally better accuracies than the SimpleNeuralNet.\n",
    "* Therefore, we can say that increasing the number of hidden units while keeping the number of hidden layers the same can marginally increase accuracy.\n",
    "* Additionally, for NeuralNetwork_1 model the SGD Optimizer was better than the Adam Optimizer by a few percentages."
   ]
  },
  {
   "cell_type": "markdown",
   "id": "9366cf87",
   "metadata": {},
   "source": [
    "# Experiment 2\n",
    "* In experiment 2 we will test if decreasing the number of hidden units while keeping the number of hidden layers the same will cause a change in the accuracy\n",
    "* The results of the next experiment will explain to us how increasing the number of hidden units will affect accuracy."
   ]
  },
  {
   "cell_type": "code",
   "execution_count": 17,
   "id": "8bffe166",
   "metadata": {},
   "outputs": [
    {
     "name": "stdout",
     "output_type": "stream",
     "text": [
      "SGD Optimizer Results\n",
      "Training Accuracy: 88.075\n",
      "Testing Accuracy: 88.81 \n",
      "\n",
      "Adam Optimizer Results\n",
      "Training Accuracy: 87.99666666666667\n",
      "Testing Accuracy: 88.44\n"
     ]
    }
   ],
   "source": [
    "# Question 1.6 ---> Experiment 2\n",
    "class NeuralNetwork_2(nn.Module):\n",
    "    def __init__(self):\n",
    "        super().__init__()\n",
    "        self.linear = nn.Linear(num_dimensions, 15)\n",
    "        self.linear2 = nn.Linear(15, num_classes)\n",
    "\n",
    "    def forward(self, x):\n",
    "        x = x.view(-1, num_dimensions)\n",
    "        x = F.relu(self.linear(x))\n",
    "        x = self.linear2(x)\n",
    "        return F.log_softmax(x, dim=1)\n",
    "\n",
    "# ---------------------SGD vs Adam optimizer----------------------------------\n",
    "# SGD optimizer\n",
    "print(\"SGD Optimizer Results\")\n",
    "nn_sgd = NeuralNetwork_2()\n",
    "train(nn_sgd, 1, train_loader, 100, torch.optim.SGD(nn_sgd.parameters(), lr=1e-2), F.nll_loss) \n",
    "print(\"Training Accuracy:\", classifier(nn_sgd, train_loader))\n",
    "print(\"Testing Accuracy:\", classifier(nn_sgd, test_loader), \"\\n\")\n",
    "# Adam optimizer\n",
    "print(\"Adam Optimizer Results\")\n",
    "nn_adam = NeuralNetwork_2()\n",
    "train(nn_adam, 1, train_loader, 100, torch.optim.SGD(nn_adam.parameters(), lr=1e-2), F.nll_loss) \n",
    "print(\"Training Accuracy:\", classifier(nn_adam, train_loader))\n",
    "print(\"Testing Accuracy:\", classifier(nn_adam, test_loader))"
   ]
  },
  {
   "cell_type": "markdown",
   "id": "60f3eeeb",
   "metadata": {},
   "source": [
    "# Experiment 2 analysis\n",
    "* The NeuralNetwork_2 model was marginally lower accuracies than the SimpleNeuralNet and NeuralNetwork_1.\n",
    "* Therefore, we can say that decreasing the number of hidden units while keeping the number of hidden layers the same can marginally decrease accuracy.\n",
    "* Additionally, for NeuralNetwork_2 model the SGD Optimizer was better than the Adam Optimizer by a few percentages."
   ]
  },
  {
   "cell_type": "markdown",
   "id": "5f2a7c60",
   "metadata": {},
   "source": [
    "# Experiment 3\n",
    "* In experiment 3 we will test if increase the number of hidden layers will cause a change in the performance.\n",
    "* The results of the next experiment will explain to us how increasing the number of hidden layers will affect performance."
   ]
  },
  {
   "cell_type": "code",
   "execution_count": 18,
   "id": "904f198f",
   "metadata": {},
   "outputs": [
    {
     "name": "stdout",
     "output_type": "stream",
     "text": [
      "SGD Optimizer Results\n",
      "Training Accuracy: 85.685\n",
      "Testing Accuracy: 86.19 \n",
      "\n",
      "Adam Optimizer Results\n",
      "Training Accuracy: 86.52\n",
      "Testing Accuracy: 86.66\n"
     ]
    }
   ],
   "source": [
    "# Question 1.6 ---> Experiment 3\n",
    "class NeuralNetwork_3(nn.Module):\n",
    "    def __init__(self):\n",
    "        super().__init__()\n",
    "        self.linear = nn.Linear(num_dimensions, 40)\n",
    "        self.linear2 = nn.Linear(40, 20)\n",
    "        self.linear3 = nn.Linear(20, 10)\n",
    "\n",
    "    def forward(self, x):\n",
    "        x = x.view(-1, num_dimensions)\n",
    "        x = F.relu(self.linear(x))\n",
    "        x = F.relu(self.linear2(x))\n",
    "        x = self.linear3(x)\n",
    "        return F.log_softmax(x, dim=1)\n",
    "\n",
    "# ---------------------SGD vs Adam optimizer----------------------------------\n",
    "# SGD optimizer\n",
    "print(\"SGD Optimizer Results\")\n",
    "nn_sgd = NeuralNetwork_3()\n",
    "train(nn_sgd, 1, train_loader, 100, torch.optim.SGD(nn_sgd.parameters(), lr=1e-2), F.nll_loss) \n",
    "print(\"Training Accuracy:\", classifier(nn_sgd, train_loader))\n",
    "print(\"Testing Accuracy:\", classifier(nn_sgd, test_loader), \"\\n\")\n",
    "# Adam optimizer\n",
    "print(\"Adam Optimizer Results\")\n",
    "nn_adam = NeuralNetwork_3()\n",
    "train(nn_adam, 1, train_loader, 100, torch.optim.SGD(nn_adam.parameters(), lr=1e-2), F.nll_loss) \n",
    "print(\"Training Accuracy:\", classifier(nn_adam, train_loader))\n",
    "print(\"Testing Accuracy:\", classifier(nn_adam, test_loader))"
   ]
  },
  {
   "cell_type": "markdown",
   "id": "679498ce",
   "metadata": {},
   "source": [
    "# Experiment 3 analysis\n",
    "* The NeuralNetwork_3 model had lower accuracies than the SimpleNeuralNet, NeuralNetwork_1 and NeuralNetwork_2 models.\n",
    "* As the results show, increasing the number of hidden layers decreased the accuracy\n",
    "* Additionally, for NeuralNetwork_3 model the SGD Optimizer was better than the Adam Optimizer by a few percentages."
   ]
  },
  {
   "cell_type": "markdown",
   "id": "fea79dd2",
   "metadata": {},
   "source": [
    "# Experiment 4"
   ]
  },
  {
   "cell_type": "code",
   "execution_count": 20,
   "id": "54aab322",
   "metadata": {},
   "outputs": [
    {
     "name": "stdout",
     "output_type": "stream",
     "text": [
      "SGD Optimizer Results\n",
      "Training Accuracy: 83.72666666666667\n",
      "Testing Accuracy: 83.89 \n",
      "\n",
      "Adam Optimizer Results\n",
      "Training Accuracy: 85.56333333333333\n",
      "Testing Accuracy: 86.13\n"
     ]
    }
   ],
   "source": [
    "# Question 1.6 ---> Experiment 4\n",
    "class NeuralNetwork_4(nn.Module):\n",
    "    def __init__(self):\n",
    "        super().__init__()\n",
    "        self.linear = nn.Linear(num_dimensions, 20)\n",
    "        self.linear2 = nn.Linear(20, 15)\n",
    "        self.linear3 = nn.Linear(15, 10)\n",
    "\n",
    "    def forward(self, x):\n",
    "        x = x.view(-1, num_dimensions)\n",
    "        x = F.relu(self.linear(x))\n",
    "        x = F.relu(self.linear2(x))\n",
    "        x = self.linear3(x)\n",
    "        return F.log_softmax(x, dim=1)\n",
    "\n",
    "# ---------------------SGD vs Adam optimizer----------------------------------\n",
    "# SGD optimizer\n",
    "print(\"SGD Optimizer Results\")\n",
    "nn_sgd = NeuralNetwork_4()\n",
    "train(nn_sgd, 1, train_loader, 100, torch.optim.SGD(nn_sgd.parameters(), lr=1e-2), F.nll_loss) \n",
    "print(\"Training Accuracy:\", classifier(nn_sgd, train_loader))\n",
    "print(\"Testing Accuracy:\", classifier(nn_sgd, test_loader), \"\\n\")\n",
    "# Adam optimizer\n",
    "print(\"Adam Optimizer Results\")\n",
    "nn_adam = NeuralNetwork_4()\n",
    "train(nn_adam, 1, train_loader, 100, torch.optim.SGD(nn_adam.parameters(), lr=1e-2), F.nll_loss) \n",
    "print(\"Training Accuracy:\", classifier(nn_adam, train_loader))\n",
    "print(\"Testing Accuracy:\", classifier(nn_adam, test_loader))"
   ]
  },
  {
   "cell_type": "markdown",
   "id": "ed021070",
   "metadata": {},
   "source": [
    "Question 1.7: Find some examples of images your model misclassifies. Display these images and discuss why the model does not work well on them.  \n",
    "Answer 1.7 <---> Look under misclassification images to find discusion"
   ]
  },
  {
   "cell_type": "code",
   "execution_count": null,
   "id": "ab5a6577",
   "metadata": {},
   "outputs": [
    {
     "name": "stdout",
     "output_type": "stream",
     "text": [
      "Misclassification found!\n"
     ]
    },
    {
     "data": {
      "image/png": "[encoded data removed]",
      "text/plain": [
       "<Figure size 432x288 with 1 Axes>"
      ]
     },
     "metadata": {
      "needs_background": "light"
     },
     "output_type": "display_data"
    },
    {
     "name": "stdout",
     "output_type": "stream",
     "text": [
      "tensor(9)\n"
     ]
    }
   ],
   "source": [
    "# Question 1.7\n",
    "def misclassification(model, data):\n",
    "    data_loader = torch.utils.data.DataLoader(data, batch_size=1, shuffle=False)\n",
    "    with torch.no_grad():\n",
    "        for batch_idx, (data, rest) in enumerate(data_loader):\n",
    "            output = model(data)\n",
    "            rest, predicted = torch.max(output.data, 1)\n",
    "            image, label = mnist_test_dataset[batch_idx]\n",
    "            if label != predicted[len(predicted)-1]:\n",
    "                print(\"Misclassification found!\")\n",
    "                plt.imshow(image.reshape(28, 28), cmap='gray')\n",
    "                plt.show()\n",
    "                print(predicted[len(predicted)-1].item())\n",
    "                break\n",
    "\n",
    "# Find misclassication with test_dataset\n",
    "misclassification(nn, mnist_test_dataset)"
   ]
  },
  {
   "cell_type": "code",
   "execution_count": null,
   "id": "0325e035",
   "metadata": {},
   "outputs": [],
   "source": []
  },
  {
   "cell_type": "markdown",
   "id": "d2ede2b5",
   "metadata": {},
   "source": [
    "### Question 2: Convolutional Neural Network to classify MNIST digits.\n",
    "We will answer similar questions as above but using a convolutional neural network. Please start with this example network module."
   ]
  },
  {
   "cell_type": "code",
   "execution_count": null,
   "id": "fcfdaaed",
   "metadata": {},
   "outputs": [
    {
     "name": "stdout",
     "output_type": "stream",
     "text": [
      "----------------------------------------------------------------\n",
      "        Layer (type)               Output Shape         Param #\n",
      "================================================================\n",
      "            Conv2d-1           [-1, 10, 24, 24]             260\n",
      "            Conv2d-2             [-1, 20, 8, 8]           5,020\n",
      "         Dropout2d-3             [-1, 20, 8, 8]               0\n",
      "            Linear-4                   [-1, 50]          16,050\n",
      "            Linear-5                   [-1, 10]             510\n",
      "================================================================\n",
      "Total params: 21,840\n",
      "Trainable params: 21,840\n",
      "Non-trainable params: 0\n",
      "----------------------------------------------------------------\n",
      "Input size (MB): 0.00\n",
      "Forward/backward pass size (MB): 0.06\n",
      "Params size (MB): 0.08\n",
      "Estimated Total Size (MB): 0.15\n",
      "----------------------------------------------------------------\n"
     ]
    }
   ],
   "source": [
    "# CNN Model\n",
    "class SimpleConvNetModel(nn.Module):\n",
    "    def __init__(self):\n",
    "        super(SimpleConvNetModel, self).__init__()\n",
    "        self.conv1 = nn.Conv2d(1, 10, kernel_size=5)\n",
    "        self.conv2 = nn.Conv2d(10, 20, kernel_size=5)\n",
    "        self.conv2_drop = nn.Dropout2d()\n",
    "        self.fc1 = nn.Linear(320, 50)\n",
    "        self.fc2 = nn.Linear(50, 10)\n",
    "\n",
    "    def forward(self, x):\n",
    "        x = F.relu(F.max_pool2d(self.conv1(x), 2))\n",
    "        x = F.relu(F.max_pool2d(self.conv2_drop(self.conv2(x)), 2))\n",
    "        x = x.view(-1, 320)\n",
    "        x = F.relu(self.fc1(x))\n",
    "        x = F.dropout(x, training=self.training)\n",
    "        x = self.fc2(x)\n",
    "        return F.log_softmax(x, dim=1)\n",
    "\n",
    "cnn = SimpleConvNetModel()\n",
    "summary(cnn, (1, 28, 28))"
   ]
  },
  {
   "cell_type": "markdown",
   "id": "52b04f9a",
   "metadata": {},
   "source": [
    "* Question 2.2 Create a training loop to train this model using Adam optimizer. This should be similar to 1.2.\n",
    "* Question 2.3 Train your model on MNIST digits. Please record the training loss every 100 minibatch steps. \n",
    "Display this as a plot where the x axis is the minibatch index and the y axis is the training loss at that step."
   ]
  },
  {
   "cell_type": "code",
   "execution_count": null,
   "id": "c62a8978",
   "metadata": {},
   "outputs": [
    {
     "name": "stdout",
     "output_type": "stream",
     "text": [
      "There is a function already created in Question 1.2 called train()\n",
      " <function train at 0x0000019BB59DE550>\n"
     ]
    },
    {
     "data": {
      "image/png": "[encoded data removed]",
      "text/plain": [
       "<Figure size 432x288 with 1 Axes>"
      ]
     },
     "metadata": {
      "needs_background": "light"
     },
     "output_type": "display_data"
    }
   ],
   "source": [
    "# Question 2.2\n",
    "# Answer to Question 2.2 in train() below <--- reusing train() function as training loop\n",
    "errors = train(cnn, 1, train_loader, 100, torch.optim.Adam(cnn.parameters(), lr=1e-2), F.nll_loss) \n",
    "# Answer to Question 2.3 in train() above | the 100 parameter means that we record loss for every 100 minibatch steps\n",
    "plt.plot(errors) \n",
    "plt.show()"
   ]
  },
  {
   "cell_type": "markdown",
   "id": "489e8a92",
   "metadata": {},
   "source": [
    "Question 2.4: Create a classifier for your model and report train and test accuracy. How does this compare to the performance of your non-convolutional neural network in question 1?"
   ]
  },
  {
   "cell_type": "code",
   "execution_count": null,
   "id": "2327bb8b",
   "metadata": {},
   "outputs": [
    {
     "name": "stdout",
     "output_type": "stream",
     "text": [
      "Training Accuracy: 90.21833333333333\n",
      "Testing Accuracy: 90.62\n"
     ]
    }
   ],
   "source": [
    "# Question 2.4 <--- Function reused from 1.4\n",
    "print(\"Training Accuracy:\", classifier(cnn, train_loader))\n",
    "print(\"Testing Accuracy:\", classifier(cnn, test_loader))"
   ]
  },
  {
   "cell_type": "markdown",
   "id": "0dc8cb89",
   "metadata": {},
   "source": [
    "2.5: Create and display a confusion matrix for your classifier on your Train and Test data. Discuss what you observe from this confusion matrix. Which digits are mistaken for each other? How does this differ from 1.5?"
   ]
  },
  {
   "cell_type": "markdown",
   "id": "bceb1af5",
   "metadata": {},
   "source": [
    "2.6: Experiment with different kernel sizes and stride parameters to your convolutions. Report the Train and Test accuracy of at least 2 experiments here and discuss what works well and what does not."
   ]
  },
  {
   "cell_type": "markdown",
   "id": "9a39f57c",
   "metadata": {},
   "source": [
    "2.7: Experiment with the network structure. Can you add in an additional convolution? Report the Train and Test accuracy of at least 2 experiments here and discuss what works well and what does not."
   ]
  }
 ],
 "metadata": {
  "kernelspec": {
   "display_name": "Python 3 (ipykernel)",
   "language": "python",
   "name": "python3"
  },
  "language_info": {
   "codemirror_mode": {
    "name": "ipython",
    "version": 3
   },
   "file_extension": ".py",
   "mimetype": "text/x-python",
   "name": "python",
   "nbconvert_exporter": "python",
   "pygments_lexer": "ipython3",
   "version": "3.8.10"
  }
 },
 "nbformat": 4,
 "nbformat_minor": 5
}
