{
 "cells": [
  {
   "cell_type": "markdown",
   "id": "f1cd952a",
   "metadata": {},
   "source": [
    "# Homework 1 \n",
    "This assignment involves classifying heart disease from indicating features of an individual patient. This dataset includes various features corresponding to an indicator HeartDisease in which 0 indicates no heart disease and 1 indicates heart disease.\n",
    "\n",
    "First load up the dataset and explore it using various pandas tools (some helpful tips [here](https://towardsdatascience.com/data-exploration-101-with-pandas-e059d0661313)). After exploring the dataset we will try to predict whether or not a patient has heart disease. The third question will ask you to train a decision tree classifier on the dataset and report some results. We will be using common python libraries included in the sklearn package to do most of the work for us here. Later we will delve into how these packages work, but for this introductory assignment we can use these functions as a black box."
   ]
  },
  {
   "cell_type": "code",
   "execution_count": 1,
   "id": "c1c81ac5",
   "metadata": {},
   "outputs": [],
   "source": [
    "# Imports\n",
    "import pandas as pd\n",
    "from sklearn.metrics import accuracy_score\n",
    "from sklearn.model_selection import train_test_split\n",
    "from sklearn import tree "
   ]
  },
  {
   "cell_type": "code",
   "execution_count": 2,
   "id": "3bdd5a13",
   "metadata": {},
   "outputs": [
    {
     "data": {
      "text/html": [
       "<div>\n",
       "<style scoped>\n",
       "    .dataframe tbody tr th:only-of-type {\n",
       "        vertical-align: middle;\n",
       "    }\n",
       "\n",
       "    .dataframe tbody tr th {\n",
       "        vertical-align: top;\n",
       "    }\n",
       "\n",
       "    .dataframe thead th {\n",
       "        text-align: right;\n",
       "    }\n",
       "</style>\n",
       "<table border=\"1\" class=\"dataframe\">\n",
       "  <thead>\n",
       "    <tr style=\"text-align: right;\">\n",
       "      <th></th>\n",
       "      <th>Age</th>\n",
       "      <th>Sex</th>\n",
       "      <th>ChestPainType</th>\n",
       "      <th>RestingBP</th>\n",
       "      <th>Cholesterol</th>\n",
       "      <th>FastingBS</th>\n",
       "      <th>RestingECG</th>\n",
       "      <th>MaxHR</th>\n",
       "      <th>ExerciseAngina</th>\n",
       "      <th>Oldpeak</th>\n",
       "      <th>ST_Slope</th>\n",
       "      <th>HeartDisease</th>\n",
       "    </tr>\n",
       "  </thead>\n",
       "  <tbody>\n",
       "    <tr>\n",
       "      <th>0</th>\n",
       "      <td>40</td>\n",
       "      <td>M</td>\n",
       "      <td>ATA</td>\n",
       "      <td>140</td>\n",
       "      <td>289</td>\n",
       "      <td>0</td>\n",
       "      <td>Normal</td>\n",
       "      <td>172</td>\n",
       "      <td>N</td>\n",
       "      <td>0.0</td>\n",
       "      <td>Up</td>\n",
       "      <td>0</td>\n",
       "    </tr>\n",
       "    <tr>\n",
       "      <th>1</th>\n",
       "      <td>49</td>\n",
       "      <td>F</td>\n",
       "      <td>NAP</td>\n",
       "      <td>160</td>\n",
       "      <td>180</td>\n",
       "      <td>0</td>\n",
       "      <td>Normal</td>\n",
       "      <td>156</td>\n",
       "      <td>N</td>\n",
       "      <td>1.0</td>\n",
       "      <td>Flat</td>\n",
       "      <td>1</td>\n",
       "    </tr>\n",
       "    <tr>\n",
       "      <th>2</th>\n",
       "      <td>37</td>\n",
       "      <td>M</td>\n",
       "      <td>ATA</td>\n",
       "      <td>130</td>\n",
       "      <td>283</td>\n",
       "      <td>0</td>\n",
       "      <td>ST</td>\n",
       "      <td>98</td>\n",
       "      <td>N</td>\n",
       "      <td>0.0</td>\n",
       "      <td>Up</td>\n",
       "      <td>0</td>\n",
       "    </tr>\n",
       "    <tr>\n",
       "      <th>3</th>\n",
       "      <td>48</td>\n",
       "      <td>F</td>\n",
       "      <td>ASY</td>\n",
       "      <td>138</td>\n",
       "      <td>214</td>\n",
       "      <td>0</td>\n",
       "      <td>Normal</td>\n",
       "      <td>108</td>\n",
       "      <td>Y</td>\n",
       "      <td>1.5</td>\n",
       "      <td>Flat</td>\n",
       "      <td>1</td>\n",
       "    </tr>\n",
       "    <tr>\n",
       "      <th>4</th>\n",
       "      <td>54</td>\n",
       "      <td>M</td>\n",
       "      <td>NAP</td>\n",
       "      <td>150</td>\n",
       "      <td>195</td>\n",
       "      <td>0</td>\n",
       "      <td>Normal</td>\n",
       "      <td>122</td>\n",
       "      <td>N</td>\n",
       "      <td>0.0</td>\n",
       "      <td>Up</td>\n",
       "      <td>0</td>\n",
       "    </tr>\n",
       "  </tbody>\n",
       "</table>\n",
       "</div>"
      ],
      "text/plain": [
       "   Age Sex ChestPainType  RestingBP  Cholesterol  FastingBS RestingECG  MaxHR  \\\n",
       "0   40   M           ATA        140          289          0     Normal    172   \n",
       "1   49   F           NAP        160          180          0     Normal    156   \n",
       "2   37   M           ATA        130          283          0         ST     98   \n",
       "3   48   F           ASY        138          214          0     Normal    108   \n",
       "4   54   M           NAP        150          195          0     Normal    122   \n",
       "\n",
       "  ExerciseAngina  Oldpeak ST_Slope  HeartDisease  \n",
       "0              N      0.0       Up             0  \n",
       "1              N      1.0     Flat             1  \n",
       "2              N      0.0       Up             0  \n",
       "3              Y      1.5     Flat             1  \n",
       "4              N      0.0       Up             0  "
      ]
     },
     "execution_count": 2,
     "metadata": {},
     "output_type": "execute_result"
    }
   ],
   "source": [
    "# Load the heart disease dataset:\n",
    "dataframe = pd.read_csv(\"../data/heart.csv\")\n",
    "dataframe.head()"
   ]
  },
  {
   "cell_type": "markdown",
   "id": "f5422d53",
   "metadata": {},
   "source": [
    "**Question 1: Data Exploration Questions**\n",
    "* Question 1.1: How many positive examples of heart disease are in this dataset? \n",
    "* Question 1.2: How many negative examples (no heart disease) are in this dataset?\n",
    "* Question 1.3: What is the average age for subjects in this dataset?\n",
    "* Question 1.4: Which variable is most positively correlated with heart disease?\n",
    "* Question 1.5: Which variable is most negatively correlated with heart disease?\n",
    "* Question 1.6: How much does Age correlate with Max Heart Rate (MaxHR)?"
   ]
  },
  {
   "cell_type": "code",
   "execution_count": 3,
   "id": "04dfdace",
   "metadata": {},
   "outputs": [],
   "source": [
    "# Choose one X variables to predict from. We can add more variables into X here.\n",
    "X = dataframe[['Age']]\n",
    "\n",
    "# y variable is the target label we want to predict.\n",
    "y = dataframe['HeartDisease']\n",
    "\n",
    "# Split data into two sections. 70% will be for training, 30% will be for testing\n",
    "X_train, X_test, y_train, y_test = train_test_split(X, y, test_size=0.30, random_state=42)"
   ]
  },
  {
   "cell_type": "code",
   "execution_count": 4,
   "id": "487b1296",
   "metadata": {},
   "outputs": [
    {
     "name": "stdout",
     "output_type": "stream",
     "text": [
      "The predict_heart_disease_from_age accurately classifies 44.66% of examples\n"
     ]
    }
   ],
   "source": [
    "def predict_heart_disease_from_age(age: int) -> int:\n",
    "    return int(age > 100)\n",
    "predicted_y = [predict_heart_disease_from_age(a) for a in X['Age']]\n",
    "accuracy = accuracy_score(predicted_y, y)\n",
    "print(f\"The predict_heart_disease_from_age accurately classifies {accuracy*100:.2f}% of examples\")"
   ]
  },
  {
   "cell_type": "markdown",
   "id": "87a401dd",
   "metadata": {},
   "source": [
    "**Question 2: Manual Classifier**\n",
    "How would we manually create a function to solve this task for us? Try it.\n",
    "* Question 2.1: The function predict_heart_disease_from_age only predicts indivduals above 100 years old will have heart disease. This won't match any examples in the dataset, but still achieves 44.66% accuracy. Why is that?\n",
    "* Question 2.2: Try to make the best predict_heart_disease_from_age function you can. What is the best value to split at? How do you pick this? Please include the train and test accuracy."
   ]
  },
  {
   "cell_type": "code",
   "execution_count": 5,
   "id": "a4cf9937",
   "metadata": {},
   "outputs": [
    {
     "name": "stdout",
     "output_type": "stream",
     "text": [
      "The classifier accurately classifies 66.04% of train examples\n",
      "The classifier accurately classifies 58.33% of test examples\n"
     ]
    }
   ],
   "source": [
    "# Train a decision tree with max_depth 1.\n",
    "classifier = tree.DecisionTreeClassifier(max_depth=1)\n",
    "classifier = classifier.fit(X_train, y_train)\n",
    "\n",
    "# Predict and measure the accuracy on the training set.\n",
    "predicted_y_train = classifier.predict(X_train)\n",
    "accuracy = accuracy_score(y_train, predicted_y_train)\n",
    "print(f\"The classifier accurately classifies {accuracy*100:.2f}% of train examples\")\n",
    "\n",
    "# Predict and measure the accuracy on the testing set.\n",
    "predicted_y_test = classifier.predict(X_test)\n",
    "accuracy = accuracy_score(y_test, predicted_y_test)\n",
    "print(f\"The classifier accurately classifies {accuracy*100:.2f}% of test examples\")"
   ]
  },
  {
   "cell_type": "code",
   "execution_count": 6,
   "id": "078b5a68",
   "metadata": {},
   "outputs": [
    {
     "data": {
      "text/plain": [
       "[Text(167.4, 163.07999999999998, 'Age <= 54.5\\ngini = 0.497\\nsamples = 642\\nvalue = [298, 344]\\nclass = 1'),\n",
       " Text(83.7, 54.360000000000014, 'gini = 0.471\\nsamples = 332\\nvalue = [206, 126]\\nclass = 0'),\n",
       " Text(251.10000000000002, 54.360000000000014, 'gini = 0.417\\nsamples = 310\\nvalue = [92, 218]\\nclass = 1')]"
      ]
     },
     "execution_count": 6,
     "metadata": {},
     "output_type": "execute_result"
    },
    {
     "data": {
      "image/png": "[encoded data removed]",
      "text/plain": [
       "<Figure size 432x288 with 1 Axes>"
      ]
     },
     "metadata": {
      "needs_background": "light"
     },
     "output_type": "display_data"
    }
   ],
   "source": [
    "# Visualize the tree\n",
    "viz = tree.plot_tree(classifier, feature_names=X.columns, class_names=list(['0', '1']) , filled=True)\n",
    "# Alternatively, visualize the tree using dtreeviz package\n",
    "#from dtreeviz.trees import dtreeviz\n",
    "#viz = treeviz(clf, X, y, target_name=\"y\", feature_names=X.columns, class_names=list(['0', '1']))\n",
    "viz"
   ]
  },
  {
   "cell_type": "markdown",
   "id": "0b02fbb3",
   "metadata": {},
   "source": [
    "**Question 3: Training Decision Trees**\n",
    "* Question 3.1: Experiment with the X features included (currently only Age is included). Add MaxHR, RestingBP, or any other numerical features. (Note you cannot yet include categorical features such as ChestPainType). Include the train and test accuracy on various different sets of variables. Include a printout of the tree. \n",
    "* Question 3.2: Discuss how various features affect the performance of the model.\n",
    "* Question 3.3: Experiment with the max_depth hyperparementer parameter to DecisionTreeClassifier. How does that affect the results? Report train-accuracy and test-accuracy for various values of max_depth.\n",
    "* Question 3.4: Why might the train-accuracy and test-accuracy differ? "
   ]
  },
  {
   "cell_type": "markdown",
   "id": "1d8b6c32",
   "metadata": {},
   "source": [
    "**Submitting this assignment:**\n",
    "Please submit the notebook via Blackboard as a *.ipynb file: Please include output of the notebook cells (i.e. do not clear output). Download the file via File->Download As->Notebook (.ipynb)."
   ]
  }
 ],
 "metadata": {
  "kernelspec": {
   "display_name": "Python 3 (ipykernel)",
   "language": "python",
   "name": "python3"
  },
  "language_info": {
   "codemirror_mode": {
    "name": "ipython",
    "version": 3
   },
   "file_extension": ".py",
   "mimetype": "text/x-python",
   "name": "python",
   "nbconvert_exporter": "python",
   "pygments_lexer": "ipython3",
   "version": "3.7.0"
  }
 },
 "nbformat": 4,
 "nbformat_minor": 5
}