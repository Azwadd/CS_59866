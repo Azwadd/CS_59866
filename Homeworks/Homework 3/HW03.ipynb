{
 "cells": [
  {
   "cell_type": "markdown",
   "metadata": {},
   "source": [
    "## Homework 3- Feature Engineering for Classification\n",
    "\n",
    "Goal: Train the best classifier possible for Heart Disease Prediction while trying various feature engineering techniques and learning to run experiments to find the best possible model.\n",
    "\n",
    "\n",
    "### Feature Preprocessing\n",
    "For each categorical features implement two feature representations:\n",
    "1. OneHot Encoding: For example, transform `X_train['Sex']` with values `M or F` into two features `X_Train['Sex_M']`, `X_Train['Sex_F']` with values `0 or 1`\n",
    "2. Target Encoding: For example, transform `X_train['Sex']` with values `M or F` into a feature `X_Train['Sex-TargetEncoded']` with value equal to the average rate of heart disease of `M and F` respectively.\n",
    "\n",
    "Please implement these yourself, but you can check against sklearn.preprocessing implementations for correctness.\n",
    "\n",
    "The set of categorical features is:\n",
    "`categorical_features = ['Sex', 'ChestPainType', 'RestingECG', 'ExerciseAngina', 'ST_Slope']`\n",
    "\n",
    "\n",
    "For numerical features implement two feature normalisations:\n",
    "1. Standard Scaler (scale numeric values to have zero mean and unit variance). For example `X_train['Age-Scaled'] = (X_train['Age'] - mean) / standard_deviation`\n",
    "2. MinMax Normalization (subtract min and divide by max - min). For example `X_train['Age-MinMax'] = (X_train['Age'] - min) / (max - min)`\n",
    "\n",
    "Please implement these yourself but you can check against the sklearn.preprocessing implementations.\n",
    "\n",
    "The set of numeric features is:\n",
    "`numeric_features = [\"Age\", \"RestingBP\", \"Cholesterol\", \"FastingBS\", \"MaxHR\", \"Oldpeak\"]`\n",
    "    \n",
    "Note, any feature preprocessing parameters (like mean or standard deviation) should be calculated on training data only.\n",
    "\n",
    "### Feature Engineering:\n",
    "Create at least 5 custom features as functions of other features:\n",
    "\n",
    "Some ideas:\n",
    "  - A binary feature representing High Heart Rate `Custom-BinaryHighMaxHR`\n",
    "  - A bucketized categorical feature of Oldpeak or of MaxHR called `Oldpeak`\n",
    "  - A feature cross of a bucketized version of OldPeak and MaxHR for example `HighOldPeak_X_LowMaxHR`\n",
    "  \n",
    "### Feature Experiments:\n",
    "Please run at least this set of experiments, but try others as you see fit.\n",
    "1. All features with no scaling on numeric features and OneHot for categorical. No custom features.\n",
    "2. All features using StandardScaler for numeric and OneHot for categorical. No custom features.\n",
    "3. All features using StandardScaler for numeric and TargetEncoding for categorical. No custom features.\n",
    "4. All features using MinMax-Normalization for numeric and OneHot for categorical. No custom features.\n",
    "5. The kitchen sink: Include everything to try to get the best performance possible.\n",
    "6. Only custom features. How good can you get with your own custom feature set?\n",
    "7. Only categorical features using one of the encodings.\n",
    "8. Only numerical features using one of the encodings.\n",
    "\n",
    "\n",
    "### Model Training\n",
    "Model training Data:\n",
    "Separate data into a training set with 80% of the samples and a test set with 20%. \n",
    "`X_train, X_test, y_train, y_test = train_test_split(X, y, test_size=0.20, random_state=42)`. Note that ideally we would also have a validation set, but since this dataset is fairly small, we will just do train/test splits. Please use the same random state as above so we have comparable performance across the class.\n",
    "\n",
    "### Models\n",
    "Please run all experiments using at least 3 different models\n",
    "1. Logistic regression using `sklearn.linear_model.LogisticRegression`. Extra credit of +2 if you use your own gradient descent implementation from Homework 2.\n",
    "2. Decision Trees: using `sklearn.tree.DecisionTreeClassifier`. Hyperparameter here is the depth of the tree.\n",
    "3. Neural Net classifier using `sklearn.neural_network.MLPClassifier`. Hyperparameters here include the shape of the network and the learning rate. Consider using the 'adam' solver as constructor argument, 'relu' activation fuctions (which is the default), and try with a shape of network, but start small with a network of size `(4,1)`, that is 4 hidden units in one layer or `(3,2)` which includes 2 hidden layers of 3 units each.\n",
    "4. At least 1 other classifier. Some ideas include SVM classifiers or Gradient Boosted Decision trees which are all available in sklearn as well\n",
    "\n",
    "\n",
    "### Question 1: Run Experiments (15 points)\n",
    "\n",
    "We have many varying parameters. Often in ML we run multiple experiments to find the best result.\n",
    "- at least 8 different feature setups, maybe more\n",
    "- at least 4 different model algorithms\n",
    "- some number of hyperparemeters, let's say we try at least 10 for each model\n",
    "\n",
    "This gives us a minimum of 320 different experiments. To easily keep track of these, let's create a spreadsheet to track the experiment results. \n",
    "\n",
    "Create a .csv file with the following columns tracking your experiments. Make sure this .csv can be loaded into Google sheets so I can grade it. Upload the .csv separately.\n",
    "\n",
    "1. Experiment Name string. For example `Experiment1-LogReg-OneHot-Custom`. This name be anything.\n",
    "2. List of Feature Included in Model separated by semicolons. Please name these according to this scheme: `<FeatureName>-<Preprocessing>-<Value>` for example `MaxHR-StandardScaler` or `RestingECG-OneHot-Normal`. For custom features name them `Custom-<Name>` for example: `Custom-BucketizedOldpeak`. As an example, a row in this columns might look like `MaxHR; MaxHR-StandardScaler; Custom-BinaryHighHeartRate; ...`. If your features are in your dataframe, you can create this list with `';'.join(X_train.columns)`.\n",
    "3. Model Type (MyLogisticRegression or DecisionTree or anything else you want to try)\n",
    "4. Epochs (for logistic regression)\n",
    "5. Hyperparameters used in your model, for example depth of tree or size of neural network\n",
    "6. Training Accuracy (w/ threshold of 0.5)\n",
    "7. Testing Accuracy (w/ threshold of 0.5)\n",
    "8. Training PR-AUC (Area under the precision/recall curve)\n",
    "9. Testing PR-AUC (Area under the precision/recall curve)\n",
    "10. Training Precision (w/ threshold of 0.5)\n",
    "11. Testing Precision (w/ threshold of 0.5)\n",
    "12. Training Recall (w/ threshold of 0.5)\n",
    "13. Testing Recall (w/ threshold of 0.5)\n",
    "\n",
    "Extra Credit (2 points): Use Weights And Biases (https://wandb.ai/) to track your experiments as an alternative to a spreadsheet (https://towardsdatascience.com/introduction-to-weight-biases-track-and-visualize-your-machine-learning-experiments-in-3-lines-9c9553b0f99d)\n",
    "\n",
    "\n",
    "### Question 2: Analyze Logistic Regression Experiments (4 points)\n",
    "\n",
    "- Question 2.1: What is the best set of features and parameters for Logistic Regression in terms of Test PR-AUC. Is this the same as the best in terms of accuracy? Discuss why you think this experiment showed the best results.\n",
    "- Question 2.2: If features are well normalized, we can get a sense of feature importance by looking at the absolute value of the weights of each feature. Print out the highest 5 weights by absolute value. Which features are these? Discuss what this set of 5 features has on the model.\n",
    "- Question 2.3: Train a model with just those top 5 features. What is the Test Accuracy and PR-AUC?\n",
    "- Question 2.4: Describe the custom features you added. Why did you pick these?\n",
    "\n",
    "### Question 3: Analyze Other Experiments (4 points)\n",
    "\n",
    "- Question 3.1: What is the best set of features and parameters for Decision Tree classifier in terms of Test PR-AUC.  Discuss why you think this experiment showed the best results.\n",
    "- Question 3.2: What is the best set of features and parameters for Neural Net classifier in terms of Test PR-AUC.  Discuss why you think this experiment showed the best results.\n",
    "- Question 3.3: What is the best set of features and parameters for another chosen model in terms of Test PR-AUC.  Discuss why you think this experiment showed the best results.\n",
    "\n",
    "### Question 4: Achieving particular peformance charactaristics (2 points)\n",
    "- Question 4.1: From your trained models, can you produce a classifier that has around 90% recall on the test set? How? What is the precision of this model?\n",
    "- Question 4.2: From your trained models, can you produce a classifier that has around 90% precision on the test set? How? What is the recall of this model?\n",
    "\n",
    "### Question 5: Taking a step back (2 points)\n",
    "- Question 5.1: What is your best performing model over all experiments? Describe why you think this was the best? What is the PR-AUC and Accuracy of this model? Feel free to share your results on discord, the best model in the class will receive extra credit of 3 points!\n",
    "- Question 5.2: Discuss your thoughts on this process? What surprised you? What was hard or tedious? What did you learn?\n"
   ]
  },
  {
   "cell_type": "code",
   "execution_count": 370,
   "metadata": {},
   "outputs": [],
   "source": [
    "# Imports\n",
    "import numpy as np\n",
    "import pandas as pd\n",
    "from sklearn.tree import DecisionTreeClassifier\n",
    "from sklearn.neural_network import MLPClassifier\n",
    "from sklearn.linear_model import LogisticRegression\n",
    "from sklearn.model_selection import train_test_split"
   ]
  },
  {
   "cell_type": "code",
   "execution_count": 371,
   "outputs": [],
   "source": [
    "# Load data from our csv\n",
    "df = pd.read_csv('../../Data/heart.csv')\n",
    "\n",
    "# Select out Binary and Categorical Features\n",
    "numeric_features = [\"Age\", \"RestingBP\", \"Cholesterol\", \"FastingBS\", \"MaxHR\", \"Oldpeak\"]\n",
    "categorical_features = ['Sex', 'ChestPainType', 'RestingECG', 'ExerciseAngina', 'ST_Slope']\n",
    "label_feature = \"HeartDisease\"\n",
    "X = df[numeric_features + categorical_features]\n",
    "y = df[label_feature]\n",
    "\n",
    "# Create Train / Test split\n",
    "X_train, X_test, y_train, y_test = train_test_split(X, y, test_size=0.20, random_state=42)"
   ],
   "metadata": {
    "collapsed": false,
    "pycharm": {
     "name": "#%%\n"
    }
   }
  },
  {
   "cell_type": "code",
   "execution_count": 372,
   "metadata": {},
   "outputs": [
    {
     "name": "stdout",
     "output_type": "stream",
     "text": [
      "53.65122615803815\n",
      "9.364289800106517\n"
     ]
    }
   ],
   "source": [
    "# Examples of Pandas operations you can use:\n",
    "# Calculate mean of a column:\n",
    "print(X_train['Age'].mean())\n",
    "# Calculate standard deviation of a column:\n",
    "print(X_train['Age'].std())\n",
    "\n",
    "# Example of creating a custom new feature column, in this case a binary feature indicating age > 50\n",
    "X_train_old = X_train.copy()\n",
    "X_test_old = X_test.copy()"
   ]
  },
  {
   "cell_type": "code",
   "execution_count": 373,
   "outputs": [
    {
     "data": {
      "text/plain": "     Sex_M  Sex_F  ChestPainType_NAP  ChestPainType_ASY  ChestPainType_TA  \\\n795      1      0                  1                  0                 0   \n25       1      0                  1                  0                 0   \n84       1      0                  0                  1                 0   \n10       0      1                  1                  0                 0   \n344      1      0                  0                  1                 0   \n..     ...    ...                ...                ...               ...   \n106      0      1                  0                  1                 0   \n270      1      0                  0                  1                 0   \n860      1      0                  0                  1                 0   \n435      1      0                  0                  1                 0   \n102      0      1                  0                  1                 0   \n\n     ChestPainType_ATA  RestingECG_Normal  RestingECG_LVH  RestingECG_ST  \\\n795                  0                  1               0              0   \n25                   0                  1               0              0   \n84                   0                  1               0              0   \n10                   0                  1               0              0   \n344                  0                  1               0              0   \n..                 ...                ...             ...            ...   \n106                  0                  0               0              1   \n270                  0                  1               0              0   \n860                  0                  1               0              0   \n435                  0                  0               0              1   \n102                  0                  1               0              0   \n\n     ExerciseAngina_N  ExerciseAngina_Y  ST_Slope_Down  ST_Slope_Up  \\\n795                 1                 0              1            0   \n25                  1                 0              0            1   \n84                  0                 1              0            0   \n10                  1                 0              0            1   \n344                 1                 0              0            0   \n..                ...               ...            ...          ...   \n106                 1                 0              0            1   \n270                 1                 0              0            1   \n860                 0                 1              0            1   \n435                 0                 1              0            1   \n102                 1                 0              0            0   \n\n     ST_Slope_Flat  \n795              0  \n25               0  \n84               1  \n10               0  \n344              1  \n..             ...  \n106              0  \n270              0  \n860              0  \n435              0  \n102              1  \n\n[734 rows x 14 columns]",
      "text/html": "<div>\n<style scoped>\n    .dataframe tbody tr th:only-of-type {\n        vertical-align: middle;\n    }\n\n    .dataframe tbody tr th {\n        vertical-align: top;\n    }\n\n    .dataframe thead th {\n        text-align: right;\n    }\n</style>\n<table border=\"1\" class=\"dataframe\">\n  <thead>\n    <tr style=\"text-align: right;\">\n      <th></th>\n      <th>Sex_M</th>\n      <th>Sex_F</th>\n      <th>ChestPainType_NAP</th>\n      <th>ChestPainType_ASY</th>\n      <th>ChestPainType_TA</th>\n      <th>ChestPainType_ATA</th>\n      <th>RestingECG_Normal</th>\n      <th>RestingECG_LVH</th>\n      <th>RestingECG_ST</th>\n      <th>ExerciseAngina_N</th>\n      <th>ExerciseAngina_Y</th>\n      <th>ST_Slope_Down</th>\n      <th>ST_Slope_Up</th>\n      <th>ST_Slope_Flat</th>\n    </tr>\n  </thead>\n  <tbody>\n    <tr>\n      <th>795</th>\n      <td>1</td>\n      <td>0</td>\n      <td>1</td>\n      <td>0</td>\n      <td>0</td>\n      <td>0</td>\n      <td>1</td>\n      <td>0</td>\n      <td>0</td>\n      <td>1</td>\n      <td>0</td>\n      <td>1</td>\n      <td>0</td>\n      <td>0</td>\n    </tr>\n    <tr>\n      <th>25</th>\n      <td>1</td>\n      <td>0</td>\n      <td>1</td>\n      <td>0</td>\n      <td>0</td>\n      <td>0</td>\n      <td>1</td>\n      <td>0</td>\n      <td>0</td>\n      <td>1</td>\n      <td>0</td>\n      <td>0</td>\n      <td>1</td>\n      <td>0</td>\n    </tr>\n    <tr>\n      <th>84</th>\n      <td>1</td>\n      <td>0</td>\n      <td>0</td>\n      <td>1</td>\n      <td>0</td>\n      <td>0</td>\n      <td>1</td>\n      <td>0</td>\n      <td>0</td>\n      <td>0</td>\n      <td>1</td>\n      <td>0</td>\n      <td>0</td>\n      <td>1</td>\n    </tr>\n    <tr>\n      <th>10</th>\n      <td>0</td>\n      <td>1</td>\n      <td>1</td>\n      <td>0</td>\n      <td>0</td>\n      <td>0</td>\n      <td>1</td>\n      <td>0</td>\n      <td>0</td>\n      <td>1</td>\n      <td>0</td>\n      <td>0</td>\n      <td>1</td>\n      <td>0</td>\n    </tr>\n    <tr>\n      <th>344</th>\n      <td>1</td>\n      <td>0</td>\n      <td>0</td>\n      <td>1</td>\n      <td>0</td>\n      <td>0</td>\n      <td>1</td>\n      <td>0</td>\n      <td>0</td>\n      <td>1</td>\n      <td>0</td>\n      <td>0</td>\n      <td>0</td>\n      <td>1</td>\n    </tr>\n    <tr>\n      <th>...</th>\n      <td>...</td>\n      <td>...</td>\n      <td>...</td>\n      <td>...</td>\n      <td>...</td>\n      <td>...</td>\n      <td>...</td>\n      <td>...</td>\n      <td>...</td>\n      <td>...</td>\n      <td>...</td>\n      <td>...</td>\n      <td>...</td>\n      <td>...</td>\n    </tr>\n    <tr>\n      <th>106</th>\n      <td>0</td>\n      <td>1</td>\n      <td>0</td>\n      <td>1</td>\n      <td>0</td>\n      <td>0</td>\n      <td>0</td>\n      <td>0</td>\n      <td>1</td>\n      <td>1</td>\n      <td>0</td>\n      <td>0</td>\n      <td>1</td>\n      <td>0</td>\n    </tr>\n    <tr>\n      <th>270</th>\n      <td>1</td>\n      <td>0</td>\n      <td>0</td>\n      <td>1</td>\n      <td>0</td>\n      <td>0</td>\n      <td>1</td>\n      <td>0</td>\n      <td>0</td>\n      <td>1</td>\n      <td>0</td>\n      <td>0</td>\n      <td>1</td>\n      <td>0</td>\n    </tr>\n    <tr>\n      <th>860</th>\n      <td>1</td>\n      <td>0</td>\n      <td>0</td>\n      <td>1</td>\n      <td>0</td>\n      <td>0</td>\n      <td>1</td>\n      <td>0</td>\n      <td>0</td>\n      <td>0</td>\n      <td>1</td>\n      <td>0</td>\n      <td>1</td>\n      <td>0</td>\n    </tr>\n    <tr>\n      <th>435</th>\n      <td>1</td>\n      <td>0</td>\n      <td>0</td>\n      <td>1</td>\n      <td>0</td>\n      <td>0</td>\n      <td>0</td>\n      <td>0</td>\n      <td>1</td>\n      <td>0</td>\n      <td>1</td>\n      <td>0</td>\n      <td>1</td>\n      <td>0</td>\n    </tr>\n    <tr>\n      <th>102</th>\n      <td>0</td>\n      <td>1</td>\n      <td>0</td>\n      <td>1</td>\n      <td>0</td>\n      <td>0</td>\n      <td>1</td>\n      <td>0</td>\n      <td>0</td>\n      <td>1</td>\n      <td>0</td>\n      <td>0</td>\n      <td>0</td>\n      <td>1</td>\n    </tr>\n  </tbody>\n</table>\n<p>734 rows × 14 columns</p>\n</div>"
     },
     "execution_count": 373,
     "metadata": {},
     "output_type": "execute_result"
    }
   ],
   "source": [
    "# Feature Preprocessing\n",
    "# 1. OneHot Encoding: For example, transform X_train['Sex'] with values M or F into two features X_Train['Sex_M'], X_Train['Sex_F'] with values 0 or 1\n",
    "def oneHotEncoder(features, categories):\n",
    "    for i in categories:\n",
    "        for j in features[i].unique():\n",
    "            features[i + \"_\" + j] = (X[i] == j).astype(int)\n",
    "\n",
    "def oneHotEncoder_list(features, categories):\n",
    "    feature_list = []\n",
    "    for i in categories:\n",
    "        for j in features[i].unique():\n",
    "            feature_list.append(i + \"_\" + j)\n",
    "    return feature_list\n",
    "\n",
    "# Outputs all the categorical columns with oneHot Encoding\n",
    "oneHotEncoder(X_train, categorical_features)\n",
    "OneHot_Encoding_Feature_List = oneHotEncoder_list(X_train, categorical_features)\n",
    "X_train[OneHot_Encoding_Feature_List]"
   ],
   "metadata": {
    "collapsed": false,
    "pycharm": {
     "name": "#%%\n"
    }
   }
  },
  {
   "cell_type": "code",
   "execution_count": 374,
   "outputs": [
    {
     "data": {
      "text/plain": "     Sex-TargetEncoded  ChestPainType-TargetEncoded  RestingECG-TargetEncoded  \\\n795           0.632042                     0.364198                  0.509009   \n25            0.632042                     0.364198                  0.509009   \n84            0.632042                     0.770574                  0.509009   \n10            0.253012                     0.364198                  0.509009   \n344           0.632042                     0.770574                  0.509009   \n..                 ...                          ...                       ...   \n106           0.253012                     0.770574                  0.645390   \n270           0.632042                     0.770574                  0.509009   \n860           0.632042                     0.770574                  0.509009   \n435           0.632042                     0.770574                  0.645390   \n102           0.253012                     0.770574                  0.509009   \n\n     ExerciseAngina-TargetEncoded  ST_Slope-TargetEncoded  \n795                      0.327146                0.770833  \n25                       0.327146                0.175896  \n84                       0.858086                0.817942  \n10                       0.327146                0.175896  \n344                      0.327146                0.817942  \n..                            ...                     ...  \n106                      0.327146                0.175896  \n270                      0.327146                0.175896  \n860                      0.858086                0.175896  \n435                      0.858086                0.175896  \n102                      0.327146                0.817942  \n\n[734 rows x 5 columns]",
      "text/html": "<div>\n<style scoped>\n    .dataframe tbody tr th:only-of-type {\n        vertical-align: middle;\n    }\n\n    .dataframe tbody tr th {\n        vertical-align: top;\n    }\n\n    .dataframe thead th {\n        text-align: right;\n    }\n</style>\n<table border=\"1\" class=\"dataframe\">\n  <thead>\n    <tr style=\"text-align: right;\">\n      <th></th>\n      <th>Sex-TargetEncoded</th>\n      <th>ChestPainType-TargetEncoded</th>\n      <th>RestingECG-TargetEncoded</th>\n      <th>ExerciseAngina-TargetEncoded</th>\n      <th>ST_Slope-TargetEncoded</th>\n    </tr>\n  </thead>\n  <tbody>\n    <tr>\n      <th>795</th>\n      <td>0.632042</td>\n      <td>0.364198</td>\n      <td>0.509009</td>\n      <td>0.327146</td>\n      <td>0.770833</td>\n    </tr>\n    <tr>\n      <th>25</th>\n      <td>0.632042</td>\n      <td>0.364198</td>\n      <td>0.509009</td>\n      <td>0.327146</td>\n      <td>0.175896</td>\n    </tr>\n    <tr>\n      <th>84</th>\n      <td>0.632042</td>\n      <td>0.770574</td>\n      <td>0.509009</td>\n      <td>0.858086</td>\n      <td>0.817942</td>\n    </tr>\n    <tr>\n      <th>10</th>\n      <td>0.253012</td>\n      <td>0.364198</td>\n      <td>0.509009</td>\n      <td>0.327146</td>\n      <td>0.175896</td>\n    </tr>\n    <tr>\n      <th>344</th>\n      <td>0.632042</td>\n      <td>0.770574</td>\n      <td>0.509009</td>\n      <td>0.327146</td>\n      <td>0.817942</td>\n    </tr>\n    <tr>\n      <th>...</th>\n      <td>...</td>\n      <td>...</td>\n      <td>...</td>\n      <td>...</td>\n      <td>...</td>\n    </tr>\n    <tr>\n      <th>106</th>\n      <td>0.253012</td>\n      <td>0.770574</td>\n      <td>0.645390</td>\n      <td>0.327146</td>\n      <td>0.175896</td>\n    </tr>\n    <tr>\n      <th>270</th>\n      <td>0.632042</td>\n      <td>0.770574</td>\n      <td>0.509009</td>\n      <td>0.327146</td>\n      <td>0.175896</td>\n    </tr>\n    <tr>\n      <th>860</th>\n      <td>0.632042</td>\n      <td>0.770574</td>\n      <td>0.509009</td>\n      <td>0.858086</td>\n      <td>0.175896</td>\n    </tr>\n    <tr>\n      <th>435</th>\n      <td>0.632042</td>\n      <td>0.770574</td>\n      <td>0.645390</td>\n      <td>0.858086</td>\n      <td>0.175896</td>\n    </tr>\n    <tr>\n      <th>102</th>\n      <td>0.253012</td>\n      <td>0.770574</td>\n      <td>0.509009</td>\n      <td>0.327146</td>\n      <td>0.817942</td>\n    </tr>\n  </tbody>\n</table>\n<p>734 rows × 5 columns</p>\n</div>"
     },
     "execution_count": 374,
     "metadata": {},
     "output_type": "execute_result"
    }
   ],
   "source": [
    "def targetEncoder(features, label, categories):\n",
    "    feature_list = []\n",
    "    for i in categories:\n",
    "        features[i+\"-TargetEncoded\"] = features[i].map(pd.concat([features, label], axis=1).groupby(i)[label_feature].mean())\n",
    "        feature_list.append(i+\"-TargetEncoded\")\n",
    "    return feature_list\n",
    "\n",
    "targetEncoded_feature_List = targetEncoder(X_train, y_train, categorical_features)\n",
    "X_train[targetEncoded_feature_List]"
   ],
   "metadata": {
    "collapsed": false,
    "pycharm": {
     "name": "#%%\n"
    }
   }
  },
  {
   "cell_type": "code",
   "execution_count": 375,
   "outputs": [
    {
     "data": {
      "text/plain": "     Age-Scaled  RestingBP-Scaled  Cholesterol-Scaled  FastingBS-Scaled  \\\n795   -1.244219         -0.708502            0.372549          1.841354   \n25    -1.884951         -0.166172            0.086087         -0.542339   \n84     0.250822          0.918489            0.123050          1.841354   \n10    -1.778162         -0.166172            0.104569         -0.542339   \n344   -0.283121         -0.708502           -1.845220          1.841354   \n..          ...               ...                 ...               ...   \n106   -0.603487         -0.708502            0.501919         -0.542339   \n270   -0.923853         -0.708502            0.233938         -0.542339   \n860    0.677977         -0.166172            0.492678         -0.542339   \n435    0.677977          1.026955           -1.845220         -0.542339   \n102   -1.457796          0.918489            1.777136         -0.542339   \n\n     MaxHR-Scaled  Oldpeak-Scaled  \n795      2.282796       -0.096995  \n25       1.651116       -0.835717  \n84      -0.441327        0.087685  \n10       0.229834       -0.835717  \n344     -1.270407       -0.835717  \n..            ...             ...  \n106     -1.033527       -0.835717  \n270      0.150874       -0.835717  \n860      0.308794        0.457046  \n435     -0.717687       -0.835717  \n102     -0.243926        1.011087  \n\n[734 rows x 6 columns]",
      "text/html": "<div>\n<style scoped>\n    .dataframe tbody tr th:only-of-type {\n        vertical-align: middle;\n    }\n\n    .dataframe tbody tr th {\n        vertical-align: top;\n    }\n\n    .dataframe thead th {\n        text-align: right;\n    }\n</style>\n<table border=\"1\" class=\"dataframe\">\n  <thead>\n    <tr style=\"text-align: right;\">\n      <th></th>\n      <th>Age-Scaled</th>\n      <th>RestingBP-Scaled</th>\n      <th>Cholesterol-Scaled</th>\n      <th>FastingBS-Scaled</th>\n      <th>MaxHR-Scaled</th>\n      <th>Oldpeak-Scaled</th>\n    </tr>\n  </thead>\n  <tbody>\n    <tr>\n      <th>795</th>\n      <td>-1.244219</td>\n      <td>-0.708502</td>\n      <td>0.372549</td>\n      <td>1.841354</td>\n      <td>2.282796</td>\n      <td>-0.096995</td>\n    </tr>\n    <tr>\n      <th>25</th>\n      <td>-1.884951</td>\n      <td>-0.166172</td>\n      <td>0.086087</td>\n      <td>-0.542339</td>\n      <td>1.651116</td>\n      <td>-0.835717</td>\n    </tr>\n    <tr>\n      <th>84</th>\n      <td>0.250822</td>\n      <td>0.918489</td>\n      <td>0.123050</td>\n      <td>1.841354</td>\n      <td>-0.441327</td>\n      <td>0.087685</td>\n    </tr>\n    <tr>\n      <th>10</th>\n      <td>-1.778162</td>\n      <td>-0.166172</td>\n      <td>0.104569</td>\n      <td>-0.542339</td>\n      <td>0.229834</td>\n      <td>-0.835717</td>\n    </tr>\n    <tr>\n      <th>344</th>\n      <td>-0.283121</td>\n      <td>-0.708502</td>\n      <td>-1.845220</td>\n      <td>1.841354</td>\n      <td>-1.270407</td>\n      <td>-0.835717</td>\n    </tr>\n    <tr>\n      <th>...</th>\n      <td>...</td>\n      <td>...</td>\n      <td>...</td>\n      <td>...</td>\n      <td>...</td>\n      <td>...</td>\n    </tr>\n    <tr>\n      <th>106</th>\n      <td>-0.603487</td>\n      <td>-0.708502</td>\n      <td>0.501919</td>\n      <td>-0.542339</td>\n      <td>-1.033527</td>\n      <td>-0.835717</td>\n    </tr>\n    <tr>\n      <th>270</th>\n      <td>-0.923853</td>\n      <td>-0.708502</td>\n      <td>0.233938</td>\n      <td>-0.542339</td>\n      <td>0.150874</td>\n      <td>-0.835717</td>\n    </tr>\n    <tr>\n      <th>860</th>\n      <td>0.677977</td>\n      <td>-0.166172</td>\n      <td>0.492678</td>\n      <td>-0.542339</td>\n      <td>0.308794</td>\n      <td>0.457046</td>\n    </tr>\n    <tr>\n      <th>435</th>\n      <td>0.677977</td>\n      <td>1.026955</td>\n      <td>-1.845220</td>\n      <td>-0.542339</td>\n      <td>-0.717687</td>\n      <td>-0.835717</td>\n    </tr>\n    <tr>\n      <th>102</th>\n      <td>-1.457796</td>\n      <td>0.918489</td>\n      <td>1.777136</td>\n      <td>-0.542339</td>\n      <td>-0.243926</td>\n      <td>1.011087</td>\n    </tr>\n  </tbody>\n</table>\n<p>734 rows × 6 columns</p>\n</div>"
     },
     "execution_count": 375,
     "metadata": {},
     "output_type": "execute_result"
    }
   ],
   "source": [
    "# Feature Preprocessing\n",
    "# 1. Standard Scaler (scale numeric values to have zero mean and unit variance). For example X_train['Age-Scaled'] = (X_train['Age'] - mean) / standard_deviation\n",
    "def standardScaler(features, categories):\n",
    "    features_list = []\n",
    "    for i in categories:\n",
    "        features[i+\"-Scaled\"] = (features[i] - features[i].mean()) / features[i].std()\n",
    "        features_list.append(i+\"-Scaled\")\n",
    "    return features_list\n",
    "\n",
    "standardScaler_Feature_List = standardScaler(X_train, numeric_features)\n",
    "X_train[standardScaler_Feature_List]"
   ],
   "metadata": {
    "collapsed": false,
    "pycharm": {
     "name": "#%%\n"
    }
   }
  },
  {
   "cell_type": "code",
   "execution_count": 384,
   "outputs": [
    {
     "data": {
      "text/plain": "     Age-MinMax  RestingBP-MinMax  Cholesterol-MinMax  FastingBS-MinMax  \\\n795    0.270833              0.60            0.398010               1.0   \n25     0.145833              0.65            0.346600               0.0   \n84     0.562500              0.75            0.353234               1.0   \n10     0.166667              0.65            0.349917               0.0   \n344    0.458333              0.60            0.000000               1.0   \n..          ...               ...                 ...               ...   \n106    0.395833              0.60            0.421227               0.0   \n270    0.333333              0.60            0.373134               0.0   \n860    0.645833              0.65            0.419569               0.0   \n435    0.645833              0.76            0.000000               0.0   \n102    0.229167              0.75            0.650083               0.0   \n\n     MaxHR-MinMax  Oldpeak-MinMax  \n795      0.943662        0.386364  \n25       0.830986        0.295455  \n84       0.457746        0.409091  \n10       0.577465        0.295455  \n344      0.309859        0.295455  \n..            ...             ...  \n106      0.352113        0.295455  \n270      0.563380        0.295455  \n860      0.591549        0.454545  \n435      0.408451        0.295455  \n102      0.492958        0.522727  \n\n[734 rows x 6 columns]",
      "text/html": "<div>\n<style scoped>\n    .dataframe tbody tr th:only-of-type {\n        vertical-align: middle;\n    }\n\n    .dataframe tbody tr th {\n        vertical-align: top;\n    }\n\n    .dataframe thead th {\n        text-align: right;\n    }\n</style>\n<table border=\"1\" class=\"dataframe\">\n  <thead>\n    <tr style=\"text-align: right;\">\n      <th></th>\n      <th>Age-MinMax</th>\n      <th>RestingBP-MinMax</th>\n      <th>Cholesterol-MinMax</th>\n      <th>FastingBS-MinMax</th>\n      <th>MaxHR-MinMax</th>\n      <th>Oldpeak-MinMax</th>\n    </tr>\n  </thead>\n  <tbody>\n    <tr>\n      <th>795</th>\n      <td>0.270833</td>\n      <td>0.60</td>\n      <td>0.398010</td>\n      <td>1.0</td>\n      <td>0.943662</td>\n      <td>0.386364</td>\n    </tr>\n    <tr>\n      <th>25</th>\n      <td>0.145833</td>\n      <td>0.65</td>\n      <td>0.346600</td>\n      <td>0.0</td>\n      <td>0.830986</td>\n      <td>0.295455</td>\n    </tr>\n    <tr>\n      <th>84</th>\n      <td>0.562500</td>\n      <td>0.75</td>\n      <td>0.353234</td>\n      <td>1.0</td>\n      <td>0.457746</td>\n      <td>0.409091</td>\n    </tr>\n    <tr>\n      <th>10</th>\n      <td>0.166667</td>\n      <td>0.65</td>\n      <td>0.349917</td>\n      <td>0.0</td>\n      <td>0.577465</td>\n      <td>0.295455</td>\n    </tr>\n    <tr>\n      <th>344</th>\n      <td>0.458333</td>\n      <td>0.60</td>\n      <td>0.000000</td>\n      <td>1.0</td>\n      <td>0.309859</td>\n      <td>0.295455</td>\n    </tr>\n    <tr>\n      <th>...</th>\n      <td>...</td>\n      <td>...</td>\n      <td>...</td>\n      <td>...</td>\n      <td>...</td>\n      <td>...</td>\n    </tr>\n    <tr>\n      <th>106</th>\n      <td>0.395833</td>\n      <td>0.60</td>\n      <td>0.421227</td>\n      <td>0.0</td>\n      <td>0.352113</td>\n      <td>0.295455</td>\n    </tr>\n    <tr>\n      <th>270</th>\n      <td>0.333333</td>\n      <td>0.60</td>\n      <td>0.373134</td>\n      <td>0.0</td>\n      <td>0.563380</td>\n      <td>0.295455</td>\n    </tr>\n    <tr>\n      <th>860</th>\n      <td>0.645833</td>\n      <td>0.65</td>\n      <td>0.419569</td>\n      <td>0.0</td>\n      <td>0.591549</td>\n      <td>0.454545</td>\n    </tr>\n    <tr>\n      <th>435</th>\n      <td>0.645833</td>\n      <td>0.76</td>\n      <td>0.000000</td>\n      <td>0.0</td>\n      <td>0.408451</td>\n      <td>0.295455</td>\n    </tr>\n    <tr>\n      <th>102</th>\n      <td>0.229167</td>\n      <td>0.75</td>\n      <td>0.650083</td>\n      <td>0.0</td>\n      <td>0.492958</td>\n      <td>0.522727</td>\n    </tr>\n  </tbody>\n</table>\n<p>734 rows × 6 columns</p>\n</div>"
     },
     "execution_count": 384,
     "metadata": {},
     "output_type": "execute_result"
    }
   ],
   "source": [
    "# Feature Preprocessing\n",
    "# 2. MinMax Normalization (subtract min and divide by max - min). For example X_train['Age-MinMax'] = (X_train['Age'] - min) / (max - min)\n",
    "def minMax(features, categories):\n",
    "    features_list = []\n",
    "    for i in categories:\n",
    "        features[i+\"-MinMax\"] = (features[i] - features[i].min()) / (features[i].max() - features[i].min())\n",
    "        features_list.append(i+\"-MinMax\")\n",
    "    return features_list\n",
    "\n",
    "minMax_feature_list = minMax(X_train, numeric_features)\n",
    "X_train[minMax_feature_list]"
   ],
   "metadata": {
    "collapsed": false,
    "pycharm": {
     "name": "#%%\n"
    }
   }
  },
  {
   "cell_type": "code",
   "execution_count": 377,
   "outputs": [
    {
     "name": "stdout",
     "output_type": "stream",
     "text": [
      "[1, 1, 0, 1, 0, 0, 0, 0, 1, 1, 1, 1, 1, 1, 1, 0, 0, 1, 0, 0, 1, 0, 1, 0, 0, 1, 0, 1, 1, 1, 1, 0, 0, 1, 1, 1, 1, 0, 0, 1, 0, 1, 0, 0, 1, 1, 1, 0, 1, 0, 0, 0, 0, 0, 0, 0, 1, 1, 1, 0, 0, 0, 1, 0, 0, 0, 1, 0, 0, 1, 1, 0, 1, 0, 0, 0, 1, 0, 1, 0, 1, 1, 1, 0, 0, 0, 0, 0, 1, 0, 0, 1, 1, 0, 0, 0, 0, 1, 1, 1, 0, 1, 1, 1, 1, 1, 1, 1, 1, 0, 1, 1, 0, 1, 1, 0, 0, 0, 0, 0, 1, 0, 0, 1, 1, 0, 0, 0, 0, 0, 1, 0, 1, 0, 0, 0, 0, 0, 0, 0, 0, 0, 0, 1, 1, 1, 0, 0, 1, 1, 0, 0, 0, 1, 0, 1, 1, 1, 1, 1, 1, 0, 1, 1, 0, 1, 1, 0, 0, 1, 0, 1, 0, 0, 1, 1, 0, 1, 0, 0, 0, 0, 0, 1, 0, 0, 1, 0, 0, 1, 0, 1, 0, 1, 0, 0, 1, 1, 0, 0, 0, 1, 0, 1, 0, 1, 1, 1, 0, 1, 1, 1, 0, 0, 0, 0, 1, 0, 1, 1, 0, 0, 1, 1, 1, 1, 1, 1, 1, 1, 0, 1, 1, 0, 0, 1, 1, 1, 1, 0, 0, 0, 0, 1, 0, 0, 0, 0, 1, 0, 1, 0, 0, 1, 1, 0, 0, 1, 0, 1, 0, 0, 0, 1, 1, 1, 0, 0, 0, 1, 1, 0, 0, 1, 1, 0, 0, 0, 0, 0, 1, 1, 0, 0, 1, 1, 0, 0, 1, 1, 0, 1, 1, 0, 0, 1, 0, 1, 0, 0, 1, 0, 1, 0, 1, 1, 0, 1, 0, 0, 1, 0, 0, 1, 1, 0, 0, 1, 0, 1, 1, 0, 1, 0, 0, 0, 0, 1, 0, 1, 1, 0, 0, 1, 1, 0, 0, 0, 0, 1, 1, 0, 0, 1, 1, 0, 0, 1, 1, 1, 1, 1, 0, 0, 0, 0, 1, 0, 1, 0, 0, 0, 0, 1, 0, 0, 1, 1, 1, 0, 1, 1, 0, 1, 0, 0, 1, 0, 1, 0, 1, 0, 0, 1, 0, 1, 0, 1, 1, 1, 0, 1, 1, 1, 1, 1, 0, 1, 0, 1, 0, 1, 0, 1, 0, 1, 1, 0, 0, 1, 1, 0, 1, 1, 1, 1, 1, 1, 1, 0, 1, 1, 0, 1, 1, 1, 0, 0, 1, 0, 1, 0, 1, 0, 1, 1, 0, 0, 0, 1, 1, 1, 0, 1, 0, 0, 1, 0, 0, 0, 1, 1, 1, 0, 1, 0, 0, 0, 1, 1, 1, 0, 1, 0, 1, 1, 0, 1, 1, 0, 0, 0, 0, 0, 1, 1, 1, 1, 0, 0, 1, 0, 0, 1, 1, 1, 0, 1, 0, 1, 0, 1, 1, 0, 1, 1, 0, 1, 1, 1, 0, 0, 1, 1, 0, 0, 1, 0, 1, 1, 0, 0, 0, 1, 0, 1, 0, 0, 0, 1, 1, 1, 1, 1, 0, 1, 0, 1, 1, 0, 0, 1, 1, 1, 0, 1, 1, 0, 0, 1, 0, 0, 1, 1, 1, 1, 0, 1, 1, 1, 0, 0, 0, 0, 1, 1, 0, 1, 1, 0, 1, 1, 1, 1, 1, 0, 1, 0, 1, 1, 0, 1, 0, 0, 1, 1, 0, 0, 0, 1, 0, 1, 1, 0, 1, 1, 0, 1, 1, 1, 0, 0, 1, 1, 0, 1, 1, 0, 0, 0, 1, 1, 1, 1, 1, 1, 0, 0, 1, 0, 0, 1, 0, 1, 1, 0, 0, 1, 1, 1, 0, 1, 1, 1, 1, 1, 0, 0, 1, 0, 1, 1, 0, 1, 0, 1, 0, 0, 1, 1, 1, 1, 0, 0, 1, 1, 1, 1, 1, 0, 1, 0, 1, 1, 1, 1, 1, 1, 1, 1, 1, 0, 0, 0, 1, 1, 1, 0, 1, 1, 1, 0, 0, 0, 0, 1, 0, 1, 1, 1, 0, 1, 0, 1, 0, 0, 1, 1, 0, 1, 0, 0, 1, 0, 0, 0, 1, 1, 1, 0, 1, 1, 0, 0, 1, 0, 0, 1, 0, 0, 0, 1, 1, 0, 0, 0, 1, 1, 0, 1, 0, 1, 0, 0, 1, 0, 1, 1, 0, 0, 1, 1, 0, 0]\n"
     ]
    }
   ],
   "source": [
    "# Feature Engineering\n",
    "# Create at least 5 custom features as functions of other features ---> 1st custom feature\n",
    "# A binary feature representing High Heart Rate BinaryHighMaxHR\n",
    "def custom_MaxHR(features):\n",
    "    BinaryHighMaxHR = []\n",
    "    for i in features[\"MaxHR\"]:\n",
    "        if i > features[\"MaxHR\"].mean():\n",
    "            BinaryHighMaxHR.append(1)\n",
    "        else:\n",
    "            BinaryHighMaxHR.append(0)\n",
    "    return BinaryHighMaxHR\n",
    "custom_MaxHR(X_train)"
   ],
   "metadata": {
    "collapsed": false,
    "pycharm": {
     "name": "#%%\n"
    }
   }
  },
  {
   "cell_type": "code",
   "execution_count": 378,
   "outputs": [
    {
     "data": {
      "text/plain": "[2,\n 2,\n 2,\n 2,\n 2,\n 2,\n 2,\n 2,\n 2,\n 2,\n 1,\n 2,\n 2,\n 2,\n 2,\n 2,\n 2,\n 2,\n 2,\n 2,\n 2,\n 2,\n 2,\n 2,\n 2,\n 2,\n 2,\n 3,\n 2,\n 2,\n 2,\n 2,\n 2,\n 2,\n 3,\n 2,\n 2,\n 2,\n 2,\n 2,\n 2,\n 2,\n 3,\n 2,\n 2,\n 2,\n 2,\n 3,\n 2,\n 2,\n 2,\n 3,\n 2,\n 2,\n 2,\n 2,\n 2,\n 2,\n 2,\n 2,\n 2,\n 2,\n 2,\n 2,\n 2,\n 2,\n 2,\n 3,\n 2,\n 2,\n 2,\n 2,\n 2,\n 2,\n 2,\n 2,\n 3,\n 2,\n 2,\n 2,\n 2,\n 2,\n 2,\n 2,\n 2,\n 2,\n 2,\n 2,\n 2,\n 2,\n 2,\n 2,\n 2,\n 2,\n 2,\n 2,\n 2,\n 2,\n 3,\n 2,\n 2,\n 2,\n 2,\n 3,\n 2,\n 2,\n 2,\n 2,\n 2,\n 1,\n 2,\n 2,\n 2,\n 3,\n 2,\n 2,\n 2,\n 2,\n 2,\n 2,\n 2,\n 2,\n 2,\n 2,\n 2,\n 3,\n 2,\n 2,\n 3,\n 2,\n 2,\n 3,\n 2,\n 2,\n 2,\n 3,\n 2,\n 3,\n 2,\n 2,\n 2,\n 2,\n 2,\n 2,\n 2,\n 2,\n 2,\n 2,\n 2,\n 2,\n 2,\n 2,\n 2,\n 3,\n 2,\n 2,\n 3,\n 2,\n 2,\n 3,\n 2,\n 2,\n 2,\n 2,\n 2,\n 3,\n 2,\n 2,\n 2,\n 2,\n 2,\n 2,\n 2,\n 2,\n 2,\n 2,\n 3,\n 1,\n 2,\n 2,\n 2,\n 2,\n 2,\n 2,\n 2,\n 2,\n 3,\n 2,\n 3,\n 2,\n 2,\n 2,\n 2,\n 2,\n 2,\n 2,\n 2,\n 3,\n 2,\n 2,\n 2,\n 2,\n 2,\n 3,\n 2,\n 2,\n 2,\n 2,\n 2,\n 2,\n 2,\n 2,\n 2,\n 1,\n 2,\n 2,\n 2,\n 2,\n 2,\n 2,\n 2,\n 3,\n 2,\n 2,\n 2,\n 2,\n 2,\n 0,\n 2,\n 2,\n 2,\n 2,\n 2,\n 2,\n 2,\n 2,\n 3,\n 2,\n 2,\n 2,\n 2,\n 2,\n 2,\n 2,\n 2,\n 3,\n 2,\n 2,\n 2,\n 2,\n 2,\n 2,\n 2,\n 2,\n 2,\n 2,\n 2,\n 3,\n 2,\n 3,\n 2,\n 2,\n 2,\n 2,\n 3,\n 2,\n 2,\n 2,\n 2,\n 2,\n 2,\n 2,\n 3,\n 3,\n 2,\n 2,\n 3,\n 2,\n 2,\n 2,\n 2,\n 2,\n 2,\n 3,\n 2,\n 2,\n 2,\n 2,\n 3,\n 2,\n 2,\n 2,\n 2,\n 2,\n 2,\n 2,\n 2,\n 2,\n 2,\n 2,\n 2,\n 2,\n 3,\n 2,\n 2,\n 2,\n 2,\n 2,\n 2,\n 2,\n 2,\n 3,\n 2,\n 2,\n 2,\n 2,\n 2,\n 2,\n 2,\n 3,\n 2,\n 2,\n 2,\n 3,\n 3,\n 2,\n 2,\n 2,\n 1,\n 3,\n 3,\n 2,\n 2,\n 2,\n 2,\n 2,\n 2,\n 2,\n 3,\n 2,\n 2,\n 2,\n 2,\n 2,\n 2,\n 2,\n 2,\n 2,\n 3,\n 3,\n 2,\n 2,\n 2,\n 2,\n 2,\n 2,\n 2,\n 2,\n 2,\n 3,\n 3,\n 2,\n 2,\n 2,\n 2,\n 3,\n 2,\n 2,\n 2,\n 2,\n 2,\n 2,\n 2,\n 2,\n 3,\n 2,\n 2,\n 2,\n 2,\n 2,\n 2,\n 2,\n 2,\n 2,\n 2,\n 2,\n 2,\n 3,\n 2,\n 2,\n 3,\n 2,\n 2,\n 2,\n 1,\n 3,\n 2,\n 2,\n 2,\n 2,\n 2,\n 2,\n 2,\n 2,\n 2,\n 2,\n 2,\n 2,\n 3,\n 2,\n 2,\n 2,\n 2,\n 2,\n 2,\n 2,\n 3,\n 2,\n 2,\n 2,\n 2,\n 2,\n 2,\n 2,\n 2,\n 2,\n 2,\n 2,\n 2,\n 1,\n 2,\n 2,\n 2,\n 2,\n 2,\n 2,\n 2,\n 2,\n 2,\n 2,\n 2,\n 2,\n 2,\n 2,\n 2,\n 2,\n 2,\n 3,\n 2,\n 2,\n 2,\n 2,\n 2,\n 2,\n 3,\n 2,\n 2,\n 2,\n 2,\n 2,\n 3,\n 2,\n 2,\n 2,\n 2,\n 2,\n 2,\n 2,\n 2,\n 2,\n 2,\n 3,\n 2,\n 2,\n 2,\n 3,\n 2,\n 2,\n 2,\n 2,\n 2,\n 2,\n 2,\n 3,\n 2,\n 2,\n 2,\n 2,\n 2,\n 3,\n 2,\n 2,\n 2,\n 2,\n 2,\n 2,\n 2,\n 2,\n 2,\n 2,\n 2,\n 2,\n 2,\n 2,\n 2,\n 2,\n 3,\n 2,\n 2,\n 2,\n 2,\n 2,\n 2,\n 2,\n 2,\n 2,\n 2,\n 3,\n 3,\n 2,\n 2,\n 2,\n 2,\n 2,\n 2,\n 2,\n 2,\n 2,\n 2,\n 2,\n 3,\n 2,\n 2,\n 2,\n 2,\n 2,\n 2,\n 2,\n 3,\n 2,\n 2,\n 2,\n 2,\n 2,\n 2,\n 2,\n 2,\n 2,\n 2,\n 3,\n 2,\n 3,\n 2,\n 2,\n 2,\n 2,\n 2,\n 2,\n 2,\n 3,\n 2,\n 2,\n 2,\n 2,\n 2,\n 2,\n 2,\n 2,\n 3,\n 2,\n 2,\n 3,\n 2,\n 3,\n 2,\n 3,\n 3,\n 2,\n 2,\n 2,\n 2,\n 2,\n 2,\n 2,\n 3,\n 2,\n 2,\n 2,\n 2,\n 2,\n 2,\n 3,\n 2,\n 2,\n 3,\n 2,\n 2,\n 2,\n 2,\n 2,\n 2,\n 2,\n 2,\n 2,\n 3,\n 2,\n 2,\n 2,\n 2,\n 2,\n 2,\n 2,\n 2,\n 2,\n 2,\n 2,\n 2,\n 3,\n 2,\n 2,\n 3,\n 2,\n 2,\n 2,\n 3,\n 2,\n 2,\n 2,\n 2,\n 2,\n 2,\n 2,\n 2,\n 2,\n 2,\n 2,\n 2,\n 2,\n 2,\n 2,\n 2,\n 2,\n 2,\n 2,\n 2,\n 2,\n 2,\n 2,\n 1,\n 2,\n 2,\n 2,\n 2,\n 2,\n 2,\n 2,\n 2,\n 2,\n 2,\n 2,\n 3,\n 2,\n 3,\n 2,\n 2,\n 2,\n 2,\n 2,\n 2,\n 2,\n 2,\n 2]"
     },
     "execution_count": 378,
     "metadata": {},
     "output_type": "execute_result"
    }
   ],
   "source": [
    "# Feature Engineering\n",
    "# # Create at least 5 custom features as functions of other features ---> 2nd custom feature\n",
    "# A bucketized categorical feature of Oldpeak called bucketized_Oldpeak\n",
    "# lets have 4 buckets --->  negative infinity -> -2 | -2 -> 0 | 0 -> 2 | 2 -> infinity\n",
    "def custom_Oldpeak(features):\n",
    "    bucketized_Oldpeak = []\n",
    "    for i in features[\"Oldpeak\"]:\n",
    "        if i < -2:\n",
    "            bucketized_Oldpeak.append(0)\n",
    "        elif i < 0:\n",
    "             bucketized_Oldpeak.append(1)\n",
    "        elif i < 2:\n",
    "            bucketized_Oldpeak.append(2)\n",
    "        elif i > 2:\n",
    "             bucketized_Oldpeak.append(3)\n",
    "    return bucketized_Oldpeak\n",
    "custom_Oldpeak(X_train)"
   ],
   "metadata": {
    "collapsed": false,
    "pycharm": {
     "name": "#%%\n"
    }
   }
  },
  {
   "cell_type": "code",
   "execution_count": 379,
   "outputs": [
    {
     "data": {
      "text/plain": "[3,\n 3,\n 1,\n 2,\n 1,\n 1,\n 1,\n 1,\n 2,\n 3,\n 2,\n 2,\n 2,\n 3,\n 2,\n 0,\n 0,\n 3,\n 2,\n 1,\n 2,\n 1,\n 2,\n 1,\n 1,\n 2,\n 1,\n 2,\n 2,\n 2,\n 2,\n 1,\n 1,\n 2,\n 3,\n 2,\n 2,\n 1,\n 1,\n 2,\n 1,\n 2,\n 1,\n 1,\n 2,\n 2,\n 2,\n 1,\n 2,\n 1,\n 1,\n 1,\n 1,\n 1,\n 2,\n 1,\n 2,\n 2,\n 2,\n 1,\n 1,\n 1,\n 2,\n 1,\n 1,\n 1,\n 3,\n 1,\n 1,\n 2,\n 2,\n 0,\n 2,\n 1,\n 1,\n 0,\n 3,\n 1,\n 3,\n 1,\n 3,\n 2,\n 2,\n 1,\n 1,\n 1,\n 1,\n 1,\n 2,\n 1,\n 0,\n 3,\n 2,\n 1,\n 1,\n 1,\n 2,\n 2,\n 2,\n 3,\n 1,\n 2,\n 2,\n 2,\n 2,\n 2,\n 2,\n 2,\n 3,\n 2,\n 2,\n 3,\n 1,\n 3,\n 2,\n 1,\n 1,\n 1,\n 1,\n 1,\n 2,\n 1,\n 0,\n 3,\n 3,\n 0,\n 0,\n 1,\n 1,\n 2,\n 3,\n 2,\n 2,\n 1,\n 1,\n 2,\n 1,\n 1,\n 1,\n 0,\n 1,\n 1,\n 2,\n 2,\n 2,\n 1,\n 1,\n 2,\n 2,\n 1,\n 2,\n 1,\n 2,\n 1,\n 2,\n 2,\n 2,\n 2,\n 2,\n 3,\n 1,\n 2,\n 2,\n 1,\n 3,\n 2,\n 1,\n 3,\n 1,\n 2,\n 1,\n 1,\n 2,\n 3,\n 1,\n 2,\n 0,\n 1,\n 2,\n 1,\n 1,\n 2,\n 1,\n 1,\n 2,\n 2,\n 0,\n 3,\n 1,\n 2,\n 2,\n 2,\n 1,\n 2,\n 2,\n 2,\n 2,\n 1,\n 1,\n 3,\n 2,\n 2,\n 2,\n 2,\n 2,\n 3,\n 1,\n 2,\n 3,\n 3,\n 2,\n 1,\n 1,\n 2,\n 3,\n 1,\n 2,\n 2,\n 1,\n 1,\n 2,\n 2,\n 2,\n 3,\n 3,\n 2,\n 3,\n 2,\n 3,\n 2,\n 1,\n 1,\n 2,\n 2,\n 2,\n 3,\n 1,\n 1,\n 0,\n 1,\n 2,\n 2,\n 1,\n 1,\n 1,\n 2,\n 1,\n 2,\n 2,\n 1,\n 2,\n 2,\n 1,\n 0,\n 2,\n 1,\n 2,\n 2,\n 0,\n 1,\n 3,\n 2,\n 3,\n 2,\n 0,\n 1,\n 2,\n 2,\n 1,\n 1,\n 2,\n 1,\n 0,\n 1,\n 1,\n 1,\n 3,\n 1,\n 1,\n 2,\n 2,\n 2,\n 1,\n 2,\n 3,\n 1,\n 3,\n 2,\n 1,\n 1,\n 2,\n 1,\n 3,\n 1,\n 1,\n 3,\n 1,\n 3,\n 1,\n 3,\n 2,\n 2,\n 3,\n 0,\n 1,\n 2,\n 1,\n 1,\n 3,\n 3,\n 0,\n 0,\n 3,\n 1,\n 2,\n 2,\n 0,\n 3,\n 1,\n 1,\n 1,\n 1,\n 2,\n 1,\n 3,\n 3,\n 1,\n 1,\n 2,\n 2,\n 1,\n 1,\n 1,\n 1,\n 2,\n 2,\n 1,\n 1,\n 2,\n 2,\n 1,\n 0,\n 3,\n 3,\n 2,\n 3,\n 3,\n 1,\n 0,\n 2,\n 1,\n 2,\n 2,\n 2,\n 1,\n 2,\n 2,\n 2,\n 2,\n 2,\n 1,\n 3,\n 3,\n 2,\n 2,\n 2,\n 1,\n 2,\n 1,\n 1,\n 2,\n 1,\n 2,\n 1,\n 2,\n 2,\n 1,\n 2,\n 1,\n 2,\n 2,\n 2,\n 3,\n 3,\n 0,\n 3,\n 2,\n 2,\n 2,\n 2,\n 1,\n 2,\n 1,\n 2,\n 1,\n 2,\n 1,\n 2,\n 1,\n 3,\n 2,\n 1,\n 1,\n 2,\n 3,\n 2,\n 3,\n 3,\n 2,\n 2,\n 2,\n 2,\n 2,\n 1,\n 2,\n 3,\n 2,\n 2,\n 2,\n 3,\n 1,\n 0,\n 2,\n 1,\n 2,\n 1,\n 2,\n 1,\n 3,\n 2,\n 1,\n 1,\n 1,\n 2,\n 2,\n 2,\n 2,\n 2,\n 0,\n 1,\n 2,\n 1,\n 1,\n 1,\n 3,\n 2,\n 1,\n 2,\n 2,\n 1,\n 1,\n 2,\n 2,\n 2,\n 0,\n 2,\n 2,\n 3,\n 2,\n 2,\n 2,\n 3,\n 1,\n 1,\n 1,\n 1,\n 1,\n 2,\n 2,\n 2,\n 2,\n 2,\n 1,\n 2,\n 0,\n 1,\n 2,\n 2,\n 2,\n 1,\n 2,\n 0,\n 2,\n 1,\n 2,\n 3,\n 0,\n 2,\n 3,\n 1,\n 3,\n 2,\n 3,\n 1,\n 1,\n 2,\n 3,\n 2,\n 1,\n 2,\n 1,\n 2,\n 3,\n 1,\n 0,\n 1,\n 2,\n 1,\n 2,\n 1,\n 1,\n 1,\n 2,\n 2,\n 2,\n 3,\n 2,\n 1,\n 2,\n 0,\n 2,\n 3,\n 1,\n 1,\n 3,\n 2,\n 2,\n 1,\n 2,\n 2,\n 2,\n 2,\n 2,\n 1,\n 2,\n 2,\n 2,\n 2,\n 1,\n 2,\n 2,\n 1,\n 2,\n 1,\n 0,\n 2,\n 3,\n 2,\n 2,\n 2,\n 1,\n 2,\n 3,\n 3,\n 2,\n 2,\n 1,\n 2,\n 1,\n 2,\n 3,\n 1,\n 2,\n 1,\n 1,\n 2,\n 3,\n 1,\n 1,\n 1,\n 2,\n 1,\n 2,\n 3,\n 1,\n 2,\n 2,\n 1,\n 2,\n 2,\n 2,\n 2,\n 1,\n 2,\n 3,\n 1,\n 2,\n 2,\n 1,\n 1,\n 1,\n 2,\n 2,\n 3,\n 2,\n 2,\n 2,\n 1,\n 0,\n 2,\n 2,\n 1,\n 2,\n 2,\n 3,\n 2,\n 2,\n 1,\n 2,\n 2,\n 2,\n 2,\n 2,\n 2,\n 2,\n 3,\n 2,\n 1,\n 1,\n 2,\n 1,\n 2,\n 2,\n 1,\n 2,\n 1,\n 2,\n 0,\n 2,\n 2,\n 2,\n 2,\n 2,\n 1,\n 1,\n 2,\n 2,\n 2,\n 2,\n 2,\n 1,\n 2,\n 1,\n 2,\n 2,\n 2,\n 2,\n 2,\n 2,\n 2,\n 3,\n 2,\n 1,\n 1,\n 1,\n 2,\n 2,\n 2,\n 2,\n 2,\n 2,\n 2,\n 1,\n 1,\n 2,\n 2,\n 2,\n 2,\n 3,\n 2,\n 3,\n 1,\n 3,\n 1,\n 3,\n 1,\n 1,\n 2,\n 2,\n 1,\n 2,\n 1,\n 1,\n 3,\n 1,\n 2,\n 2,\n 2,\n 3,\n 3,\n 1,\n 2,\n 2,\n 1,\n 1,\n 2,\n 1,\n 1,\n 2,\n 1,\n 1,\n 1,\n 2,\n 2,\n 1,\n 2,\n 1,\n 2,\n 2,\n 1,\n 2,\n 0,\n 2,\n 1,\n 1,\n 2,\n 0,\n 2,\n 3,\n 2,\n 1,\n 2,\n 2,\n 1,\n 2]"
     },
     "execution_count": 379,
     "metadata": {},
     "output_type": "execute_result"
    }
   ],
   "source": [
    "# Feature Engineering\n",
    "# Create at least 5 custom features as functions of other features ---> 3rd custom feature\n",
    "# A bucketized categorical feature of MaxHR called bucketized_MaxHR\n",
    "def custom_MaxHR(features):\n",
    "    bucketized_MaxHR = []\n",
    "    for i in features[\"MaxHR\"]:\n",
    "        if i < 95:\n",
    "            bucketized_MaxHR.append(0)\n",
    "        elif i < 130:\n",
    "             bucketized_MaxHR.append(1)\n",
    "        elif i < 165:\n",
    "            bucketized_MaxHR.append(2)\n",
    "        elif i > 165:\n",
    "             bucketized_MaxHR.append(3)\n",
    "    return bucketized_MaxHR\n",
    "custom_MaxHR(X_train)"
   ],
   "metadata": {
    "collapsed": false,
    "pycharm": {
     "name": "#%%\n"
    }
   }
  },
  {
   "cell_type": "code",
   "execution_count": 389,
   "outputs": [
    {
     "data": {
      "text/plain": "[1,\n 0,\n 0,\n 1,\n 1,\n 1,\n 0,\n 0,\n 1,\n 0,\n 0,\n 1,\n 0,\n 1,\n 0,\n 0,\n 1,\n 0,\n 0,\n 0,\n 0,\n 0,\n 0,\n 0,\n 0,\n 0,\n 1,\n 1,\n 0,\n 0,\n 0,\n 1,\n 0,\n 1,\n 1,\n 0,\n 1,\n 0,\n 1,\n 0,\n 0,\n 1,\n 0,\n 1,\n 0,\n 1,\n 1,\n 0,\n 0,\n 1,\n 0,\n 0,\n 1,\n 0,\n 0,\n 1,\n 0,\n 1,\n 0,\n 0,\n 1,\n 1,\n 0,\n 0,\n 0,\n 0,\n 1,\n 1,\n 1,\n 0,\n 1,\n 1,\n 0,\n 1,\n 0,\n 0,\n 0,\n 0,\n 1,\n 0,\n 0,\n 1,\n 1,\n 0,\n 0,\n 0,\n 0,\n 0,\n 0,\n 1,\n 0,\n 1,\n 0,\n 0,\n 1,\n 0,\n 1,\n 0,\n 1,\n 0,\n 1,\n 0,\n 0,\n 0,\n 0,\n 0,\n 0,\n 1,\n 1,\n 0,\n 0,\n 0,\n 0,\n 0,\n 1,\n 0,\n 0,\n 1,\n 1,\n 1,\n 1,\n 0,\n 0,\n 1,\n 1,\n 1,\n 1,\n 1,\n 0,\n 1,\n 1,\n 0,\n 0,\n 0,\n 1,\n 0,\n 1,\n 1,\n 0,\n 0,\n 0,\n 0,\n 0,\n 0,\n 0,\n 0,\n 0,\n 0,\n 1,\n 1,\n 1,\n 0,\n 1,\n 1,\n 0,\n 0,\n 0,\n 0,\n 0,\n 0,\n 1,\n 1,\n 0,\n 1,\n 0,\n 0,\n 0,\n 1,\n 1,\n 0,\n 1,\n 0,\n 1,\n 0,\n 0,\n 1,\n 0,\n 1,\n 1,\n 0,\n 1,\n 0,\n 0,\n 1,\n 1,\n 1,\n 1,\n 1,\n 1,\n 0,\n 0,\n 0,\n 1,\n 0,\n 0,\n 0,\n 0,\n 1,\n 1,\n 1,\n 0,\n 0,\n 1,\n 0,\n 1,\n 0,\n 0,\n 0,\n 0,\n 0,\n 0,\n 1,\n 0,\n 0,\n 1,\n 0,\n 1,\n 0,\n 1,\n 0,\n 1,\n 0,\n 0,\n 1,\n 0,\n 0,\n 1,\n 0,\n 1,\n 0,\n 0,\n 0,\n 0,\n 0,\n 1,\n 0,\n 0,\n 1,\n 0,\n 0,\n 1,\n 1,\n 0,\n 1,\n 1,\n 0,\n 0,\n 0,\n 0,\n 1,\n 0,\n 1,\n 1,\n 0,\n 1,\n 0,\n 0,\n 0,\n 0,\n 1,\n 0,\n 0,\n 1,\n 0,\n 1,\n 1,\n 1,\n 0,\n 1,\n 0,\n 0,\n 1,\n 1,\n 1,\n 0,\n 1,\n 1,\n 0,\n 0,\n 1,\n 1,\n 0,\n 1,\n 0,\n 0,\n 1,\n 0,\n 1,\n 0,\n 0,\n 1,\n 0,\n 1,\n 0,\n 1,\n 0,\n 1,\n 1,\n 0,\n 0,\n 0,\n 1,\n 0,\n 0,\n 1,\n 1,\n 1,\n 1,\n 0,\n 0,\n 1,\n 0,\n 0,\n 0,\n 0,\n 1,\n 0,\n 0,\n 0,\n 1,\n 1,\n 1,\n 0,\n 0,\n 1,\n 0,\n 0,\n 0,\n 1,\n 1,\n 1,\n 0,\n 1,\n 1,\n 1,\n 1,\n 0,\n 0,\n 0,\n 1,\n 0,\n 0,\n 1,\n 0,\n 1,\n 0,\n 0,\n 1,\n 1,\n 0,\n 0,\n 1,\n 0,\n 1,\n 0,\n 0,\n 0,\n 0,\n 0,\n 0,\n 1,\n 1,\n 0,\n 1,\n 0,\n 1,\n 0,\n 1,\n 0,\n 0,\n 0,\n 0,\n 1,\n 1,\n 1,\n 1,\n 0,\n 1,\n 0,\n 0,\n 1,\n 0,\n 1,\n 0,\n 0,\n 1,\n 0,\n 0,\n 1,\n 0,\n 1,\n 0,\n 0,\n 0,\n 1,\n 1,\n 0,\n 1,\n 0,\n 1,\n 0,\n 0,\n 0,\n 0,\n 0,\n 0,\n 1,\n 1,\n 0,\n 0,\n 1,\n 1,\n 1,\n 1,\n 0,\n 1,\n 1,\n 1,\n 0,\n 0,\n 1,\n 1,\n 0,\n 1,\n 1,\n 0,\n 1,\n 0,\n 1,\n 0,\n 1]"
     },
     "execution_count": 389,
     "metadata": {},
     "output_type": "execute_result"
    }
   ],
   "source": [
    "# Feature Engineering\n",
    "# Create at least 5 custom features as functions of other features ---> 4th custom feature\n",
    "# A feature cross of a bucketized version of OldPeak and MaxHR for example HighOldPeak_X_LowMaxHR\n",
    "def cross_OldPeak_MaxHR(features):\n",
    "    HighOldPeak_X_LowMaxHR = []\n",
    "    for i, j in zip(features[\"Oldpeak\"], features[\"MaxHR\"]):\n",
    "        if i > 2 & j < 95:\n",
    "            HighOldPeak_X_LowMaxHR.append(0)\n",
    "        elif i > 0 & j < 130:\n",
    "             HighOldPeak_X_LowMaxHR.append(1)\n",
    "        elif i > -2 & j < 165:\n",
    "            HighOldPeak_X_LowMaxHR.append(2)\n",
    "        elif (-2 > i) & (165 < j):\n",
    "             HighOldPeak_X_LowMaxHR.append(3)\n",
    "    return HighOldPeak_X_LowMaxHR\n",
    "cross_OldPeak_MaxHR(X_train)\n",
    "\n",
    "# this actually is wrong but this would give an empty list"
   ],
   "metadata": {
    "collapsed": false,
    "pycharm": {
     "name": "#%%\n"
    }
   }
  },
  {
   "cell_type": "code",
   "execution_count": 381,
   "outputs": [],
   "source": [
    "def cross_OldPeak_MaxHR(features):\n",
    "    HighOldPeak_X_LowMaxHR = []\n",
    "    bucketized_Oldpeak = custom_Oldpeak(X_train)\n",
    "    bucketized_MaxHR = custom_MaxHR(X_train)\n",
    "    for i, j in zip(bucketized_Oldpeak, bucketized_MaxHR):\n",
    "        if i == 3 & j == 0:\n",
    "            print(0)\n",
    "            #HighOldPeak_X_LowMaxHR.append(0)\n",
    "        elif i == 2 & j == 1:\n",
    "            print(1)\n",
    "             #HighOldPeak_X_LowMaxHR.append(1)\n",
    "        elif i == 1 & j == 2:\n",
    "            print(2)\n",
    "           # HighOldPeak_X_LowMaxHR.append(2)\n",
    "        elif i == 0 & j == 3:\n",
    "            print(3)\n",
    "            # HighOldPeak_X_LowMaxHR.append(3)\n",
    "    #return HighOldPeak_X_LowMaxHR\n",
    "\n",
    "cross_OldPeak_MaxHR(X_train)"
   ],
   "metadata": {
    "collapsed": false,
    "pycharm": {
     "name": "#%%\n"
    }
   }
  },
  {
   "cell_type": "code",
   "execution_count": 382,
   "outputs": [
    {
     "name": "stderr",
     "output_type": "stream",
     "text": [
      "c:\\users\\azwad\\onedrive\\documents\\projects\\cs_59866\\venv\\lib\\site-packages\\sklearn\\base.py:493: FutureWarning: The feature names should match those that were passed during fit. Starting version 1.2, an error will be raised.\n",
      "Feature names seen at fit time, yet now missing:\n",
      "- Age-MinMax\n",
      "- Age-Scaled\n",
      "- ChestPainType-TargetEncoded\n",
      "- Cholesterol-MinMax\n",
      "- Cholesterol-Scaled\n",
      "- ...\n",
      "\n",
      "  warnings.warn(message, FutureWarning)\n"
     ]
    },
    {
     "ename": "ValueError",
     "evalue": "X has 20 features, but LogisticRegression is expecting 37 features as input.",
     "output_type": "error",
     "traceback": [
      "\u001B[1;31m---------------------------------------------------------------------------\u001B[0m",
      "\u001B[1;31mValueError\u001B[0m                                Traceback (most recent call last)",
      "Input \u001B[1;32mIn [382]\u001B[0m, in \u001B[0;36m<module>\u001B[1;34m\u001B[0m\n\u001B[0;32m      2\u001B[0m feature_experiments_1_train, feature_experiments_1_test \u001B[38;5;241m=\u001B[39m oneHot_Encoding(X_train, categorical_features), oneHot_Encoding(X_test, categorical_features)\n\u001B[0;32m      3\u001B[0m logr \u001B[38;5;241m=\u001B[39m LogisticRegression(max_iter\u001B[38;5;241m=\u001B[39m\u001B[38;5;241m1000\u001B[39m)\u001B[38;5;241m.\u001B[39mfit(feature_experiments_1_train, y_train)\n\u001B[1;32m----> 4\u001B[0m \u001B[38;5;28mprint\u001B[39m(\u001B[43mlogr\u001B[49m\u001B[38;5;241;43m.\u001B[39;49m\u001B[43mscore\u001B[49m\u001B[43m(\u001B[49m\u001B[43mfeature_experiments_1_test\u001B[49m\u001B[43m,\u001B[49m\u001B[43m \u001B[49m\u001B[43my_test\u001B[49m\u001B[43m)\u001B[49m)\n",
      "File \u001B[1;32mc:\\users\\azwad\\onedrive\\documents\\projects\\cs_59866\\venv\\lib\\site-packages\\sklearn\\base.py:651\u001B[0m, in \u001B[0;36mClassifierMixin.score\u001B[1;34m(self, X, y, sample_weight)\u001B[0m\n\u001B[0;32m    626\u001B[0m \u001B[38;5;124;03m\"\"\"\u001B[39;00m\n\u001B[0;32m    627\u001B[0m \u001B[38;5;124;03mReturn the mean accuracy on the given test data and labels.\u001B[39;00m\n\u001B[0;32m    628\u001B[0m \n\u001B[1;32m   (...)\u001B[0m\n\u001B[0;32m    647\u001B[0m \u001B[38;5;124;03m    Mean accuracy of ``self.predict(X)`` wrt. `y`.\u001B[39;00m\n\u001B[0;32m    648\u001B[0m \u001B[38;5;124;03m\"\"\"\u001B[39;00m\n\u001B[0;32m    649\u001B[0m \u001B[38;5;28;01mfrom\u001B[39;00m \u001B[38;5;21;01m.\u001B[39;00m\u001B[38;5;21;01mmetrics\u001B[39;00m \u001B[38;5;28;01mimport\u001B[39;00m accuracy_score\n\u001B[1;32m--> 651\u001B[0m \u001B[38;5;28;01mreturn\u001B[39;00m accuracy_score(y, \u001B[38;5;28;43mself\u001B[39;49m\u001B[38;5;241;43m.\u001B[39;49m\u001B[43mpredict\u001B[49m\u001B[43m(\u001B[49m\u001B[43mX\u001B[49m\u001B[43m)\u001B[49m, sample_weight\u001B[38;5;241m=\u001B[39msample_weight)\n",
      "File \u001B[1;32mc:\\users\\azwad\\onedrive\\documents\\projects\\cs_59866\\venv\\lib\\site-packages\\sklearn\\linear_model\\_base.py:425\u001B[0m, in \u001B[0;36mLinearClassifierMixin.predict\u001B[1;34m(self, X)\u001B[0m\n\u001B[0;32m    411\u001B[0m \u001B[38;5;28;01mdef\u001B[39;00m \u001B[38;5;21mpredict\u001B[39m(\u001B[38;5;28mself\u001B[39m, X):\n\u001B[0;32m    412\u001B[0m     \u001B[38;5;124;03m\"\"\"\u001B[39;00m\n\u001B[0;32m    413\u001B[0m \u001B[38;5;124;03m    Predict class labels for samples in X.\u001B[39;00m\n\u001B[0;32m    414\u001B[0m \n\u001B[1;32m   (...)\u001B[0m\n\u001B[0;32m    423\u001B[0m \u001B[38;5;124;03m        Vector containing the class labels for each sample.\u001B[39;00m\n\u001B[0;32m    424\u001B[0m \u001B[38;5;124;03m    \"\"\"\u001B[39;00m\n\u001B[1;32m--> 425\u001B[0m     scores \u001B[38;5;241m=\u001B[39m \u001B[38;5;28;43mself\u001B[39;49m\u001B[38;5;241;43m.\u001B[39;49m\u001B[43mdecision_function\u001B[49m\u001B[43m(\u001B[49m\u001B[43mX\u001B[49m\u001B[43m)\u001B[49m\n\u001B[0;32m    426\u001B[0m     \u001B[38;5;28;01mif\u001B[39;00m \u001B[38;5;28mlen\u001B[39m(scores\u001B[38;5;241m.\u001B[39mshape) \u001B[38;5;241m==\u001B[39m \u001B[38;5;241m1\u001B[39m:\n\u001B[0;32m    427\u001B[0m         indices \u001B[38;5;241m=\u001B[39m (scores \u001B[38;5;241m>\u001B[39m \u001B[38;5;241m0\u001B[39m)\u001B[38;5;241m.\u001B[39mastype(\u001B[38;5;28mint\u001B[39m)\n",
      "File \u001B[1;32mc:\\users\\azwad\\onedrive\\documents\\projects\\cs_59866\\venv\\lib\\site-packages\\sklearn\\linear_model\\_base.py:407\u001B[0m, in \u001B[0;36mLinearClassifierMixin.decision_function\u001B[1;34m(self, X)\u001B[0m\n\u001B[0;32m    387\u001B[0m \u001B[38;5;124;03m\"\"\"\u001B[39;00m\n\u001B[0;32m    388\u001B[0m \u001B[38;5;124;03mPredict confidence scores for samples.\u001B[39;00m\n\u001B[0;32m    389\u001B[0m \n\u001B[1;32m   (...)\u001B[0m\n\u001B[0;32m    403\u001B[0m \u001B[38;5;124;03m    this class would be predicted.\u001B[39;00m\n\u001B[0;32m    404\u001B[0m \u001B[38;5;124;03m\"\"\"\u001B[39;00m\n\u001B[0;32m    405\u001B[0m check_is_fitted(\u001B[38;5;28mself\u001B[39m)\n\u001B[1;32m--> 407\u001B[0m X \u001B[38;5;241m=\u001B[39m \u001B[38;5;28;43mself\u001B[39;49m\u001B[38;5;241;43m.\u001B[39;49m\u001B[43m_validate_data\u001B[49m\u001B[43m(\u001B[49m\u001B[43mX\u001B[49m\u001B[43m,\u001B[49m\u001B[43m \u001B[49m\u001B[43maccept_sparse\u001B[49m\u001B[38;5;241;43m=\u001B[39;49m\u001B[38;5;124;43m\"\u001B[39;49m\u001B[38;5;124;43mcsr\u001B[39;49m\u001B[38;5;124;43m\"\u001B[39;49m\u001B[43m,\u001B[49m\u001B[43m \u001B[49m\u001B[43mreset\u001B[49m\u001B[38;5;241;43m=\u001B[39;49m\u001B[38;5;28;43;01mFalse\u001B[39;49;00m\u001B[43m)\u001B[49m\n\u001B[0;32m    408\u001B[0m scores \u001B[38;5;241m=\u001B[39m safe_sparse_dot(X, \u001B[38;5;28mself\u001B[39m\u001B[38;5;241m.\u001B[39mcoef_\u001B[38;5;241m.\u001B[39mT, dense_output\u001B[38;5;241m=\u001B[39m\u001B[38;5;28;01mTrue\u001B[39;00m) \u001B[38;5;241m+\u001B[39m \u001B[38;5;28mself\u001B[39m\u001B[38;5;241m.\u001B[39mintercept_\n\u001B[0;32m    409\u001B[0m \u001B[38;5;28;01mreturn\u001B[39;00m scores\u001B[38;5;241m.\u001B[39mravel() \u001B[38;5;28;01mif\u001B[39;00m scores\u001B[38;5;241m.\u001B[39mshape[\u001B[38;5;241m1\u001B[39m] \u001B[38;5;241m==\u001B[39m \u001B[38;5;241m1\u001B[39m \u001B[38;5;28;01melse\u001B[39;00m scores\n",
      "File \u001B[1;32mc:\\users\\azwad\\onedrive\\documents\\projects\\cs_59866\\venv\\lib\\site-packages\\sklearn\\base.py:585\u001B[0m, in \u001B[0;36mBaseEstimator._validate_data\u001B[1;34m(self, X, y, reset, validate_separately, **check_params)\u001B[0m\n\u001B[0;32m    582\u001B[0m     out \u001B[38;5;241m=\u001B[39m X, y\n\u001B[0;32m    584\u001B[0m \u001B[38;5;28;01mif\u001B[39;00m \u001B[38;5;129;01mnot\u001B[39;00m no_val_X \u001B[38;5;129;01mand\u001B[39;00m check_params\u001B[38;5;241m.\u001B[39mget(\u001B[38;5;124m\"\u001B[39m\u001B[38;5;124mensure_2d\u001B[39m\u001B[38;5;124m\"\u001B[39m, \u001B[38;5;28;01mTrue\u001B[39;00m):\n\u001B[1;32m--> 585\u001B[0m     \u001B[38;5;28;43mself\u001B[39;49m\u001B[38;5;241;43m.\u001B[39;49m\u001B[43m_check_n_features\u001B[49m\u001B[43m(\u001B[49m\u001B[43mX\u001B[49m\u001B[43m,\u001B[49m\u001B[43m \u001B[49m\u001B[43mreset\u001B[49m\u001B[38;5;241;43m=\u001B[39;49m\u001B[43mreset\u001B[49m\u001B[43m)\u001B[49m\n\u001B[0;32m    587\u001B[0m \u001B[38;5;28;01mreturn\u001B[39;00m out\n",
      "File \u001B[1;32mc:\\users\\azwad\\onedrive\\documents\\projects\\cs_59866\\venv\\lib\\site-packages\\sklearn\\base.py:400\u001B[0m, in \u001B[0;36mBaseEstimator._check_n_features\u001B[1;34m(self, X, reset)\u001B[0m\n\u001B[0;32m    397\u001B[0m     \u001B[38;5;28;01mreturn\u001B[39;00m\n\u001B[0;32m    399\u001B[0m \u001B[38;5;28;01mif\u001B[39;00m n_features \u001B[38;5;241m!=\u001B[39m \u001B[38;5;28mself\u001B[39m\u001B[38;5;241m.\u001B[39mn_features_in_:\n\u001B[1;32m--> 400\u001B[0m     \u001B[38;5;28;01mraise\u001B[39;00m \u001B[38;5;167;01mValueError\u001B[39;00m(\n\u001B[0;32m    401\u001B[0m         \u001B[38;5;124mf\u001B[39m\u001B[38;5;124m\"\u001B[39m\u001B[38;5;124mX has \u001B[39m\u001B[38;5;132;01m{\u001B[39;00mn_features\u001B[38;5;132;01m}\u001B[39;00m\u001B[38;5;124m features, but \u001B[39m\u001B[38;5;132;01m{\u001B[39;00m\u001B[38;5;28mself\u001B[39m\u001B[38;5;241m.\u001B[39m\u001B[38;5;18m__class__\u001B[39m\u001B[38;5;241m.\u001B[39m\u001B[38;5;18m__name__\u001B[39m\u001B[38;5;132;01m}\u001B[39;00m\u001B[38;5;124m \u001B[39m\u001B[38;5;124m\"\u001B[39m\n\u001B[0;32m    402\u001B[0m         \u001B[38;5;124mf\u001B[39m\u001B[38;5;124m\"\u001B[39m\u001B[38;5;124mis expecting \u001B[39m\u001B[38;5;132;01m{\u001B[39;00m\u001B[38;5;28mself\u001B[39m\u001B[38;5;241m.\u001B[39mn_features_in_\u001B[38;5;132;01m}\u001B[39;00m\u001B[38;5;124m features as input.\u001B[39m\u001B[38;5;124m\"\u001B[39m\n\u001B[0;32m    403\u001B[0m     )\n",
      "\u001B[1;31mValueError\u001B[0m: X has 20 features, but LogisticRegression is expecting 37 features as input."
     ]
    }
   ],
   "source": [
    "# Feature Experiments: All features with no scaling on numeric features and OneHot for categorical. No custom features.\n",
    "# Experiment 1\n"
   ],
   "metadata": {
    "collapsed": false,
    "pycharm": {
     "name": "#%%\n"
    }
   }
  },
  {
   "cell_type": "code",
   "execution_count": null,
   "outputs": [],
   "source": [],
   "metadata": {
    "collapsed": false,
    "pycharm": {
     "name": "#%%\n"
    }
   }
  }
 ],
 "metadata": {
  "kernelspec": {
   "display_name": "Python 3 (ipykernel)",
   "language": "python",
   "name": "python3"
  },
  "language_info": {
   "codemirror_mode": {
    "name": "ipython",
    "version": 3
   },
   "file_extension": ".py",
   "mimetype": "text/x-python",
   "name": "python",
   "nbconvert_exporter": "python",
   "pygments_lexer": "ipython3",
   "version": "3.7.0"
  }
 },
 "nbformat": 4,
 "nbformat_minor": 2
}