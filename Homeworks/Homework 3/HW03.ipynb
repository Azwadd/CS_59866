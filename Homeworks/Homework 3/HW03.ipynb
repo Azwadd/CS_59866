{
 "cells": [
  {
   "cell_type": "markdown",
   "metadata": {},
   "source": [
    "## Homework 3- Feature Engineering for Classification\n",
    "\n",
    "Goal: Train the best classifier possible for Heart Disease Prediction while trying various feature engineering techniques and learning to run experiments to find the best possible model.\n",
    "\n",
    "\n",
    "### Feature Preprocessing\n",
    "For each categorical features implement two feature representations:\n",
    "1. OneHot Encoding: For example, transform `X_train['Sex']` with values `M or F` into two features `X_Train['Sex_M']`, `X_Train['Sex_F']` with values `0 or 1`\n",
    "2. Target Encoding: For example, transform `X_train['Sex']` with values `M or F` into a feature `X_Train['Sex-TargetEncoded']` with value equal to the average rate of heart disease of `M and F` respectively.\n",
    "\n",
    "Please implement these yourself, but you can check against sklearn.preprocessing implementations for correctness.\n",
    "\n",
    "The set of categorical features is:\n",
    "`categorical_features = ['Sex', 'ChestPainType', 'RestingECG', 'ExerciseAngina', 'ST_Slope']`\n",
    "\n",
    "\n",
    "For numerical features implement two feature normalisations:\n",
    "1. Standard Scaler (scale numeric values to have zero mean and unit variance). For example `X_train['Age-Scaled'] = (X_train['Age'] - mean) / standard_deviation`\n",
    "2. MinMax Normalization (subtract min and divide by max - min). For example `X_train['Age-MinMax'] = (X_train['Age'] - min) / (max - min)`\n",
    "\n",
    "Please implement these yourself but you can check against the sklearn.preprocessing implementations.\n",
    "\n",
    "The set of numeric features is:\n",
    "`numeric_features = [\"Age\", \"RestingBP\", \"Cholesterol\", \"FastingBS\", \"MaxHR\", \"Oldpeak\"]`\n",
    "    \n",
    "Note, any feature preprocessing parameters (like mean or standard deviation) should be calculated on training data only.\n",
    "\n",
    "### Feature Engineering:\n",
    "Create at least 5 custom features as functions of other features:\n",
    "\n",
    "Some ideas:\n",
    "  - A binary feature representing High Heart Rate `Custom-BinaryHighMaxHR`\n",
    "  - A bucketized categorical feature of Oldpeak or of MaxHR called `Oldpeak`\n",
    "  - A feature cross of a bucketized version of OldPeak and MaxHR for example `HighOldPeak_X_LowMaxHR`\n",
    "  \n",
    "### Feature Experiments:\n",
    "Please run at least this set of experiments, but try others as you see fit.\n",
    "1. All features with no scaling on numeric features and OneHot for categorical. No custom features.\n",
    "2. All features using StandardScaler for numeric and OneHot for categorical. No custom features.\n",
    "3. All features using StandardScaler for numeric and TargetEncoding for categorical. No custom features.\n",
    "4. All features using MinMax-Normalization for numeric and OneHot for categorical. No custom features.\n",
    "5. The kitchen sink: Include everything to try to get the best performance possible.\n",
    "6. Only custom features. How good can you get with your own custom feature set?\n",
    "7. Only categorical features using one of the encodings.\n",
    "8. Only numerical features using one of the encodings.\n",
    "\n",
    "\n",
    "### Model Training\n",
    "Model training Data:\n",
    "Separate data into a training set with 80% of the samples and a test set with 20%. \n",
    "`X_train, X_test, y_train, y_test = train_test_split(X, y, test_size=0.20, random_state=42)`. Note that ideally we would also have a validation set, but since this dataset is fairly small, we will just do train/test splits. Please use the same random state as above so we have comparable performance across the class.\n",
    "\n",
    "### Models\n",
    "Please run all experiments using at least 3 different models\n",
    "1. Logistic regression using `sklearn.linear_model.LogisticRegression`. Extra credit of +2 if you use your own gradient descent implementation from Homework 2.\n",
    "2. Decision Trees: using `sklearn.tree.DecisionTreeClassifier`. Hyperparameter here is the depth of the tree.\n",
    "3. Neural Net classifier using `sklearn.neural_network.MLPClassifier`. Hyperparameters here include the shape of the network and the learning rate. Consider using the 'adam' solver as constructor argument, 'relu' activation fuctions (which is the default), and try with a shape of network, but start small with a network of size `(4,1)`, that is 4 hidden units in one layer or `(3,2)` which includes 2 hidden layers of 3 units each.\n",
    "4. At least 1 other classifier. Some ideas include SVM classifiers or Gradient Boosted Decision trees which are all available in sklearn as well\n",
    "\n",
    "\n",
    "### Question 1: Run Experiments (15 points)\n",
    "\n",
    "We have many varying parameters. Often in ML we run multiple experiments to find the best result.\n",
    "- at least 8 different feature setups, maybe more\n",
    "- at least 4 different model algorithms\n",
    "- some number of hyperparemeters, let's say we try at least 10 for each model\n",
    "\n",
    "This gives us a minimum of 320 different experiments. To easily keep track of these, let's create a spreadsheet to track the experiment results. \n",
    "\n",
    "Create a .csv file with the following columns tracking your experiments. Make sure this .csv can be loaded into Google sheets so I can grade it. Upload the .csv separately.\n",
    "\n",
    "1. Experiment Name string. For example `Experiment1-LogReg-OneHot-Custom`. This name be anything.\n",
    "2. List of Feature Included in Model separated by semicolons. Please name these according to this scheme: `<FeatureName>-<Preprocessing>-<Value>` for example `MaxHR-StandardScaler` or `RestingECG-OneHot-Normal`. For custom features name them `Custom-<Name>` for example: `Custom-BucketizedOldpeak`. As an example, a row in this columns might look like `MaxHR; MaxHR-StandardScaler; Custom-BinaryHighHeartRate; ...`. If your features are in your dataframe, you can create this list with `';'.join(X_train.columns)`.\n",
    "3. Model Type (MyLogisticRegression or DecisionTree or anything else you want to try)\n",
    "4. Epochs (for logistic regression)\n",
    "5. Hyperparameters used in your model, for example depth of tree or size of neural network\n",
    "6. Training Accuracy (w/ threshold of 0.5)\n",
    "7. Testing Accuracy (w/ threshold of 0.5)\n",
    "8. Training PR-AUC (Area under the precision/recall curve)\n",
    "9. Testing PR-AUC (Area under the precision/recall curve)\n",
    "10. Training Precision (w/ threshold of 0.5)\n",
    "11. Testing Precision (w/ threshold of 0.5)\n",
    "12. Training Recall (w/ threshold of 0.5)\n",
    "13. Testing Recall (w/ threshold of 0.5)\n",
    "\n",
    "Extra Credit (2 points): Use Weights And Biases (https://wandb.ai/) to track your experiments as an alternative to a spreadsheet (https://towardsdatascience.com/introduction-to-weight-biases-track-and-visualize-your-machine-learning-experiments-in-3-lines-9c9553b0f99d)\n",
    "\n",
    "\n",
    "### Question 2: Analyze Logistic Regression Experiments (4 points)\n",
    "\n",
    "- Question 2.1: What is the best set of features and parameters for Logistic Regression in terms of Test PR-AUC. Is this the same as the best in terms of accuracy? Discuss why you think this experiment showed the best results.\n",
    "- Question 2.2: If features are well normalized, we can get a sense of feature importance by looking at the absolute value of the weights of each feature. Print out the highest 5 weights by absolute value. Which features are these? Discuss what this set of 5 features has on the model.\n",
    "- Question 2.3: Train a model with just those top 5 features. What is the Test Accuracy and PR-AUC?\n",
    "- Question 2.4: Describe the custom features you added. Why did you pick these?\n",
    "\n",
    "### Question 3: Analyze Other Experiments (4 points)\n",
    "\n",
    "- Question 3.1: What is the best set of features and parameters for Decision Tree classifier in terms of Test PR-AUC.  Discuss why you think this experiment showed the best results.\n",
    "- Question 3.2: What is the best set of features and parameters for Neural Net classifier in terms of Test PR-AUC.  Discuss why you think this experiment showed the best results.\n",
    "- Question 3.3: What is the best set of features and parameters for another chosen model in terms of Test PR-AUC.  Discuss why you think this experiment showed the best results.\n",
    "\n",
    "### Question 4: Achieving particular peformance charactaristics (2 points)\n",
    "- Question 4.1: From your trained models, can you produce a classifier that has around 90% recall on the test set? How? What is the precision of this model?\n",
    "- Question 4.2: From your trained models, can you produce a classifier that has around 90% precision on the test set? How? What is the recall of this model?\n",
    "\n",
    "### Question 5: Taking a step back (2 points)\n",
    "- Question 5.1: What is your best performing model over all experiments? Describe why you think this was the best? What is the PR-AUC and Accuracy of this model? Feel free to share your results on discord, the best model in the class will receive extra credit of 3 points!\n",
    "- Question 5.2: Discuss your thoughts on this process? What surprised you? What was hard or tedious? What did you learn?\n"
   ]
  },
  {
   "cell_type": "code",
   "execution_count": 2,
   "metadata": {},
   "outputs": [],
   "source": [
    "# Imports\n",
    "import numpy as np\n",
    "import pandas as pd\n",
    "from sklearn.model_selection import train_test_split"
   ]
  },
  {
   "cell_type": "code",
   "execution_count": 3,
   "outputs": [],
   "source": [
    "# Load data from our csv\n",
    "df = pd.read_csv('../../Data/heart.csv')\n",
    "\n",
    "# Select out Binary and Categorical Features\n",
    "numeric_features = [\"Age\", \"RestingBP\", \"Cholesterol\", \"FastingBS\", \"MaxHR\", \"Oldpeak\"]\n",
    "categorical_features = ['Sex', 'ChestPainType', 'RestingECG', 'ExerciseAngina', 'ST_Slope']\n",
    "label_feature = \"HeartDisease\"\n",
    "X = df[numeric_features + categorical_features]\n",
    "y = df[label_feature]\n",
    "\n",
    "# Create Train / Test split\n",
    "X_train, X_test, y_train, y_test = train_test_split(X, y, test_size=0.20, random_state=42)"
   ],
   "metadata": {
    "collapsed": false,
    "pycharm": {
     "name": "#%%\n"
    }
   }
  },
  {
   "cell_type": "code",
   "execution_count": 4,
   "metadata": {},
   "outputs": [
    {
     "name": "stdout",
     "output_type": "stream",
     "text": [
      "53.65122615803815\n",
      "9.364289800106517\n"
     ]
    }
   ],
   "source": [
    "# Examples of Pandas operations you can use:\n",
    "# Calculate mean of a column:\n",
    "print(X_train['Age'].mean())\n",
    "# Calculate standard deviation of a column:\n",
    "print(X_train['Age'].std())\n",
    "\n",
    "# Example of creating a custom new feature column, in this case a binary feature indicating age > 50\n",
    "X_train_example= X_train.copy()\n",
    "X_train_example['Binary-AgeGt50'] = (X_train['Age'] > 50).apply(int)"
   ]
  },
  {
   "cell_type": "code",
   "execution_count": 5,
   "outputs": [
    {
     "data": {
      "text/plain": "     Age  RestingBP  Cholesterol  FastingBS  MaxHR  Oldpeak  Sex_M  Sex_F  \\\n795   42        120          240          1    194      0.8      1      0   \n25    36        130          209          0    178      0.0      1      0   \n84    56        150          213          1    125      1.0      1      0   \n10    37        130          211          0    142      0.0      0      1   \n344   51        120            0          1    104      0.0      1      0   \n..   ...        ...          ...        ...    ...      ...    ...    ...   \n106   48        120          254          0    110      0.0      0      1   \n270   45        120          225          0    140      0.0      1      0   \n860   60        130          253          0    144      1.4      1      0   \n435   60        152            0          0    118      0.0      1      0   \n102   40        150          392          0    130      2.0      0      1   \n\n    ChestPainType RestingECG ExerciseAngina ST_Slope  \n795           NAP     Normal              N     Down  \n25            NAP     Normal              N       Up  \n84            ASY     Normal              Y     Flat  \n10            NAP     Normal              N       Up  \n344           ASY     Normal              N     Flat  \n..            ...        ...            ...      ...  \n106           ASY         ST              N       Up  \n270           ASY     Normal              N       Up  \n860           ASY     Normal              Y       Up  \n435           ASY         ST              Y       Up  \n102           ASY     Normal              N     Flat  \n\n[734 rows x 12 columns]",
      "text/html": "<div>\n<style scoped>\n    .dataframe tbody tr th:only-of-type {\n        vertical-align: middle;\n    }\n\n    .dataframe tbody tr th {\n        vertical-align: top;\n    }\n\n    .dataframe thead th {\n        text-align: right;\n    }\n</style>\n<table border=\"1\" class=\"dataframe\">\n  <thead>\n    <tr style=\"text-align: right;\">\n      <th></th>\n      <th>Age</th>\n      <th>RestingBP</th>\n      <th>Cholesterol</th>\n      <th>FastingBS</th>\n      <th>MaxHR</th>\n      <th>Oldpeak</th>\n      <th>Sex_M</th>\n      <th>Sex_F</th>\n      <th>ChestPainType</th>\n      <th>RestingECG</th>\n      <th>ExerciseAngina</th>\n      <th>ST_Slope</th>\n    </tr>\n  </thead>\n  <tbody>\n    <tr>\n      <th>795</th>\n      <td>42</td>\n      <td>120</td>\n      <td>240</td>\n      <td>1</td>\n      <td>194</td>\n      <td>0.8</td>\n      <td>1</td>\n      <td>0</td>\n      <td>NAP</td>\n      <td>Normal</td>\n      <td>N</td>\n      <td>Down</td>\n    </tr>\n    <tr>\n      <th>25</th>\n      <td>36</td>\n      <td>130</td>\n      <td>209</td>\n      <td>0</td>\n      <td>178</td>\n      <td>0.0</td>\n      <td>1</td>\n      <td>0</td>\n      <td>NAP</td>\n      <td>Normal</td>\n      <td>N</td>\n      <td>Up</td>\n    </tr>\n    <tr>\n      <th>84</th>\n      <td>56</td>\n      <td>150</td>\n      <td>213</td>\n      <td>1</td>\n      <td>125</td>\n      <td>1.0</td>\n      <td>1</td>\n      <td>0</td>\n      <td>ASY</td>\n      <td>Normal</td>\n      <td>Y</td>\n      <td>Flat</td>\n    </tr>\n    <tr>\n      <th>10</th>\n      <td>37</td>\n      <td>130</td>\n      <td>211</td>\n      <td>0</td>\n      <td>142</td>\n      <td>0.0</td>\n      <td>0</td>\n      <td>1</td>\n      <td>NAP</td>\n      <td>Normal</td>\n      <td>N</td>\n      <td>Up</td>\n    </tr>\n    <tr>\n      <th>344</th>\n      <td>51</td>\n      <td>120</td>\n      <td>0</td>\n      <td>1</td>\n      <td>104</td>\n      <td>0.0</td>\n      <td>1</td>\n      <td>0</td>\n      <td>ASY</td>\n      <td>Normal</td>\n      <td>N</td>\n      <td>Flat</td>\n    </tr>\n    <tr>\n      <th>...</th>\n      <td>...</td>\n      <td>...</td>\n      <td>...</td>\n      <td>...</td>\n      <td>...</td>\n      <td>...</td>\n      <td>...</td>\n      <td>...</td>\n      <td>...</td>\n      <td>...</td>\n      <td>...</td>\n      <td>...</td>\n    </tr>\n    <tr>\n      <th>106</th>\n      <td>48</td>\n      <td>120</td>\n      <td>254</td>\n      <td>0</td>\n      <td>110</td>\n      <td>0.0</td>\n      <td>0</td>\n      <td>1</td>\n      <td>ASY</td>\n      <td>ST</td>\n      <td>N</td>\n      <td>Up</td>\n    </tr>\n    <tr>\n      <th>270</th>\n      <td>45</td>\n      <td>120</td>\n      <td>225</td>\n      <td>0</td>\n      <td>140</td>\n      <td>0.0</td>\n      <td>1</td>\n      <td>0</td>\n      <td>ASY</td>\n      <td>Normal</td>\n      <td>N</td>\n      <td>Up</td>\n    </tr>\n    <tr>\n      <th>860</th>\n      <td>60</td>\n      <td>130</td>\n      <td>253</td>\n      <td>0</td>\n      <td>144</td>\n      <td>1.4</td>\n      <td>1</td>\n      <td>0</td>\n      <td>ASY</td>\n      <td>Normal</td>\n      <td>Y</td>\n      <td>Up</td>\n    </tr>\n    <tr>\n      <th>435</th>\n      <td>60</td>\n      <td>152</td>\n      <td>0</td>\n      <td>0</td>\n      <td>118</td>\n      <td>0.0</td>\n      <td>1</td>\n      <td>0</td>\n      <td>ASY</td>\n      <td>ST</td>\n      <td>Y</td>\n      <td>Up</td>\n    </tr>\n    <tr>\n      <th>102</th>\n      <td>40</td>\n      <td>150</td>\n      <td>392</td>\n      <td>0</td>\n      <td>130</td>\n      <td>2.0</td>\n      <td>0</td>\n      <td>1</td>\n      <td>ASY</td>\n      <td>Normal</td>\n      <td>N</td>\n      <td>Flat</td>\n    </tr>\n  </tbody>\n</table>\n<p>734 rows × 12 columns</p>\n</div>"
     },
     "execution_count": 5,
     "metadata": {},
     "output_type": "execute_result"
    }
   ],
   "source": [
    "# Feature Preprocessing\n",
    "# 1. OneHot Encoding: For example, transform X_train['Sex'] with values M or F into two features X_Train['Sex_M'], X_Train['Sex_F'] with values 0 or 1\n",
    "# Encode Sex_M and Sex_F columns with 0, 1 by using values of M and F in column Sex\n",
    "Sex_M, Sex_F = [], []\n",
    "for i in X_train[\"Sex\"]:\n",
    "    if i == 'M':\n",
    "        Sex_M.append(1)\n",
    "        Sex_F.append(0)\n",
    "    elif i == 'F':\n",
    "        Sex_M.append(0)\n",
    "        Sex_F.append(1)\n",
    "\n",
    "# Replace Sex column with Sex_M and Sex_F\n",
    "X_train.pop(\"Sex\")\n",
    "X_train.insert(6, \"Sex_M\", Sex_M)\n",
    "X_train.insert(7, \"Sex_F\", Sex_F)\n",
    "X_train # X_train now has Sex_M and Sex_F columns and these columns are fitted with 0, 1"
   ],
   "metadata": {
    "collapsed": false,
    "pycharm": {
     "name": "#%%\n"
    }
   }
  },
  {
   "cell_type": "code",
   "execution_count": 6,
   "outputs": [
    {
     "data": {
      "text/plain": "     Age  RestingBP  Cholesterol  FastingBS  MaxHR  Oldpeak Sex-TargetEncoded  \\\n795   42        120          240          1    194      0.8          0.632042   \n25    36        130          209          0    178      0.0          0.632042   \n84    56        150          213          1    125      1.0          0.632042   \n10    37        130          211          0    142      0.0          0.253012   \n344   51        120            0          1    104      0.0          0.632042   \n..   ...        ...          ...        ...    ...      ...               ...   \n106   48        120          254          0    110      0.0          0.253012   \n270   45        120          225          0    140      0.0          0.632042   \n860   60        130          253          0    144      1.4          0.632042   \n435   60        152            0          0    118      0.0          0.632042   \n102   40        150          392          0    130      2.0          0.253012   \n\n    ChestPainType RestingECG ExerciseAngina ST_Slope  \n795           NAP     Normal              N     Down  \n25            NAP     Normal              N       Up  \n84            ASY     Normal              Y     Flat  \n10            NAP     Normal              N       Up  \n344           ASY     Normal              N     Flat  \n..            ...        ...            ...      ...  \n106           ASY         ST              N       Up  \n270           ASY     Normal              N       Up  \n860           ASY     Normal              Y       Up  \n435           ASY         ST              Y       Up  \n102           ASY     Normal              N     Flat  \n\n[734 rows x 11 columns]",
      "text/html": "<div>\n<style scoped>\n    .dataframe tbody tr th:only-of-type {\n        vertical-align: middle;\n    }\n\n    .dataframe tbody tr th {\n        vertical-align: top;\n    }\n\n    .dataframe thead th {\n        text-align: right;\n    }\n</style>\n<table border=\"1\" class=\"dataframe\">\n  <thead>\n    <tr style=\"text-align: right;\">\n      <th></th>\n      <th>Age</th>\n      <th>RestingBP</th>\n      <th>Cholesterol</th>\n      <th>FastingBS</th>\n      <th>MaxHR</th>\n      <th>Oldpeak</th>\n      <th>Sex-TargetEncoded</th>\n      <th>ChestPainType</th>\n      <th>RestingECG</th>\n      <th>ExerciseAngina</th>\n      <th>ST_Slope</th>\n    </tr>\n  </thead>\n  <tbody>\n    <tr>\n      <th>795</th>\n      <td>42</td>\n      <td>120</td>\n      <td>240</td>\n      <td>1</td>\n      <td>194</td>\n      <td>0.8</td>\n      <td>0.632042</td>\n      <td>NAP</td>\n      <td>Normal</td>\n      <td>N</td>\n      <td>Down</td>\n    </tr>\n    <tr>\n      <th>25</th>\n      <td>36</td>\n      <td>130</td>\n      <td>209</td>\n      <td>0</td>\n      <td>178</td>\n      <td>0.0</td>\n      <td>0.632042</td>\n      <td>NAP</td>\n      <td>Normal</td>\n      <td>N</td>\n      <td>Up</td>\n    </tr>\n    <tr>\n      <th>84</th>\n      <td>56</td>\n      <td>150</td>\n      <td>213</td>\n      <td>1</td>\n      <td>125</td>\n      <td>1.0</td>\n      <td>0.632042</td>\n      <td>ASY</td>\n      <td>Normal</td>\n      <td>Y</td>\n      <td>Flat</td>\n    </tr>\n    <tr>\n      <th>10</th>\n      <td>37</td>\n      <td>130</td>\n      <td>211</td>\n      <td>0</td>\n      <td>142</td>\n      <td>0.0</td>\n      <td>0.253012</td>\n      <td>NAP</td>\n      <td>Normal</td>\n      <td>N</td>\n      <td>Up</td>\n    </tr>\n    <tr>\n      <th>344</th>\n      <td>51</td>\n      <td>120</td>\n      <td>0</td>\n      <td>1</td>\n      <td>104</td>\n      <td>0.0</td>\n      <td>0.632042</td>\n      <td>ASY</td>\n      <td>Normal</td>\n      <td>N</td>\n      <td>Flat</td>\n    </tr>\n    <tr>\n      <th>...</th>\n      <td>...</td>\n      <td>...</td>\n      <td>...</td>\n      <td>...</td>\n      <td>...</td>\n      <td>...</td>\n      <td>...</td>\n      <td>...</td>\n      <td>...</td>\n      <td>...</td>\n      <td>...</td>\n    </tr>\n    <tr>\n      <th>106</th>\n      <td>48</td>\n      <td>120</td>\n      <td>254</td>\n      <td>0</td>\n      <td>110</td>\n      <td>0.0</td>\n      <td>0.253012</td>\n      <td>ASY</td>\n      <td>ST</td>\n      <td>N</td>\n      <td>Up</td>\n    </tr>\n    <tr>\n      <th>270</th>\n      <td>45</td>\n      <td>120</td>\n      <td>225</td>\n      <td>0</td>\n      <td>140</td>\n      <td>0.0</td>\n      <td>0.632042</td>\n      <td>ASY</td>\n      <td>Normal</td>\n      <td>N</td>\n      <td>Up</td>\n    </tr>\n    <tr>\n      <th>860</th>\n      <td>60</td>\n      <td>130</td>\n      <td>253</td>\n      <td>0</td>\n      <td>144</td>\n      <td>1.4</td>\n      <td>0.632042</td>\n      <td>ASY</td>\n      <td>Normal</td>\n      <td>Y</td>\n      <td>Up</td>\n    </tr>\n    <tr>\n      <th>435</th>\n      <td>60</td>\n      <td>152</td>\n      <td>0</td>\n      <td>0</td>\n      <td>118</td>\n      <td>0.0</td>\n      <td>0.632042</td>\n      <td>ASY</td>\n      <td>ST</td>\n      <td>Y</td>\n      <td>Up</td>\n    </tr>\n    <tr>\n      <th>102</th>\n      <td>40</td>\n      <td>150</td>\n      <td>392</td>\n      <td>0</td>\n      <td>130</td>\n      <td>2.0</td>\n      <td>0.253012</td>\n      <td>ASY</td>\n      <td>Normal</td>\n      <td>N</td>\n      <td>Flat</td>\n    </tr>\n  </tbody>\n</table>\n<p>734 rows × 11 columns</p>\n</div>"
     },
     "execution_count": 6,
     "metadata": {},
     "output_type": "execute_result"
    }
   ],
   "source": [
    "# Feature Preprocessing\n",
    "# 2. Target Encoding: For example, transform X_train['Sex'] with values M or F into a feature X_Train['Sex-TargetEncoded'] with value equal to the average rate of heart disease of M and F respectively.\n",
    "X_train, X_test, y_train, y_test = train_test_split(X, y, test_size=0.20, random_state=42) # We changed X_train for the previous problem, so we will restore it now\n",
    "maleCount, femaleCount, maleHeartDiseaseCount, femaleHeartDiseaseCount = 0, 0, 0, 0\n",
    "gender, heartDisease = np.array(X_train[\"Sex\"]), np.array(y_train)\n",
    "for i in range(len(gender)):\n",
    "    if gender[i] == 'M':\n",
    "        maleCount += 1\n",
    "        if heartDisease[i] == 1:\n",
    "            maleHeartDiseaseCount += 1\n",
    "    elif gender[i] == 'F':\n",
    "        femaleCount += 1\n",
    "        if heartDisease[i] == 1:\n",
    "            femaleHeartDiseaseCount += 1\n",
    "maleHeartDiseaseRate = maleHeartDiseaseCount/maleCount\n",
    "femaleHeartDiseaseRate = femaleHeartDiseaseCount/femaleCount\n",
    "for i in range(len(gender)):\n",
    "    if gender[i] == 'M':\n",
    "        gender[i] = maleHeartDiseaseRate\n",
    "    elif gender[i] == 'F':\n",
    "        gender[i] = femaleHeartDiseaseRate\n",
    "X_train.pop(\"Sex\")\n",
    "X_train.insert(6, \"Sex-TargetEncoded\", gender)\n",
    "X_train # Sex-TargetEncoded column added where the Sex column was"
   ],
   "metadata": {
    "collapsed": false,
    "pycharm": {
     "name": "#%%\n"
    }
   }
  },
  {
   "cell_type": "code",
   "execution_count": 7,
   "outputs": [
    {
     "data": {
      "text/plain": "     Age Sex ChestPainType RestingECG ExerciseAngina ST_Slope  \\\n795   42   M           NAP     Normal              N     Down   \n25    36   M           NAP     Normal              N       Up   \n84    56   M           ASY     Normal              Y     Flat   \n10    37   F           NAP     Normal              N       Up   \n344   51   M           ASY     Normal              N     Flat   \n..   ...  ..           ...        ...            ...      ...   \n106   48   F           ASY         ST              N       Up   \n270   45   M           ASY     Normal              N       Up   \n860   60   M           ASY     Normal              Y       Up   \n435   60   M           ASY         ST              Y       Up   \n102   40   F           ASY     Normal              N     Flat   \n\n     RestingBP-Scaled  Cholesterol-Scaled  FastingBS-Scaled  MaxHR-Scaled  \\\n795         -0.708502            0.372549          1.841354      2.282796   \n25          -0.166172            0.086087         -0.542339      1.651116   \n84           0.918489            0.123050          1.841354     -0.441327   \n10          -0.166172            0.104569         -0.542339      0.229834   \n344         -0.708502           -1.845220          1.841354     -1.270407   \n..                ...                 ...               ...           ...   \n106         -0.708502            0.501919         -0.542339     -1.033527   \n270         -0.708502            0.233938         -0.542339      0.150874   \n860         -0.166172            0.492678         -0.542339      0.308794   \n435          1.026955           -1.845220         -0.542339     -0.717687   \n102          0.918489            1.777136         -0.542339     -0.243926   \n\n     Oldpeak-Scaled  \n795       -0.096995  \n25        -0.835717  \n84         0.087685  \n10        -0.835717  \n344       -0.835717  \n..              ...  \n106       -0.835717  \n270       -0.835717  \n860        0.457046  \n435       -0.835717  \n102        1.011087  \n\n[734 rows x 11 columns]",
      "text/html": "<div>\n<style scoped>\n    .dataframe tbody tr th:only-of-type {\n        vertical-align: middle;\n    }\n\n    .dataframe tbody tr th {\n        vertical-align: top;\n    }\n\n    .dataframe thead th {\n        text-align: right;\n    }\n</style>\n<table border=\"1\" class=\"dataframe\">\n  <thead>\n    <tr style=\"text-align: right;\">\n      <th></th>\n      <th>Age</th>\n      <th>Sex</th>\n      <th>ChestPainType</th>\n      <th>RestingECG</th>\n      <th>ExerciseAngina</th>\n      <th>ST_Slope</th>\n      <th>RestingBP-Scaled</th>\n      <th>Cholesterol-Scaled</th>\n      <th>FastingBS-Scaled</th>\n      <th>MaxHR-Scaled</th>\n      <th>Oldpeak-Scaled</th>\n    </tr>\n  </thead>\n  <tbody>\n    <tr>\n      <th>795</th>\n      <td>42</td>\n      <td>M</td>\n      <td>NAP</td>\n      <td>Normal</td>\n      <td>N</td>\n      <td>Down</td>\n      <td>-0.708502</td>\n      <td>0.372549</td>\n      <td>1.841354</td>\n      <td>2.282796</td>\n      <td>-0.096995</td>\n    </tr>\n    <tr>\n      <th>25</th>\n      <td>36</td>\n      <td>M</td>\n      <td>NAP</td>\n      <td>Normal</td>\n      <td>N</td>\n      <td>Up</td>\n      <td>-0.166172</td>\n      <td>0.086087</td>\n      <td>-0.542339</td>\n      <td>1.651116</td>\n      <td>-0.835717</td>\n    </tr>\n    <tr>\n      <th>84</th>\n      <td>56</td>\n      <td>M</td>\n      <td>ASY</td>\n      <td>Normal</td>\n      <td>Y</td>\n      <td>Flat</td>\n      <td>0.918489</td>\n      <td>0.123050</td>\n      <td>1.841354</td>\n      <td>-0.441327</td>\n      <td>0.087685</td>\n    </tr>\n    <tr>\n      <th>10</th>\n      <td>37</td>\n      <td>F</td>\n      <td>NAP</td>\n      <td>Normal</td>\n      <td>N</td>\n      <td>Up</td>\n      <td>-0.166172</td>\n      <td>0.104569</td>\n      <td>-0.542339</td>\n      <td>0.229834</td>\n      <td>-0.835717</td>\n    </tr>\n    <tr>\n      <th>344</th>\n      <td>51</td>\n      <td>M</td>\n      <td>ASY</td>\n      <td>Normal</td>\n      <td>N</td>\n      <td>Flat</td>\n      <td>-0.708502</td>\n      <td>-1.845220</td>\n      <td>1.841354</td>\n      <td>-1.270407</td>\n      <td>-0.835717</td>\n    </tr>\n    <tr>\n      <th>...</th>\n      <td>...</td>\n      <td>...</td>\n      <td>...</td>\n      <td>...</td>\n      <td>...</td>\n      <td>...</td>\n      <td>...</td>\n      <td>...</td>\n      <td>...</td>\n      <td>...</td>\n      <td>...</td>\n    </tr>\n    <tr>\n      <th>106</th>\n      <td>48</td>\n      <td>F</td>\n      <td>ASY</td>\n      <td>ST</td>\n      <td>N</td>\n      <td>Up</td>\n      <td>-0.708502</td>\n      <td>0.501919</td>\n      <td>-0.542339</td>\n      <td>-1.033527</td>\n      <td>-0.835717</td>\n    </tr>\n    <tr>\n      <th>270</th>\n      <td>45</td>\n      <td>M</td>\n      <td>ASY</td>\n      <td>Normal</td>\n      <td>N</td>\n      <td>Up</td>\n      <td>-0.708502</td>\n      <td>0.233938</td>\n      <td>-0.542339</td>\n      <td>0.150874</td>\n      <td>-0.835717</td>\n    </tr>\n    <tr>\n      <th>860</th>\n      <td>60</td>\n      <td>M</td>\n      <td>ASY</td>\n      <td>Normal</td>\n      <td>Y</td>\n      <td>Up</td>\n      <td>-0.166172</td>\n      <td>0.492678</td>\n      <td>-0.542339</td>\n      <td>0.308794</td>\n      <td>0.457046</td>\n    </tr>\n    <tr>\n      <th>435</th>\n      <td>60</td>\n      <td>M</td>\n      <td>ASY</td>\n      <td>ST</td>\n      <td>Y</td>\n      <td>Up</td>\n      <td>1.026955</td>\n      <td>-1.845220</td>\n      <td>-0.542339</td>\n      <td>-0.717687</td>\n      <td>-0.835717</td>\n    </tr>\n    <tr>\n      <th>102</th>\n      <td>40</td>\n      <td>F</td>\n      <td>ASY</td>\n      <td>Normal</td>\n      <td>N</td>\n      <td>Flat</td>\n      <td>0.918489</td>\n      <td>1.777136</td>\n      <td>-0.542339</td>\n      <td>-0.243926</td>\n      <td>1.011087</td>\n    </tr>\n  </tbody>\n</table>\n<p>734 rows × 11 columns</p>\n</div>"
     },
     "execution_count": 7,
     "metadata": {},
     "output_type": "execute_result"
    }
   ],
   "source": [
    "# Feature Preprocessing\n",
    "# 1. Standard Scaler (scale numeric values to have zero mean and unit variance). For example X_train['Age-Scaled'] = (X_train['Age'] - mean) / standard_deviation\n",
    "X_train, X_test, y_train, y_test = train_test_split(X, y, test_size=0.20, random_state=42) # We changed X_train for the previous problem, so we will restore it now\n",
    "for i in [\"RestingBP\", \"Cholesterol\", \"FastingBS\", \"MaxHR\", \"Oldpeak\"]:\n",
    "    X_train[i+\"-Scaled\"] = (X_train[i] - X_train[i].mean()) / X_train[i].std()\n",
    "    X_train.pop(i)\n",
    "X_train # ''-Scaled columns added and original columns removed"
   ],
   "metadata": {
    "collapsed": false,
    "pycharm": {
     "name": "#%%\n"
    }
   }
  },
  {
   "cell_type": "code",
   "execution_count": 8,
   "outputs": [
    {
     "data": {
      "text/plain": "     Age Sex ChestPainType RestingECG ExerciseAngina ST_Slope  \\\n795   42   M           NAP     Normal              N     Down   \n25    36   M           NAP     Normal              N       Up   \n84    56   M           ASY     Normal              Y     Flat   \n10    37   F           NAP     Normal              N       Up   \n344   51   M           ASY     Normal              N     Flat   \n..   ...  ..           ...        ...            ...      ...   \n106   48   F           ASY         ST              N       Up   \n270   45   M           ASY     Normal              N       Up   \n860   60   M           ASY     Normal              Y       Up   \n435   60   M           ASY         ST              Y       Up   \n102   40   F           ASY     Normal              N     Flat   \n\n     RestingBP-MinMax  Cholesterol-MinMax  FastingBS-MinMax  MaxHR-MinMax  \\\n795              0.60            0.398010               1.0      0.943662   \n25               0.65            0.346600               0.0      0.830986   \n84               0.75            0.353234               1.0      0.457746   \n10               0.65            0.349917               0.0      0.577465   \n344              0.60            0.000000               1.0      0.309859   \n..                ...                 ...               ...           ...   \n106              0.60            0.421227               0.0      0.352113   \n270              0.60            0.373134               0.0      0.563380   \n860              0.65            0.419569               0.0      0.591549   \n435              0.76            0.000000               0.0      0.408451   \n102              0.75            0.650083               0.0      0.492958   \n\n     Oldpeak-MinMax  \n795        0.386364  \n25         0.295455  \n84         0.409091  \n10         0.295455  \n344        0.295455  \n..              ...  \n106        0.295455  \n270        0.295455  \n860        0.454545  \n435        0.295455  \n102        0.522727  \n\n[734 rows x 11 columns]",
      "text/html": "<div>\n<style scoped>\n    .dataframe tbody tr th:only-of-type {\n        vertical-align: middle;\n    }\n\n    .dataframe tbody tr th {\n        vertical-align: top;\n    }\n\n    .dataframe thead th {\n        text-align: right;\n    }\n</style>\n<table border=\"1\" class=\"dataframe\">\n  <thead>\n    <tr style=\"text-align: right;\">\n      <th></th>\n      <th>Age</th>\n      <th>Sex</th>\n      <th>ChestPainType</th>\n      <th>RestingECG</th>\n      <th>ExerciseAngina</th>\n      <th>ST_Slope</th>\n      <th>RestingBP-MinMax</th>\n      <th>Cholesterol-MinMax</th>\n      <th>FastingBS-MinMax</th>\n      <th>MaxHR-MinMax</th>\n      <th>Oldpeak-MinMax</th>\n    </tr>\n  </thead>\n  <tbody>\n    <tr>\n      <th>795</th>\n      <td>42</td>\n      <td>M</td>\n      <td>NAP</td>\n      <td>Normal</td>\n      <td>N</td>\n      <td>Down</td>\n      <td>0.60</td>\n      <td>0.398010</td>\n      <td>1.0</td>\n      <td>0.943662</td>\n      <td>0.386364</td>\n    </tr>\n    <tr>\n      <th>25</th>\n      <td>36</td>\n      <td>M</td>\n      <td>NAP</td>\n      <td>Normal</td>\n      <td>N</td>\n      <td>Up</td>\n      <td>0.65</td>\n      <td>0.346600</td>\n      <td>0.0</td>\n      <td>0.830986</td>\n      <td>0.295455</td>\n    </tr>\n    <tr>\n      <th>84</th>\n      <td>56</td>\n      <td>M</td>\n      <td>ASY</td>\n      <td>Normal</td>\n      <td>Y</td>\n      <td>Flat</td>\n      <td>0.75</td>\n      <td>0.353234</td>\n      <td>1.0</td>\n      <td>0.457746</td>\n      <td>0.409091</td>\n    </tr>\n    <tr>\n      <th>10</th>\n      <td>37</td>\n      <td>F</td>\n      <td>NAP</td>\n      <td>Normal</td>\n      <td>N</td>\n      <td>Up</td>\n      <td>0.65</td>\n      <td>0.349917</td>\n      <td>0.0</td>\n      <td>0.577465</td>\n      <td>0.295455</td>\n    </tr>\n    <tr>\n      <th>344</th>\n      <td>51</td>\n      <td>M</td>\n      <td>ASY</td>\n      <td>Normal</td>\n      <td>N</td>\n      <td>Flat</td>\n      <td>0.60</td>\n      <td>0.000000</td>\n      <td>1.0</td>\n      <td>0.309859</td>\n      <td>0.295455</td>\n    </tr>\n    <tr>\n      <th>...</th>\n      <td>...</td>\n      <td>...</td>\n      <td>...</td>\n      <td>...</td>\n      <td>...</td>\n      <td>...</td>\n      <td>...</td>\n      <td>...</td>\n      <td>...</td>\n      <td>...</td>\n      <td>...</td>\n    </tr>\n    <tr>\n      <th>106</th>\n      <td>48</td>\n      <td>F</td>\n      <td>ASY</td>\n      <td>ST</td>\n      <td>N</td>\n      <td>Up</td>\n      <td>0.60</td>\n      <td>0.421227</td>\n      <td>0.0</td>\n      <td>0.352113</td>\n      <td>0.295455</td>\n    </tr>\n    <tr>\n      <th>270</th>\n      <td>45</td>\n      <td>M</td>\n      <td>ASY</td>\n      <td>Normal</td>\n      <td>N</td>\n      <td>Up</td>\n      <td>0.60</td>\n      <td>0.373134</td>\n      <td>0.0</td>\n      <td>0.563380</td>\n      <td>0.295455</td>\n    </tr>\n    <tr>\n      <th>860</th>\n      <td>60</td>\n      <td>M</td>\n      <td>ASY</td>\n      <td>Normal</td>\n      <td>Y</td>\n      <td>Up</td>\n      <td>0.65</td>\n      <td>0.419569</td>\n      <td>0.0</td>\n      <td>0.591549</td>\n      <td>0.454545</td>\n    </tr>\n    <tr>\n      <th>435</th>\n      <td>60</td>\n      <td>M</td>\n      <td>ASY</td>\n      <td>ST</td>\n      <td>Y</td>\n      <td>Up</td>\n      <td>0.76</td>\n      <td>0.000000</td>\n      <td>0.0</td>\n      <td>0.408451</td>\n      <td>0.295455</td>\n    </tr>\n    <tr>\n      <th>102</th>\n      <td>40</td>\n      <td>F</td>\n      <td>ASY</td>\n      <td>Normal</td>\n      <td>N</td>\n      <td>Flat</td>\n      <td>0.75</td>\n      <td>0.650083</td>\n      <td>0.0</td>\n      <td>0.492958</td>\n      <td>0.522727</td>\n    </tr>\n  </tbody>\n</table>\n<p>734 rows × 11 columns</p>\n</div>"
     },
     "execution_count": 8,
     "metadata": {},
     "output_type": "execute_result"
    }
   ],
   "source": [
    "# Feature Preprocessing\n",
    "# 2. MinMax Normalization (subtract min and divide by max - min). For example X_train['Age-MinMax'] = (X_train['Age'] - min) / (max - min)\n",
    "X_train, X_test, y_train, y_test = train_test_split(X, y, test_size=0.20, random_state=42) # We changed X_train for the previous problem, so we will restore it now\n",
    "for i in [\"RestingBP\", \"Cholesterol\", \"FastingBS\", \"MaxHR\", \"Oldpeak\"]:\n",
    "    X_train[i+\"-MinMax\"] = (X_train[i] - X_train[i].min()) / (X_train[i].max() - X_train[i].min())\n",
    "    X_train.pop(i)\n",
    "X_train # ''-MinMax columns added and original columns removed"
   ],
   "metadata": {
    "collapsed": false,
    "pycharm": {
     "name": "#%%\n"
    }
   }
  },
  {
   "cell_type": "code",
   "execution_count": 12,
   "outputs": [
    {
     "name": "stdout",
     "output_type": "stream",
     "text": [
      "[1, 1, 0, 1, 0, 0, 0, 0, 1, 1, 1, 1, 1, 1, 1, 0, 0, 1, 0, 0, 1, 0, 1, 0, 0, 1, 0, 1, 1, 1, 1, 0, 0, 1, 1, 1, 1, 0, 0, 1, 0, 1, 0, 0, 1, 1, 1, 0, 1, 0, 0, 0, 0, 0, 0, 0, 1, 1, 1, 0, 0, 0, 1, 0, 0, 0, 1, 0, 0, 1, 1, 0, 1, 0, 0, 0, 1, 0, 1, 0, 1, 1, 1, 0, 0, 0, 0, 0, 1, 0, 0, 1, 1, 0, 0, 0, 0, 1, 1, 1, 0, 1, 1, 1, 1, 1, 1, 1, 1, 0, 1, 1, 0, 1, 1, 0, 0, 0, 0, 0, 1, 0, 0, 1, 1, 0, 0, 0, 0, 0, 1, 0, 1, 0, 0, 0, 0, 0, 0, 0, 0, 0, 0, 1, 1, 1, 0, 0, 1, 1, 0, 0, 0, 1, 0, 1, 1, 1, 1, 1, 1, 0, 1, 1, 0, 1, 1, 0, 0, 1, 0, 1, 0, 0, 1, 1, 0, 1, 0, 0, 0, 0, 0, 1, 0, 0, 1, 0, 0, 1, 0, 1, 0, 1, 0, 0, 1, 1, 0, 0, 0, 1, 0, 1, 0, 1, 1, 1, 0, 1, 1, 1, 0, 0, 0, 0, 1, 0, 1, 1, 0, 0, 1, 1, 1, 1, 1, 1, 1, 1, 0, 1, 1, 0, 0, 1, 1, 1, 1, 0, 0, 0, 0, 1, 0, 0, 0, 0, 1, 0, 1, 0, 0, 1, 1, 0, 0, 1, 0, 1, 0, 0, 0, 1, 1, 1, 0, 0, 0, 1, 1, 0, 0, 1, 1, 0, 0, 0, 0, 0, 1, 1, 0, 0, 1, 1, 0, 0, 1, 1, 0, 1, 1, 0, 0, 1, 0, 1, 0, 0, 1, 0, 1, 0, 1, 1, 0, 1, 0, 0, 1, 0, 0, 1, 1, 0, 0, 1, 0, 1, 1, 0, 1, 0, 0, 0, 0, 1, 0, 1, 1, 0, 0, 1, 1, 0, 0, 0, 0, 1, 1, 0, 0, 1, 1, 0, 0, 1, 1, 1, 1, 1, 0, 0, 0, 0, 1, 0, 1, 0, 0, 0, 0, 1, 0, 0, 1, 1, 1, 0, 1, 1, 0, 1, 0, 0, 1, 0, 1, 0, 1, 0, 0, 1, 0, 1, 0, 1, 1, 1, 0, 1, 1, 1, 1, 1, 0, 1, 0, 1, 0, 1, 0, 1, 0, 1, 1, 0, 0, 1, 1, 0, 1, 1, 1, 1, 1, 1, 1, 0, 1, 1, 0, 1, 1, 1, 0, 0, 1, 0, 1, 0, 1, 0, 1, 1, 0, 0, 0, 1, 1, 1, 0, 1, 0, 0, 1, 0, 0, 0, 1, 1, 1, 0, 1, 0, 0, 0, 1, 1, 1, 0, 1, 0, 1, 1, 0, 1, 1, 0, 0, 0, 0, 0, 1, 1, 1, 1, 0, 0, 1, 0, 0, 1, 1, 1, 0, 1, 0, 1, 0, 1, 1, 0, 1, 1, 0, 1, 1, 1, 0, 0, 1, 1, 0, 0, 1, 0, 1, 1, 0, 0, 0, 1, 0, 1, 0, 0, 0, 1, 1, 1, 1, 1, 0, 1, 0, 1, 1, 0, 0, 1, 1, 1, 0, 1, 1, 0, 0, 1, 0, 0, 1, 1, 1, 1, 0, 1, 1, 1, 0, 0, 0, 0, 1, 1, 0, 1, 1, 0, 1, 1, 1, 1, 1, 0, 1, 0, 1, 1, 0, 1, 0, 0, 1, 1, 0, 0, 0, 1, 0, 1, 1, 0, 1, 1, 0, 1, 1, 1, 0, 0, 1, 1, 0, 1, 1, 0, 0, 0, 1, 1, 1, 1, 1, 1, 0, 0, 1, 0, 0, 1, 0, 1, 1, 0, 0, 1, 1, 1, 0, 1, 1, 1, 1, 1, 0, 0, 1, 0, 1, 1, 0, 1, 0, 1, 0, 0, 1, 1, 1, 1, 0, 0, 1, 1, 1, 1, 1, 0, 1, 0, 1, 1, 1, 1, 1, 1, 1, 1, 1, 0, 0, 0, 1, 1, 1, 0, 1, 1, 1, 0, 0, 0, 0, 1, 0, 1, 1, 1, 0, 1, 0, 1, 0, 0, 1, 1, 0, 1, 0, 0, 1, 0, 0, 0, 1, 1, 1, 0, 1, 1, 0, 0, 1, 0, 0, 1, 0, 0, 0, 1, 1, 0, 0, 0, 1, 1, 0, 1, 0, 1, 0, 0, 1, 0, 1, 1, 0, 0, 1, 1, 0, 0]\n"
     ]
    }
   ],
   "source": [
    "# Feature Engineering\n",
    "# Create at least 5 custom features as functions of other features ---> first custom feature\n",
    "# A binary feature representing High Heart Rate Custom-BinaryHighMaxHR\n",
    "X_train, X_test, y_train, y_test = train_test_split(X, y, test_size=0.20, random_state=42) # We changed X_train for the previous problem, so we will restore it now\n",
    "averageHeartRate, Custom_BinaryHighMaxHR = X_train[\"MaxHR\"].mean(), [] # Assuming everyone with a max heart rate over the average max heart rate has high max heart rate\n",
    "for i in X_train[\"MaxHR\"]:\n",
    "    if i > averageHeartRate:\n",
    "        Custom_BinaryHighMaxHR.append(1)\n",
    "    else:\n",
    "        Custom_BinaryHighMaxHR.append(0)\n",
    "print(Custom_BinaryHighMaxHR) # Printing out custom feature"
   ],
   "metadata": {
    "collapsed": false,
    "pycharm": {
     "name": "#%%\n"
    }
   }
  },
  {
   "cell_type": "code",
   "execution_count": 10,
   "outputs": [],
   "source": [],
   "metadata": {
    "collapsed": false,
    "pycharm": {
     "name": "#%%\n"
    }
   }
  }
 ],
 "metadata": {
  "kernelspec": {
   "display_name": "Python 3 (ipykernel)",
   "language": "python",
   "name": "python3"
  },
  "language_info": {
   "codemirror_mode": {
    "name": "ipython",
    "version": 3
   },
   "file_extension": ".py",
   "mimetype": "text/x-python",
   "name": "python",
   "nbconvert_exporter": "python",
   "pygments_lexer": "ipython3",
   "version": "3.7.0"
  }
 },
 "nbformat": 4,
 "nbformat_minor": 2
}