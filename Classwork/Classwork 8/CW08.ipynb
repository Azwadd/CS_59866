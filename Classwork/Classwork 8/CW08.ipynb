{
 "cells": [
  {
   "cell_type": "code",
   "execution_count": 99,
   "metadata": {},
   "outputs": [],
   "source": [
    "import numpy as np\n",
    "import pandas as pd\n",
    "import matplotlib as plt\n",
    "from torch import torch, nn\n",
    "from sklearn.preprocessing import StandardScaler\n",
    "from sklearn.model_selection import train_test_split"
   ]
  },
  {
   "cell_type": "code",
   "execution_count": 100,
   "metadata": {},
   "outputs": [
    {
     "data": {
      "text/plain": [
       "True"
      ]
     },
     "execution_count": 100,
     "metadata": {},
     "output_type": "execute_result"
    }
   ],
   "source": [
    "torch.cuda.is_available()"
   ]
  },
  {
   "cell_type": "code",
   "execution_count": 101,
   "metadata": {},
   "outputs": [
    {
     "data": {
      "text/plain": [
       "'NVIDIA GeForce GTX 1080'"
      ]
     },
     "execution_count": 101,
     "metadata": {},
     "output_type": "execute_result"
    }
   ],
   "source": [
    "torch.cuda.get_device_name()"
   ]
  },
  {
   "cell_type": "code",
   "execution_count": 102,
   "metadata": {},
   "outputs": [
    {
     "data": {
      "text/plain": [
       "'cuda'"
      ]
     },
     "execution_count": 102,
     "metadata": {},
     "output_type": "execute_result"
    }
   ],
   "source": [
    "device = \"cuda\" if torch.cuda.is_available() else \"cpu\"\n",
    "device"
   ]
  },
  {
   "cell_type": "code",
   "execution_count": null,
   "metadata": {},
   "outputs": [],
   "source": [
    "# Load the heart disease dataset:\n",
    "columns = ['Age', 'Oldpeak', 'MaxHR', 'HeartDisease']\n",
    "heart_disease_dataframe = pd.read_csv(\"../../Data/heart.csv\")[columns]\n",
    "\n",
    "# Select out X and Y\n",
    "X = heart_disease_dataframe[['Age', 'Oldpeak', 'MaxHR']].values\n",
    "y = heart_disease_dataframe['HeartDisease'].values\n",
    "\n",
    "# Apply standard scaler to X.\n",
    "X = StandardScaler().fit_transform(X)\n",
    "X_train, X_test, y_train, y_test = train_test_split(X, y, test_size=0.30, random_state=42)\n",
    "\n",
    "X_train_tensor = torch.Tensor(torch.from_numpy(X_train.astype(np.float32)))\n",
    "y_train_tensor = torch.Tensor(torch.from_numpy(y_train.astype(np.float32))).reshape(-1,1)\n",
    "X_test_tensor = torch.Tensor(torch.from_numpy(X_test.astype(np.float32)))\n",
    "y_test_tensor = torch.Tensor(torch.from_numpy(y_test.astype(np.float32))).reshape(-1,1)"
   ]
  },
  {
   "cell_type": "code",
   "execution_count": 114,
   "metadata": {},
   "outputs": [
    {
     "ename": "TypeError",
     "evalue": "'int' object is not subscriptable",
     "output_type": "error",
     "traceback": [
      "\u001b[1;31m---------------------------------------------------------------------------\u001b[0m",
      "\u001b[1;31mTypeError\u001b[0m                                 Traceback (most recent call last)",
      "\u001b[1;32mc:\\Users\\azwad\\Documents\\CS_59866\\Classwork\\Classwork 8\\CW08.ipynb Cell 6'\u001b[0m in \u001b[0;36m<cell line: 16>\u001b[1;34m()\u001b[0m\n\u001b[0;32m     <a href='vscode-notebook-cell:/c%3A/Users/azwad/Documents/CS_59866/Classwork/Classwork%208/CW08.ipynb#ch0000013?line=11'>12</a>\u001b[0m         z2 \u001b[39m=\u001b[39m \u001b[39mself\u001b[39m\u001b[39m.\u001b[39mlinear2(a1)\n\u001b[0;32m     <a href='vscode-notebook-cell:/c%3A/Users/azwad/Documents/CS_59866/Classwork/Classwork%208/CW08.ipynb#ch0000013?line=12'>13</a>\u001b[0m         \u001b[39mreturn\u001b[39;00m \u001b[39mself\u001b[39m\u001b[39m.\u001b[39moutput(z2)\n\u001b[1;32m---> <a href='vscode-notebook-cell:/c%3A/Users/azwad/Documents/CS_59866/Classwork/Classwork%208/CW08.ipynb#ch0000013?line=15'>16</a>\u001b[0m model \u001b[39m=\u001b[39m NN(\u001b[39mlen\u001b[39;49m(X_train_tensor)[\u001b[39m0\u001b[39;49m])\n\u001b[0;32m     <a href='vscode-notebook-cell:/c%3A/Users/azwad/Documents/CS_59866/Classwork/Classwork%208/CW08.ipynb#ch0000013?line=16'>17</a>\u001b[0m loss_function \u001b[39m=\u001b[39m torch\u001b[39m.\u001b[39mnn\u001b[39m.\u001b[39mBCELoss() \n\u001b[0;32m     <a href='vscode-notebook-cell:/c%3A/Users/azwad/Documents/CS_59866/Classwork/Classwork%208/CW08.ipynb#ch0000013?line=17'>18</a>\u001b[0m optimizer \u001b[39m=\u001b[39m torch\u001b[39m.\u001b[39moptim\u001b[39m.\u001b[39mSGD(model\u001b[39m.\u001b[39mparameters(), lr\u001b[39m=\u001b[39m\u001b[39m1e-1\u001b[39m)\n",
      "\u001b[1;31mTypeError\u001b[0m: 'int' object is not subscriptable"
     ]
    }
   ],
   "source": [
    "learning_rate = 0.01\n",
    "num_classes = 10\n",
    "class SimpleNeuralNet(nn.Module):\n",
    "    def __init__(self):\n",
    "        super().__init__()\n",
    "        self.linear = torch.nn.Linear(28**2, 20)\n",
    "        self.linear2 = torch.nn.Linear(20, num_classes)\n",
    "\n",
    "\n",
    "    def forward(self, x):\n",
    "        x = x.view(-1, 28**2)\n",
    "        z1 = self.linear(x)\n",
    "        x2 = F.relu(z1)\n",
    "        z2 = self.linear2(x2)\n",
    "        return F.log_softmax(z2, dim=1) # Warning if no dimensions for some reason\n",
    "\n",
    "nn_model = SimpleNeuralNet().cuda()\n",
    "nn_model_optimizer = optim.SGD(nn_model.parameters(), lr=learning_rate)\n",
    "summary(nn_model, (1, 28, 28))"
   ]
  }
 ],
 "metadata": {
  "interpreter": {
   "hash": "7a362609693cb9839e983d4cea61c4c686f9ea5a2aba91f1237057372adba688"
  },
  "kernelspec": {
   "display_name": "Python 3.9.6 64-bit ('3.9.6')",
   "language": "python",
   "name": "python3"
  },
  "language_info": {
   "codemirror_mode": {
    "name": "ipython",
    "version": 3
   },
   "file_extension": ".py",
   "mimetype": "text/x-python",
   "name": "python",
   "nbconvert_exporter": "python",
   "pygments_lexer": "ipython3",
   "version": "3.9.6"
  },
  "orig_nbformat": 4
 },
 "nbformat": 4,
 "nbformat_minor": 2
}
