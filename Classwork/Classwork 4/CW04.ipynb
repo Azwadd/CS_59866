{
 "cells": [
  {
   "cell_type": "code",
   "execution_count": 87,
   "metadata": {
    "collapsed": true
   },
   "outputs": [],
   "source": [
    "import numpy as np\n",
    "from sklearn.metrics import precision_recall_curve, roc_curve, auc, log_loss\n",
    "import matplotlib.pyplot as plt"
   ]
  },
  {
   "cell_type": "code",
   "execution_count": 88,
   "outputs": [],
   "source": [
    "y_true = np.array([1., 1., 1., 1., 1., 0., 0., 0., 0.])\n",
    "y_predicted = np.array([.9, .8, .6, .3, .4, .51, .2, .1, .3])"
   ],
   "metadata": {
    "collapsed": false,
    "pycharm": {
     "name": "#%%\n"
    }
   }
  },
  {
   "cell_type": "code",
   "execution_count": 89,
   "outputs": [
    {
     "data": {
      "text/plain": "0.4842357917473723"
     },
     "execution_count": 89,
     "metadata": {},
     "output_type": "execute_result"
    }
   ],
   "source": [
    "log_loss(y_true, y_predicted)"
   ],
   "metadata": {
    "collapsed": false,
    "pycharm": {
     "name": "#%%\n"
    }
   }
  },
  {
   "cell_type": "code",
   "execution_count": 90,
   "outputs": [
    {
     "data": {
      "text/plain": "0.455"
     },
     "execution_count": 90,
     "metadata": {},
     "output_type": "execute_result"
    }
   ],
   "source": [
    "auc(y_true, y_predicted)"
   ],
   "metadata": {
    "collapsed": false,
    "pycharm": {
     "name": "#%%\n"
    }
   }
  },
  {
   "cell_type": "code",
   "execution_count": 91,
   "outputs": [
    {
     "name": "stdout",
     "output_type": "stream",
     "text": [
      "[0.   0.   0.   0.25 0.25 0.5  1.  ]\n",
      "[0.  0.2 0.6 0.6 0.8 1.  1. ]\n",
      "[1.9  0.9  0.6  0.51 0.4  0.3  0.1 ]\n"
     ]
    },
    {
     "data": {
      "text/plain": "0.875"
     },
     "execution_count": 91,
     "metadata": {},
     "output_type": "execute_result"
    },
    {
     "data": {
      "text/plain": "<Figure size 432x288 with 1 Axes>",
      "image/png": "[encoded data removed]"
     },
     "metadata": {
      "needs_background": "light"
     },
     "output_type": "display_data"
    }
   ],
   "source": [
    "fpr, tpr, thresholds = roc_curve(y_true, y_predicted)\n",
    "print(fpr)\n",
    "print(tpr)\n",
    "print(thresholds)\n",
    "plt.plot(fpr, tpr)\n",
    "auc(fpr, tpr)"
   ],
   "metadata": {
    "collapsed": false,
    "pycharm": {
     "name": "#%%\n"
    }
   }
  },
  {
   "cell_type": "code",
   "execution_count": 92,
   "outputs": [
    {
     "name": "stdout",
     "output_type": "stream",
     "text": [
      "[0.71428571 0.8        0.75       1.         1.         1.\n",
      " 1.        ]\n",
      "[1.  0.8 0.6 0.6 0.4 0.2 0. ]\n",
      "[0.3  0.4  0.51 0.6  0.8  0.9 ]\n"
     ]
    }
   ],
   "source": [
    "precision, recall, thresholds = precision_recall_curve(y_true, y_predicted)\n",
    "print(precision)\n",
    "print(recall)\n",
    "print(thresholds)"
   ],
   "metadata": {
    "collapsed": false,
    "pycharm": {
     "name": "#%%\n"
    }
   }
  },
  {
   "cell_type": "code",
   "execution_count": 93,
   "outputs": [],
   "source": [
    "def classifier(y_true, y_predicted, n, threshold):\n",
    "    TP, FN, FP, TN = 0, 0, 0, 0\n",
    "    for i in range(n):\n",
    "        if (y_true[i] > threshold) & (y_predicted[i] > threshold):\n",
    "           TP += 1\n",
    "        if (y_true[i] < threshold) & (y_predicted[i] > threshold):\n",
    "           FP += 1\n",
    "        if (y_true[i] < threshold) & (y_predicted[i] < threshold):\n",
    "           TN += 1\n",
    "        if (y_true[i] > threshold) & (y_predicted[i] < threshold):\n",
    "           FN += 1\n",
    "    return TP, FN, FP, TN"
   ],
   "metadata": {
    "collapsed": false,
    "pycharm": {
     "name": "#%%\n"
    }
   }
  },
  {
   "cell_type": "code",
   "execution_count": 94,
   "outputs": [
    {
     "name": "stdout",
     "output_type": "stream",
     "text": [
      "3 2 1 3\n",
      "ACC (accuracy): 0.6666666666666666\n",
      "TPR (recall): 0.6\n",
      "FNR: 0.4\n",
      "TNR: 0.75\n",
      "FPR: 0.25\n",
      "PPV or Precision: 0.75\n",
      "FDR: 0.25\n"
     ]
    }
   ],
   "source": [
    "TP, FN, FP, TN = classifier(y_true, y_predicted, len(y_true), .5)\n",
    "print(TP, FN, FP, TN)\n",
    "print(\"ACC (accuracy):\", (TP + TN)/(TP + TN + FP + FN))\n",
    "print(\"TPR (recall):\", TP/(TP+FN))\n",
    "print(\"FNR:\", 1 - TP/(TP+FN))\n",
    "print(\"TNR:\", TN/(TN+FP))\n",
    "print(\"FPR:\", 1- TN/(TN+FP))\n",
    "print(\"PPV or Precision:\", TP/ (TP+FP))\n",
    "print(\"FDR:\", 1 - TP/ (TP+FP))"
   ],
   "metadata": {
    "collapsed": false,
    "pycharm": {
     "name": "#%%\n"
    }
   }
  },
  {
   "cell_type": "code",
   "execution_count": 95,
   "outputs": [
    {
     "name": "stdout",
     "output_type": "stream",
     "text": [
      "2 3 0 4\n",
      "ACC (accuracy): 0.6666666666666666\n",
      "TPR (recall): 0.4\n",
      "FNR: 0.6\n",
      "TNR: 1.0\n",
      "FPR: 0.0\n",
      "PPV or Precision: 1.0\n",
      "FDR: 0.0\n"
     ]
    }
   ],
   "source": [
    "TP, FN, FP, TN = classifier(y_true, y_predicted, len(y_true), .75)\n",
    "print(TP, FN, FP, TN)\n",
    "print(\"ACC (accuracy):\", (TP + TN)/(TP + TN + FP + FN))\n",
    "print(\"TPR (recall):\", TP/(TP+FN))\n",
    "print(\"FNR:\", 1 - TP/(TP+FN))\n",
    "print(\"TNR:\", TN/(TN+FP))\n",
    "print(\"FPR:\", 1- TN/(TN+FP))\n",
    "print(\"PPV or Precision:\", TP/ (TP+FP))\n",
    "print(\"FDR:\", 1 - TP/ (TP+FP))"
   ],
   "metadata": {
    "collapsed": false,
    "pycharm": {
     "name": "#%%\n"
    }
   }
  }
 ],
 "metadata": {
  "kernelspec": {
   "display_name": "Python 3",
   "language": "python",
   "name": "python3"
  },
  "language_info": {
   "codemirror_mode": {
    "name": "ipython",
    "version": 2
   },
   "file_extension": ".py",
   "mimetype": "text/x-python",
   "name": "python",
   "nbconvert_exporter": "python",
   "pygments_lexer": "ipython2",
   "version": "2.7.6"
  }
 },
 "nbformat": 4,
 "nbformat_minor": 0
}