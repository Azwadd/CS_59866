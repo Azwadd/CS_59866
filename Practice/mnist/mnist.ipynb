{
 "cells": [
  {
   "cell_type": "code",
   "execution_count": 35,
   "metadata": {},
   "outputs": [],
   "source": [
    "# Imports\n",
    "import torch\n",
    "from torch import nn\n",
    "from torch import optim\n",
    "from torchvision import datasets, transforms\n",
    "from torch.utils.data import random_split, DataLoader"
   ]
  },
  {
   "cell_type": "code",
   "execution_count": 36,
   "metadata": {},
   "outputs": [],
   "source": [
    "# Model\n",
    "neuralNetwork = nn.Sequential(\n",
    "    nn.Linear(28 * 28, 64),\n",
    "    nn.ReLU(),\n",
    "    nn.Linear(64, 64),\n",
    "    nn.ReLU(),\n",
    "    nn.Linear(64, 10)\n",
    ")"
   ]
  },
  {
   "cell_type": "code",
   "execution_count": 37,
   "metadata": {},
   "outputs": [],
   "source": [
    "# Define optimizer\n",
    "optimizer = optim.SGD(neuralNetwork.parameters(), lr=1e-2)"
   ]
  },
  {
   "cell_type": "code",
   "execution_count": 38,
   "metadata": {},
   "outputs": [],
   "source": [
    "# Define loss function\n",
    "loss = nn.CrossEntropyLoss"
   ]
  },
  {
   "cell_type": "code",
   "execution_count": 39,
   "metadata": {},
   "outputs": [],
   "source": [
    "# Preparing the Data\n",
    "data = datasets.MNIST(\"../../Data\", train=True, download=True, transform=transforms.ToTensor())\n",
    "training, validation = random_split(data, [55000, 5000])\n",
    "train_loader = DataLoader(training, batch_size=32)\n",
    "val_loader = DataLoader(validation, batch_size=32)"
   ]
  },
  {
   "cell_type": "code",
   "execution_count": 41,
   "metadata": {},
   "outputs": [
    {
     "ename": "RuntimeError",
     "evalue": "Boolean value of Tensor with more than one value is ambiguous",
     "output_type": "error",
     "traceback": [
      "\u001b[1;31m---------------------------------------------------------------------------\u001b[0m",
      "\u001b[1;31mRuntimeError\u001b[0m                              Traceback (most recent call last)",
      "\u001b[1;32mc:\\Users\\azwad\\Documents\\CS_59866\\Practice\\mnist\\mnist.ipynb Cell 6'\u001b[0m in \u001b[0;36m<cell line: 3>\u001b[1;34m()\u001b[0m\n\u001b[0;32m     <a href='vscode-notebook-cell:/c%3A/Users/azwad/Documents/CS_59866/Practice/mnist/mnist.ipynb#ch0000004?line=10'>11</a>\u001b[0m     model \u001b[39m=\u001b[39m neuralNetwork(x)\n\u001b[0;32m     <a href='vscode-notebook-cell:/c%3A/Users/azwad/Documents/CS_59866/Practice/mnist/mnist.ipynb#ch0000004?line=11'>12</a>\u001b[0m \u001b[39m# Step 2: compute objective function\u001b[39;00m\n\u001b[1;32m---> <a href='vscode-notebook-cell:/c%3A/Users/azwad/Documents/CS_59866/Practice/mnist/mnist.ipynb#ch0000004?line=12'>13</a>\u001b[0m j \u001b[39m=\u001b[39m loss(model, y)\n\u001b[0;32m     <a href='vscode-notebook-cell:/c%3A/Users/azwad/Documents/CS_59866/Practice/mnist/mnist.ipynb#ch0000004?line=13'>14</a>\u001b[0m \u001b[39m# Step 3: gradients\u001b[39;00m\n\u001b[0;32m     <a href='vscode-notebook-cell:/c%3A/Users/azwad/Documents/CS_59866/Practice/mnist/mnist.ipynb#ch0000004?line=14'>15</a>\u001b[0m model\u001b[39m.\u001b[39mzero_grad()\n",
      "File \u001b[1;32m~\\.pyenv\\pyenv-win\\versions\\3.9.6\\lib\\site-packages\\torch\\nn\\modules\\loss.py:1158\u001b[0m, in \u001b[0;36mCrossEntropyLoss.__init__\u001b[1;34m(self, weight, size_average, ignore_index, reduce, reduction, label_smoothing)\u001b[0m\n\u001b[0;32m   <a href='file:///c%3A/Users/azwad/.pyenv/pyenv-win/versions/3.9.6/lib/site-packages/torch/nn/modules/loss.py?line=1155'>1156</a>\u001b[0m \u001b[39mdef\u001b[39;00m \u001b[39m__init__\u001b[39m(\u001b[39mself\u001b[39m, weight: Optional[Tensor] \u001b[39m=\u001b[39m \u001b[39mNone\u001b[39;00m, size_average\u001b[39m=\u001b[39m\u001b[39mNone\u001b[39;00m, ignore_index: \u001b[39mint\u001b[39m \u001b[39m=\u001b[39m \u001b[39m-\u001b[39m\u001b[39m100\u001b[39m,\n\u001b[0;32m   <a href='file:///c%3A/Users/azwad/.pyenv/pyenv-win/versions/3.9.6/lib/site-packages/torch/nn/modules/loss.py?line=1156'>1157</a>\u001b[0m              reduce\u001b[39m=\u001b[39m\u001b[39mNone\u001b[39;00m, reduction: \u001b[39mstr\u001b[39m \u001b[39m=\u001b[39m \u001b[39m'\u001b[39m\u001b[39mmean\u001b[39m\u001b[39m'\u001b[39m, label_smoothing: \u001b[39mfloat\u001b[39m \u001b[39m=\u001b[39m \u001b[39m0.0\u001b[39m) \u001b[39m-\u001b[39m\u001b[39m>\u001b[39m \u001b[39mNone\u001b[39;00m:\n\u001b[1;32m-> <a href='file:///c%3A/Users/azwad/.pyenv/pyenv-win/versions/3.9.6/lib/site-packages/torch/nn/modules/loss.py?line=1157'>1158</a>\u001b[0m     \u001b[39msuper\u001b[39;49m(CrossEntropyLoss, \u001b[39mself\u001b[39;49m)\u001b[39m.\u001b[39;49m\u001b[39m__init__\u001b[39;49m(weight, size_average, reduce, reduction)\n\u001b[0;32m   <a href='file:///c%3A/Users/azwad/.pyenv/pyenv-win/versions/3.9.6/lib/site-packages/torch/nn/modules/loss.py?line=1158'>1159</a>\u001b[0m     \u001b[39mself\u001b[39m\u001b[39m.\u001b[39mignore_index \u001b[39m=\u001b[39m ignore_index\n\u001b[0;32m   <a href='file:///c%3A/Users/azwad/.pyenv/pyenv-win/versions/3.9.6/lib/site-packages/torch/nn/modules/loss.py?line=1159'>1160</a>\u001b[0m     \u001b[39mself\u001b[39m\u001b[39m.\u001b[39mlabel_smoothing \u001b[39m=\u001b[39m label_smoothing\n",
      "File \u001b[1;32m~\\.pyenv\\pyenv-win\\versions\\3.9.6\\lib\\site-packages\\torch\\nn\\modules\\loss.py:25\u001b[0m, in \u001b[0;36m_WeightedLoss.__init__\u001b[1;34m(self, weight, size_average, reduce, reduction)\u001b[0m\n\u001b[0;32m     <a href='file:///c%3A/Users/azwad/.pyenv/pyenv-win/versions/3.9.6/lib/site-packages/torch/nn/modules/loss.py?line=23'>24</a>\u001b[0m \u001b[39mdef\u001b[39;00m \u001b[39m__init__\u001b[39m(\u001b[39mself\u001b[39m, weight: Optional[Tensor] \u001b[39m=\u001b[39m \u001b[39mNone\u001b[39;00m, size_average\u001b[39m=\u001b[39m\u001b[39mNone\u001b[39;00m, reduce\u001b[39m=\u001b[39m\u001b[39mNone\u001b[39;00m, reduction: \u001b[39mstr\u001b[39m \u001b[39m=\u001b[39m \u001b[39m'\u001b[39m\u001b[39mmean\u001b[39m\u001b[39m'\u001b[39m) \u001b[39m-\u001b[39m\u001b[39m>\u001b[39m \u001b[39mNone\u001b[39;00m:\n\u001b[1;32m---> <a href='file:///c%3A/Users/azwad/.pyenv/pyenv-win/versions/3.9.6/lib/site-packages/torch/nn/modules/loss.py?line=24'>25</a>\u001b[0m     \u001b[39msuper\u001b[39;49m(_WeightedLoss, \u001b[39mself\u001b[39;49m)\u001b[39m.\u001b[39;49m\u001b[39m__init__\u001b[39;49m(size_average, reduce, reduction)\n\u001b[0;32m     <a href='file:///c%3A/Users/azwad/.pyenv/pyenv-win/versions/3.9.6/lib/site-packages/torch/nn/modules/loss.py?line=25'>26</a>\u001b[0m     \u001b[39mself\u001b[39m\u001b[39m.\u001b[39mregister_buffer(\u001b[39m'\u001b[39m\u001b[39mweight\u001b[39m\u001b[39m'\u001b[39m, weight)\n\u001b[0;32m     <a href='file:///c%3A/Users/azwad/.pyenv/pyenv-win/versions/3.9.6/lib/site-packages/torch/nn/modules/loss.py?line=26'>27</a>\u001b[0m     \u001b[39mself\u001b[39m\u001b[39m.\u001b[39mweight: Optional[Tensor]\n",
      "File \u001b[1;32m~\\.pyenv\\pyenv-win\\versions\\3.9.6\\lib\\site-packages\\torch\\nn\\modules\\loss.py:18\u001b[0m, in \u001b[0;36m_Loss.__init__\u001b[1;34m(self, size_average, reduce, reduction)\u001b[0m\n\u001b[0;32m     <a href='file:///c%3A/Users/azwad/.pyenv/pyenv-win/versions/3.9.6/lib/site-packages/torch/nn/modules/loss.py?line=15'>16</a>\u001b[0m \u001b[39msuper\u001b[39m(_Loss, \u001b[39mself\u001b[39m)\u001b[39m.\u001b[39m\u001b[39m__init__\u001b[39m()\n\u001b[0;32m     <a href='file:///c%3A/Users/azwad/.pyenv/pyenv-win/versions/3.9.6/lib/site-packages/torch/nn/modules/loss.py?line=16'>17</a>\u001b[0m \u001b[39mif\u001b[39;00m size_average \u001b[39mis\u001b[39;00m \u001b[39mnot\u001b[39;00m \u001b[39mNone\u001b[39;00m \u001b[39mor\u001b[39;00m reduce \u001b[39mis\u001b[39;00m \u001b[39mnot\u001b[39;00m \u001b[39mNone\u001b[39;00m:\n\u001b[1;32m---> <a href='file:///c%3A/Users/azwad/.pyenv/pyenv-win/versions/3.9.6/lib/site-packages/torch/nn/modules/loss.py?line=17'>18</a>\u001b[0m     \u001b[39mself\u001b[39m\u001b[39m.\u001b[39mreduction: \u001b[39mstr\u001b[39m \u001b[39m=\u001b[39m _Reduction\u001b[39m.\u001b[39;49mlegacy_get_string(size_average, reduce)\n\u001b[0;32m     <a href='file:///c%3A/Users/azwad/.pyenv/pyenv-win/versions/3.9.6/lib/site-packages/torch/nn/modules/loss.py?line=18'>19</a>\u001b[0m \u001b[39melse\u001b[39;00m:\n\u001b[0;32m     <a href='file:///c%3A/Users/azwad/.pyenv/pyenv-win/versions/3.9.6/lib/site-packages/torch/nn/modules/loss.py?line=19'>20</a>\u001b[0m     \u001b[39mself\u001b[39m\u001b[39m.\u001b[39mreduction \u001b[39m=\u001b[39m reduction\n",
      "File \u001b[1;32m~\\.pyenv\\pyenv-win\\versions\\3.9.6\\lib\\site-packages\\torch\\nn\\_reduction.py:35\u001b[0m, in \u001b[0;36mlegacy_get_string\u001b[1;34m(size_average, reduce, emit_warning)\u001b[0m\n\u001b[0;32m     <a href='file:///c%3A/Users/azwad/.pyenv/pyenv-win/versions/3.9.6/lib/site-packages/torch/nn/_reduction.py?line=31'>32</a>\u001b[0m \u001b[39mif\u001b[39;00m reduce \u001b[39mis\u001b[39;00m \u001b[39mNone\u001b[39;00m:\n\u001b[0;32m     <a href='file:///c%3A/Users/azwad/.pyenv/pyenv-win/versions/3.9.6/lib/site-packages/torch/nn/_reduction.py?line=32'>33</a>\u001b[0m     reduce \u001b[39m=\u001b[39m \u001b[39mTrue\u001b[39;00m\n\u001b[1;32m---> <a href='file:///c%3A/Users/azwad/.pyenv/pyenv-win/versions/3.9.6/lib/site-packages/torch/nn/_reduction.py?line=34'>35</a>\u001b[0m \u001b[39mif\u001b[39;00m size_average \u001b[39mand\u001b[39;00m reduce:\n\u001b[0;32m     <a href='file:///c%3A/Users/azwad/.pyenv/pyenv-win/versions/3.9.6/lib/site-packages/torch/nn/_reduction.py?line=35'>36</a>\u001b[0m     ret \u001b[39m=\u001b[39m \u001b[39m'\u001b[39m\u001b[39mmean\u001b[39m\u001b[39m'\u001b[39m\n\u001b[0;32m     <a href='file:///c%3A/Users/azwad/.pyenv/pyenv-win/versions/3.9.6/lib/site-packages/torch/nn/_reduction.py?line=36'>37</a>\u001b[0m \u001b[39melif\u001b[39;00m reduce:\n",
      "\u001b[1;31mRuntimeError\u001b[0m: Boolean value of Tensor with more than one value is ambiguous"
     ]
    }
   ],
   "source": [
    "# Training Loops\n",
    "num_epochs = 5\n",
    "for epoch in range(num_epochs):\n",
    "        losses = []\n",
    "        for batch in train_loader:\n",
    "            x, y = batch\n",
    "            # x: batch * 1 * 28 * 28\n",
    "            x = x.view(x.size(0), -1)\n",
    "            # Step 1: forward\n",
    "            with torch.no_grad():\n",
    "                model = neuralNetwork(x)\n",
    "            # Step 2: compute objective function\n",
    "            j = loss(model, y)\n",
    "            # Step 3: gradients\n",
    "            model.zero_grad()\n",
    "            # Step 4: partial derivatives\n",
    "            j.backwards()\n",
    "            # Step 5: che\n",
    "            optimizer.step()\n",
    "        losses.append(j.item)\n",
    "        print(f\"Epoch: {epoch+1}, Training loss: {torch.Tensor(j).mean():.2f}\")"
   ]
  }
 ],
 "metadata": {
  "interpreter": {
   "hash": "a20885855860f43dd802dc542a068440af96f2d726fe9d3c7bd3f3b41b01d2ca"
  },
  "kernelspec": {
   "display_name": "Python 3.9.6 64-bit ('3.9.6')",
   "language": "python",
   "name": "python3"
  },
  "language_info": {
   "codemirror_mode": {
    "name": "ipython",
    "version": 3
   },
   "file_extension": ".py",
   "mimetype": "text/x-python",
   "name": "python",
   "nbconvert_exporter": "python",
   "pygments_lexer": "ipython3",
   "version": "3.9.6"
  },
  "orig_nbformat": 4
 },
 "nbformat": 4,
 "nbformat_minor": 2
}
